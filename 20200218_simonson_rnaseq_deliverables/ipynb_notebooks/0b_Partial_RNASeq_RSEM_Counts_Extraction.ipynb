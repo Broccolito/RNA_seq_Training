{
 "cells": [
  {
   "cell_type": "markdown",
   "metadata": {},
   "source": [
    "<div class=\"alert alert-warning\">\n",
    "    <strong>Analyst Note: Fill In</strong><br />\n",
    "    Fill in the human-readable name of your project as a header, such as:\n",
    "    \n",
    "   > # Dr. Doe Human Patient Time-Series\n",
    "   \n",
    "</div>"
   ]
  },
  {
   "cell_type": "markdown",
   "metadata": {},
   "source": [
    "# RNASeq RSEM Counts Extraction"
   ]
  },
  {
   "cell_type": "markdown",
   "metadata": {},
   "source": [
    "<div class=\"alert alert-warning\">\n",
    "    <strong>Analyst Note: Fill In</strong><br />\n",
    "    Fill in the author attributions for your analysis, such as:\n",
    "    \n",
    "   > * Amanda Birmingham, CCBB (abirmingham@ucsd.edu)\n",
    "   > * Based on upstream analysis by Guorong Xu, CCBB (g1xu@ucsd.edu)\n",
    "</div>"
   ]
  },
  {
   "cell_type": "markdown",
   "metadata": {},
   "source": [
    "## Table of Contents\n",
    "* [Introduction](#Introduction)\n",
    "* [Parameter Input](#Parameter-Input)\n",
    "* [Library Import](#Library-Import)\n",
    "* [Counts Extraction](#Counts-Extraction)\n",
    "* [Citations](#Citations)\n",
    "* [Appendix: R Session Info](#Appendix:-R-Session-Info)\n",
    "\n",
    "## Introduction\n",
    "\n",
    "This notebook takes in results of the RSEM ([1](#Citations)) RNASeq transcript quantification method and extracts a per-sample-per-gene count file for use in future analyses.  It performs a partial subset of the work in the \"0b_Optional_RNASeq_RSEM_QC_and_Counts_Preparation.ipynb\" notebook."
   ]
  },
  {
   "cell_type": "markdown",
   "metadata": {},
   "source": [
    "[Table of Contents](#Table-of-Contents)\n",
    "\n",
    "## Parameter Input"
   ]
  },
  {
   "cell_type": "markdown",
   "metadata": {},
   "source": [
    "<div class=\"alert alert-warning\">\n",
    "<h4>Analyst note: Modify Code</h4>\n",
    "The values shown below are example settings, and should be overwritten with appropriate values for your analysis.\n",
    "</div>"
   ]
  },
  {
   "cell_type": "code",
   "execution_count": 1,
   "metadata": {},
   "outputs": [],
   "source": [
    "gDataDir = \"../inputs/\"\n",
    "gOutputCountsFilename = \"all_gene_counts.txt\""
   ]
  },
  {
   "cell_type": "markdown",
   "metadata": {},
   "source": [
    "<div class=\"alert alert-warning\">\n",
    "<h4>Analyst note: Info</h4>\n",
    "The values shown below are standard settings, and should NOT be changed without a clear reason and understanding of the consequences.\n",
    "</div>"
   ]
  },
  {
   "cell_type": "code",
   "execution_count": 2,
   "metadata": {},
   "outputs": [],
   "source": [
    "gOutputDir = \"../outputs\"\n",
    "gRsemGenesFp = file.path(gDataDir, \"all_genes_results.txt\")\n",
    "gOutputCountsFp = file.path(gOutputDir, gOutputCountsFilename)"
   ]
  },
  {
   "cell_type": "markdown",
   "metadata": {},
   "source": [
    "[Table of Contents](#Table-of-Contents)\n",
    "\n",
    "## Library Import\n",
    "\n",
    "Import the necessary R ([1](#Citations)) libraries:"
   ]
  },
  {
   "cell_type": "code",
   "execution_count": null,
   "metadata": {},
   "outputs": [],
   "source": [
    "# install.packages(\"splitstackshape\")"
   ]
  },
  {
   "cell_type": "code",
   "execution_count": null,
   "metadata": {},
   "outputs": [],
   "source": [
    "#library(IRdisplay)\n",
    "#library(splitstackshape)"
   ]
  },
  {
   "cell_type": "markdown",
   "metadata": {},
   "source": [
    "[Table of Contents](#Table-of-Contents)\n",
    "\n",
    "\n",
    "## Counts Extraction\n",
    "\n",
    "Extract raw counts column from RSEM output per sample. "
   ]
  },
  {
   "cell_type": "code",
   "execution_count": 3,
   "metadata": {},
   "outputs": [],
   "source": [
    "loadAndCleanStarRsemAllGeneResults = function(rsemGenesFp, sep=\"\\t\"){\n",
    "    rsemGenesDf = read.table(rsemGenesFp, header = TRUE, sep=sep, stringsAsFactors=FALSE)\n",
    "    geneCountsDf <- rsemGenesDf[,sapply(colnames(rsemGenesDf), function(x) any(grepl(\".results_expected_count\",x)))]\n",
    "    colnames(geneCountsDf) <- gsub(\".genes.results_expected_count\",\"\", colnames(geneCountsDf))\n",
    "    row.names(geneCountsDf) <- rsemGenesDf$gene_id   \n",
    "    return(geneCountsDf)\n",
    "}"
   ]
  },
  {
   "cell_type": "code",
   "execution_count": 4,
   "metadata": {},
   "outputs": [],
   "source": [
    "gUnorderedGeneCountsDf = loadAndCleanStarRsemAllGeneResults(gRsemGenesFp)"
   ]
  },
  {
   "cell_type": "code",
   "execution_count": 5,
   "metadata": {},
   "outputs": [
    {
     "data": {
      "text/html": [
       "<ol class=list-inline>\n",
       "\t<li>58721</li>\n",
       "\t<li>65</li>\n",
       "</ol>\n"
      ],
      "text/latex": [
       "\\begin{enumerate*}\n",
       "\\item 58721\n",
       "\\item 65\n",
       "\\end{enumerate*}\n"
      ],
      "text/markdown": [
       "1. 58721\n",
       "2. 65\n",
       "\n",
       "\n"
      ],
      "text/plain": [
       "[1] 58721    65"
      ]
     },
     "metadata": {},
     "output_type": "display_data"
    },
    {
     "data": {
      "text/html": [
       "<table>\n",
       "<thead><tr><th></th><th scope=col>EL20_S20_L004_R1_001</th><th scope=col>EL62_S62_L004_R1_001</th><th scope=col>EL60_S60_L004_R1_001</th><th scope=col>EL59_S59_L004_R1_001</th><th scope=col>EL61_S61_L004_R1_001</th><th scope=col>EL29_S29_L004_R1_001</th><th scope=col>EL49_S49_L004_R1_001</th><th scope=col>EL32_S32_L004_R1_001</th><th scope=col>EL51_S51_L004_R1_001</th><th scope=col>EL22_S22_L004_R1_001</th><th scope=col>⋯</th><th scope=col>EL6_S6_L004_R1_001</th><th scope=col>EL24_S24_L004_R1_001</th><th scope=col>EL10_S10_L004_R1_001</th><th scope=col>EL12_S12_L004_R1_001</th><th scope=col>EL34_S34_L004_R1_001</th><th scope=col>EL38_S38_L004_R1_001</th><th scope=col>EL58_S58_L004_R1_001</th><th scope=col>EL50_S50_L004_R1_001</th><th scope=col>EL44_S44_L004_R1_001</th><th scope=col>EL63_S63_L004_R1_001</th></tr></thead>\n",
       "<tbody>\n",
       "\t<tr><th scope=row>ENSG00000000003.14</th><td>   1.00</td><td>   2.00</td><td>   2.00</td><td>   4.00</td><td>   4.00</td><td>   0.00</td><td>   3.00</td><td>   2.00</td><td>   2.00</td><td>   4.00</td><td>⋯      </td><td>  1.00 </td><td>   3.00</td><td>   2.00</td><td>   0.00</td><td>   1.00</td><td>   4.00</td><td>   3.00</td><td>   0.00</td><td>   4.00</td><td>   4.00</td></tr>\n",
       "\t<tr><th scope=row>ENSG00000000005.5</th><td>   0.00</td><td>   0.00</td><td>   0.00</td><td>   0.00</td><td>   0.00</td><td>   0.00</td><td>   0.00</td><td>   0.00</td><td>   0.00</td><td>   0.00</td><td>⋯      </td><td>  0.00 </td><td>   0.00</td><td>   0.00</td><td>   0.00</td><td>   0.00</td><td>   0.00</td><td>   0.00</td><td>   0.00</td><td>   0.00</td><td>   0.00</td></tr>\n",
       "\t<tr><th scope=row>ENSG00000000419.12</th><td> 118.00</td><td> 127.00</td><td> 107.00</td><td> 159.00</td><td>  79.00</td><td>  83.00</td><td> 100.00</td><td> 151.00</td><td> 189.00</td><td>  79.00</td><td>⋯      </td><td> 47.00 </td><td> 118.00</td><td>  92.00</td><td>  64.00</td><td> 183.00</td><td> 189.00</td><td>  86.00</td><td> 137.00</td><td> 184.00</td><td> 118.00</td></tr>\n",
       "\t<tr><th scope=row>ENSG00000000457.13</th><td> 240.62</td><td> 276.31</td><td> 254.35</td><td> 225.02</td><td> 234.61</td><td> 200.96</td><td> 165.91</td><td> 269.95</td><td> 323.61</td><td> 157.46</td><td>⋯      </td><td>106.28 </td><td> 294.79</td><td> 227.07</td><td> 203.26</td><td> 263.25</td><td> 272.84</td><td> 186.32</td><td> 216.41</td><td> 292.29</td><td> 253.39</td></tr>\n",
       "\t<tr><th scope=row>ENSG00000000460.16</th><td>  88.38</td><td>  68.69</td><td>  50.65</td><td>  75.98</td><td>  65.39</td><td>  55.04</td><td>  54.09</td><td>  53.05</td><td>  87.39</td><td>  42.54</td><td>⋯      </td><td> 31.72 </td><td>  57.21</td><td>  56.93</td><td>  56.74</td><td>  72.75</td><td>  66.16</td><td>  71.68</td><td>  46.59</td><td>  86.71</td><td>  57.61</td></tr>\n",
       "\t<tr><th scope=row>ENSG00000000938.12</th><td>2142.00</td><td>2545.00</td><td>2243.00</td><td>2249.00</td><td>1732.00</td><td>2083.00</td><td>2114.00</td><td>2422.00</td><td>3041.00</td><td>1814.00</td><td>⋯      </td><td>754.00 </td><td>2276.00</td><td>2138.00</td><td>2273.00</td><td>2817.00</td><td>2381.00</td><td>1847.00</td><td>1936.00</td><td>2874.00</td><td>2931.00</td></tr>\n",
       "</tbody>\n",
       "</table>\n"
      ],
      "text/latex": [
       "\\begin{tabular}{r|lllllllllllllllllllllllllllllllllllllllllllllllllllllllllllllllll}\n",
       "  & EL20\\_S20\\_L004\\_R1\\_001 & EL62\\_S62\\_L004\\_R1\\_001 & EL60\\_S60\\_L004\\_R1\\_001 & EL59\\_S59\\_L004\\_R1\\_001 & EL61\\_S61\\_L004\\_R1\\_001 & EL29\\_S29\\_L004\\_R1\\_001 & EL49\\_S49\\_L004\\_R1\\_001 & EL32\\_S32\\_L004\\_R1\\_001 & EL51\\_S51\\_L004\\_R1\\_001 & EL22\\_S22\\_L004\\_R1\\_001 & ⋯ & EL6\\_S6\\_L004\\_R1\\_001 & EL24\\_S24\\_L004\\_R1\\_001 & EL10\\_S10\\_L004\\_R1\\_001 & EL12\\_S12\\_L004\\_R1\\_001 & EL34\\_S34\\_L004\\_R1\\_001 & EL38\\_S38\\_L004\\_R1\\_001 & EL58\\_S58\\_L004\\_R1\\_001 & EL50\\_S50\\_L004\\_R1\\_001 & EL44\\_S44\\_L004\\_R1\\_001 & EL63\\_S63\\_L004\\_R1\\_001\\\\\n",
       "\\hline\n",
       "\tENSG00000000003.14 &    1.00 &    2.00 &    2.00 &    4.00 &    4.00 &    0.00 &    3.00 &    2.00 &    2.00 &    4.00 & ⋯       &   1.00  &    3.00 &    2.00 &    0.00 &    1.00 &    4.00 &    3.00 &    0.00 &    4.00 &    4.00\\\\\n",
       "\tENSG00000000005.5 &    0.00 &    0.00 &    0.00 &    0.00 &    0.00 &    0.00 &    0.00 &    0.00 &    0.00 &    0.00 & ⋯       &   0.00  &    0.00 &    0.00 &    0.00 &    0.00 &    0.00 &    0.00 &    0.00 &    0.00 &    0.00\\\\\n",
       "\tENSG00000000419.12 &  118.00 &  127.00 &  107.00 &  159.00 &   79.00 &   83.00 &  100.00 &  151.00 &  189.00 &   79.00 & ⋯       &  47.00  &  118.00 &   92.00 &   64.00 &  183.00 &  189.00 &   86.00 &  137.00 &  184.00 &  118.00\\\\\n",
       "\tENSG00000000457.13 &  240.62 &  276.31 &  254.35 &  225.02 &  234.61 &  200.96 &  165.91 &  269.95 &  323.61 &  157.46 & ⋯       & 106.28  &  294.79 &  227.07 &  203.26 &  263.25 &  272.84 &  186.32 &  216.41 &  292.29 &  253.39\\\\\n",
       "\tENSG00000000460.16 &   88.38 &   68.69 &   50.65 &   75.98 &   65.39 &   55.04 &   54.09 &   53.05 &   87.39 &   42.54 & ⋯       &  31.72  &   57.21 &   56.93 &   56.74 &   72.75 &   66.16 &   71.68 &   46.59 &   86.71 &   57.61\\\\\n",
       "\tENSG00000000938.12 & 2142.00 & 2545.00 & 2243.00 & 2249.00 & 1732.00 & 2083.00 & 2114.00 & 2422.00 & 3041.00 & 1814.00 & ⋯       & 754.00  & 2276.00 & 2138.00 & 2273.00 & 2817.00 & 2381.00 & 1847.00 & 1936.00 & 2874.00 & 2931.00\\\\\n",
       "\\end{tabular}\n"
      ],
      "text/markdown": [
       "\n",
       "| <!--/--> | EL20_S20_L004_R1_001 | EL62_S62_L004_R1_001 | EL60_S60_L004_R1_001 | EL59_S59_L004_R1_001 | EL61_S61_L004_R1_001 | EL29_S29_L004_R1_001 | EL49_S49_L004_R1_001 | EL32_S32_L004_R1_001 | EL51_S51_L004_R1_001 | EL22_S22_L004_R1_001 | ⋯ | EL6_S6_L004_R1_001 | EL24_S24_L004_R1_001 | EL10_S10_L004_R1_001 | EL12_S12_L004_R1_001 | EL34_S34_L004_R1_001 | EL38_S38_L004_R1_001 | EL58_S58_L004_R1_001 | EL50_S50_L004_R1_001 | EL44_S44_L004_R1_001 | EL63_S63_L004_R1_001 | \n",
       "|---|---|---|---|---|---|\n",
       "| ENSG00000000003.14 |    1.00 |    2.00 |    2.00 |    4.00 |    4.00 |    0.00 |    3.00 |    2.00 |    2.00 |    4.00 | ⋯       |   1.00  |    3.00 |    2.00 |    0.00 |    1.00 |    4.00 |    3.00 |    0.00 |    4.00 |    4.00 | \n",
       "| ENSG00000000005.5 |    0.00 |    0.00 |    0.00 |    0.00 |    0.00 |    0.00 |    0.00 |    0.00 |    0.00 |    0.00 | ⋯       |   0.00  |    0.00 |    0.00 |    0.00 |    0.00 |    0.00 |    0.00 |    0.00 |    0.00 |    0.00 | \n",
       "| ENSG00000000419.12 |  118.00 |  127.00 |  107.00 |  159.00 |   79.00 |   83.00 |  100.00 |  151.00 |  189.00 |   79.00 | ⋯       |  47.00  |  118.00 |   92.00 |   64.00 |  183.00 |  189.00 |   86.00 |  137.00 |  184.00 |  118.00 | \n",
       "| ENSG00000000457.13 |  240.62 |  276.31 |  254.35 |  225.02 |  234.61 |  200.96 |  165.91 |  269.95 |  323.61 |  157.46 | ⋯       | 106.28  |  294.79 |  227.07 |  203.26 |  263.25 |  272.84 |  186.32 |  216.41 |  292.29 |  253.39 | \n",
       "| ENSG00000000460.16 |   88.38 |   68.69 |   50.65 |   75.98 |   65.39 |   55.04 |   54.09 |   53.05 |   87.39 |   42.54 | ⋯       |  31.72  |   57.21 |   56.93 |   56.74 |   72.75 |   66.16 |   71.68 |   46.59 |   86.71 |   57.61 | \n",
       "| ENSG00000000938.12 | 2142.00 | 2545.00 | 2243.00 | 2249.00 | 1732.00 | 2083.00 | 2114.00 | 2422.00 | 3041.00 | 1814.00 | ⋯       | 754.00  | 2276.00 | 2138.00 | 2273.00 | 2817.00 | 2381.00 | 1847.00 | 1936.00 | 2874.00 | 2931.00 | \n",
       "\n",
       "\n"
      ],
      "text/plain": [
       "                   EL20_S20_L004_R1_001 EL62_S62_L004_R1_001\n",
       "ENSG00000000003.14    1.00                 2.00             \n",
       "ENSG00000000005.5     0.00                 0.00             \n",
       "ENSG00000000419.12  118.00               127.00             \n",
       "ENSG00000000457.13  240.62               276.31             \n",
       "ENSG00000000460.16   88.38                68.69             \n",
       "ENSG00000000938.12 2142.00              2545.00             \n",
       "                   EL60_S60_L004_R1_001 EL59_S59_L004_R1_001\n",
       "ENSG00000000003.14    2.00                 4.00             \n",
       "ENSG00000000005.5     0.00                 0.00             \n",
       "ENSG00000000419.12  107.00               159.00             \n",
       "ENSG00000000457.13  254.35               225.02             \n",
       "ENSG00000000460.16   50.65                75.98             \n",
       "ENSG00000000938.12 2243.00              2249.00             \n",
       "                   EL61_S61_L004_R1_001 EL29_S29_L004_R1_001\n",
       "ENSG00000000003.14    4.00                 0.00             \n",
       "ENSG00000000005.5     0.00                 0.00             \n",
       "ENSG00000000419.12   79.00                83.00             \n",
       "ENSG00000000457.13  234.61               200.96             \n",
       "ENSG00000000460.16   65.39                55.04             \n",
       "ENSG00000000938.12 1732.00              2083.00             \n",
       "                   EL49_S49_L004_R1_001 EL32_S32_L004_R1_001\n",
       "ENSG00000000003.14    3.00                 2.00             \n",
       "ENSG00000000005.5     0.00                 0.00             \n",
       "ENSG00000000419.12  100.00               151.00             \n",
       "ENSG00000000457.13  165.91               269.95             \n",
       "ENSG00000000460.16   54.09                53.05             \n",
       "ENSG00000000938.12 2114.00              2422.00             \n",
       "                   EL51_S51_L004_R1_001 EL22_S22_L004_R1_001 ⋯\n",
       "ENSG00000000003.14    2.00                 4.00              ⋯\n",
       "ENSG00000000005.5     0.00                 0.00              ⋯\n",
       "ENSG00000000419.12  189.00                79.00              ⋯\n",
       "ENSG00000000457.13  323.61               157.46              ⋯\n",
       "ENSG00000000460.16   87.39                42.54              ⋯\n",
       "ENSG00000000938.12 3041.00              1814.00              ⋯\n",
       "                   EL6_S6_L004_R1_001 EL24_S24_L004_R1_001 EL10_S10_L004_R1_001\n",
       "ENSG00000000003.14   1.00                3.00                 2.00             \n",
       "ENSG00000000005.5    0.00                0.00                 0.00             \n",
       "ENSG00000000419.12  47.00              118.00                92.00             \n",
       "ENSG00000000457.13 106.28              294.79               227.07             \n",
       "ENSG00000000460.16  31.72               57.21                56.93             \n",
       "ENSG00000000938.12 754.00             2276.00              2138.00             \n",
       "                   EL12_S12_L004_R1_001 EL34_S34_L004_R1_001\n",
       "ENSG00000000003.14    0.00                 1.00             \n",
       "ENSG00000000005.5     0.00                 0.00             \n",
       "ENSG00000000419.12   64.00               183.00             \n",
       "ENSG00000000457.13  203.26               263.25             \n",
       "ENSG00000000460.16   56.74                72.75             \n",
       "ENSG00000000938.12 2273.00              2817.00             \n",
       "                   EL38_S38_L004_R1_001 EL58_S58_L004_R1_001\n",
       "ENSG00000000003.14    4.00                 3.00             \n",
       "ENSG00000000005.5     0.00                 0.00             \n",
       "ENSG00000000419.12  189.00                86.00             \n",
       "ENSG00000000457.13  272.84               186.32             \n",
       "ENSG00000000460.16   66.16                71.68             \n",
       "ENSG00000000938.12 2381.00              1847.00             \n",
       "                   EL50_S50_L004_R1_001 EL44_S44_L004_R1_001\n",
       "ENSG00000000003.14    0.00                 4.00             \n",
       "ENSG00000000005.5     0.00                 0.00             \n",
       "ENSG00000000419.12  137.00               184.00             \n",
       "ENSG00000000457.13  216.41               292.29             \n",
       "ENSG00000000460.16   46.59                86.71             \n",
       "ENSG00000000938.12 1936.00              2874.00             \n",
       "                   EL63_S63_L004_R1_001\n",
       "ENSG00000000003.14    4.00             \n",
       "ENSG00000000005.5     0.00             \n",
       "ENSG00000000419.12  118.00             \n",
       "ENSG00000000457.13  253.39             \n",
       "ENSG00000000460.16   57.61             \n",
       "ENSG00000000938.12 2931.00             "
      ]
     },
     "metadata": {},
     "output_type": "display_data"
    }
   ],
   "source": [
    "dim(gUnorderedGeneCountsDf)\n",
    "head(gUnorderedGeneCountsDf)"
   ]
  },
  {
   "cell_type": "code",
   "execution_count": 6,
   "metadata": {},
   "outputs": [],
   "source": [
    "colnames(gUnorderedGeneCountsDf) = gsub(\"X\",\"\", colnames(gUnorderedGeneCountsDf))"
   ]
  },
  {
   "cell_type": "markdown",
   "metadata": {},
   "source": [
    "Write out the resulting gene counts to a tab-delimited text file:"
   ]
  },
  {
   "cell_type": "code",
   "execution_count": 7,
   "metadata": {},
   "outputs": [],
   "source": [
    "write.table(gUnorderedGeneCountsDf, gOutputCountsFp, sep = \"\\t\")"
   ]
  },
  {
   "cell_type": "markdown",
   "metadata": {},
   "source": [
    "[Table of Contents](#Table-of-Contents)\n",
    "\n",
    "## Citations\n",
    "\n",
    "1. Li B, Dewey CN. RSEM: accurate transcript quantification from RNA-Seq data with or without a reference genome. BMC Bioinformatics. 2011 Aug 4;12:323.\n",
    "3. R Core Team (2016). R: A language and environment for statistical computing. R Foundation for Statistical Computing, Vienna, Austria. URL https://www.R-project.org/."
   ]
  },
  {
   "cell_type": "markdown",
   "metadata": {},
   "source": [
    "[Table of Contents](#Table-of-Contents)\n",
    "\n",
    "## Appendix: R Session Info"
   ]
  },
  {
   "cell_type": "code",
   "execution_count": null,
   "metadata": {},
   "outputs": [],
   "source": [
    "sessionInfo()"
   ]
  },
  {
   "cell_type": "markdown",
   "metadata": {},
   "source": [
    "[Table of Contents](#Table-of-Contents)\n",
    "\n",
    "Copyright (c) 2018 UC San Diego Center for Computational Biology & Bioinformatics under the MIT License\n",
    "\n",
    "Notebook template by Amanda Birmingham"
   ]
  }
 ],
 "metadata": {
  "kernelspec": {
   "display_name": "R",
   "language": "R",
   "name": "ir"
  },
  "language_info": {
   "codemirror_mode": "r",
   "file_extension": ".r",
   "mimetype": "text/x-r-source",
   "name": "R",
   "pygments_lexer": "r",
   "version": "3.6.2"
  }
 },
 "nbformat": 4,
 "nbformat_minor": 2
}
