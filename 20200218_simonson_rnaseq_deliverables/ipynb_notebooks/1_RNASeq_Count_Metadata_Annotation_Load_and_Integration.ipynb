{
 "cells": [
  {
   "cell_type": "markdown",
   "metadata": {},
   "source": [
    "# Dr. Simonson Chronic Mountain Sickness "
   ]
  },
  {
   "cell_type": "markdown",
   "metadata": {},
   "source": [
    "# RNASeq Data Integration"
   ]
  },
  {
   "cell_type": "markdown",
   "metadata": {},
   "source": [
    "   > * Art Nasamran, CCBB (cnasamran@ucsd.edu)\n",
    "   > * Based on upstream analysis by Guorong Xu, CCBB (g1xu@ucsd.edu)"
   ]
  },
  {
   "cell_type": "markdown",
   "metadata": {},
   "source": [
    "* Modeled on \"RNA-seq analysis is easy as 1-2-3 with limma, Glimma and edgeR\" ([1](#Citations))\n",
    "\n",
    "## Table of Contents\n",
    "* [Background](#Background)\n",
    "* [Introduction](#Introduction)\n",
    "* [Parameter Input](#Parameter-Input)\n",
    "* [Library Import](#Library-Import)\n",
    "* [Data Import](#Data-Import)\n",
    "    * [Count Data](#Count-Data)\n",
    "    * [Metadata](#Metadata)\n",
    "    * [Annotations](#Annotations)\n",
    "* [Gene Separation By Coding Status](#Gene-Separation-By-Coding-Status)\n",
    "* [Data Integration](#Data-Integration)\n",
    "* [Annotation Integration](#Annotation-Integration)\n",
    "* [Summary](#Summary)\n",
    "* [Citations](#Citations)\n",
    "* [Appendix: R Session Info](#Appendix:-R-Session-Info)\n",
    "\n",
    "\n",
    "## Background"
   ]
  },
  {
   "cell_type": "markdown",
   "metadata": {},
   "source": [
    "The count data analyzed in this notebook were produced by the primary analysis of Dr. Guorong Xu of CCBB, who received raw sequencing data and performed quality control (Fastqc v0.10.0),  alignment (STAR v2.5.3), and quantification (RSEMv1.3.0) of reads using GRCh38.p12.genome.fa and gencode.v29.annotation.gtf.\n"
   ]
  },
  {
   "cell_type": "markdown",
   "metadata": {},
   "source": [
    "[Table of Contents](#Table-of-Contents)\n",
    "\n",
    "## Introduction\n",
    "\n",
    "This notebook takes in per-gene-per-sample count data (prepared either externally or by the  \"RNASeq_RSEM_QC_and_Counts_Preparation\" notebook) and per-sample metadata RNASeq data, and uses the edgeR ([2](#Citations)) Bioconductor ([3](#Citations)) package written in R ([4](#Citations)) to integrate and annotate these inputs in preparation for data exploration and preprocessing."
   ]
  },
  {
   "cell_type": "markdown",
   "metadata": {},
   "source": [
    "[Table of Contents](#Table-of-Contents)\n",
    "\n",
    "## Parameter Input"
   ]
  },
  {
   "cell_type": "code",
   "execution_count": 1,
   "metadata": {},
   "outputs": [],
   "source": [
    "gProjectName = \"20191108_simonson_rnaseq\"\n",
    "gGeneCountsFilename = \"all_gene_counts.txt\"\n",
    "gMetadataFilename = \"metadata_20200203.txt\"\n",
    "# Needed to remove \"rowname\" from \"all_gene_counts.txt\"\n",
    "\n",
    "# Note: the below R object file is necessary only if separating genes into coding \n",
    "# and non-coding before analysis.\n",
    "# If NOT doing this, set the value of this filename to NULL.\n",
    "# Note: be sure to record source of annotations file, such as:\n",
    "# R object of contents of gencode.v29.annotation.gtf based on Homo sapiens GRCh38p12\n",
    "gAnnotationsRdataFilename = \"Homo_sapiens_GRCh38p12_gencodev29_ANNOT.Rdata\""
   ]
  },
  {
   "cell_type": "code",
   "execution_count": 2,
   "metadata": {},
   "outputs": [],
   "source": [
    "gSourceDir = \"./src/\" # note trailing slash here but not below\n",
    "gOutputDir = \"../outputs\"\n",
    "gReferenceDir = \"../reference\"\n",
    "gInterimDir = \"../interim\"\n",
    "gGeneCountsFp = file.path(gOutputDir, gGeneCountsFilename)\n",
    "gMetadataFp = file.path(gReferenceDir, gMetadataFilename)"
   ]
  },
  {
   "cell_type": "code",
   "execution_count": 3,
   "metadata": {},
   "outputs": [],
   "source": [
    "# Import shared source code to load and save previous notebooks' environments:\n",
    "source(paste0(gSourceDir, \"ChainedNotebookSupport.R\"))"
   ]
  },
  {
   "cell_type": "markdown",
   "metadata": {},
   "source": [
    "Populate the run name parameter automatically to ensure that outputs from different runs do not overwrite each other:"
   ]
  },
  {
   "cell_type": "code",
   "execution_count": 4,
   "metadata": {},
   "outputs": [
    {
     "data": {
      "text/html": [
       "'20191108_simonson_rnaseq_data_integration_20200213120626'"
      ],
      "text/latex": [
       "'20191108\\_simonson\\_rnaseq\\_data\\_integration\\_20200213120626'"
      ],
      "text/markdown": [
       "'20191108_simonson_rnaseq_data_integration_20200213120626'"
      ],
      "text/plain": [
       "[1] \"20191108_simonson_rnaseq_data_integration_20200213120626\""
      ]
     },
     "metadata": {},
     "output_type": "display_data"
    }
   ],
   "source": [
    "gRunName = makeRunName(gProjectName, \"data_integration\")\n",
    "gRunName"
   ]
  },
  {
   "cell_type": "markdown",
   "metadata": {},
   "source": [
    "[Table of Contents](#Table-of-Contents)\n",
    "\n",
    "## Library Import\n",
    "\n",
    "Import the necessary R, Bioconductor, and CCBB libraries for the analysis:"
   ]
  },
  {
   "cell_type": "code",
   "execution_count": null,
   "metadata": {},
   "outputs": [],
   "source": [
    "#if (!requireNamespace(\"BiocManager\", quietly = TRUE))\n",
    "#    install.packages(\"BiocManager\")"
   ]
  },
  {
   "cell_type": "code",
   "execution_count": null,
   "metadata": {},
   "outputs": [],
   "source": [
    "#BiocManager::install(\"edgeR\", version = \"3.8\")"
   ]
  },
  {
   "cell_type": "code",
   "execution_count": null,
   "metadata": {},
   "outputs": [],
   "source": [
    "#BiocManager::install(\"Homo.sapiens\", version = \"3.8\")"
   ]
  },
  {
   "cell_type": "code",
   "execution_count": 5,
   "metadata": {},
   "outputs": [
    {
     "name": "stderr",
     "output_type": "stream",
     "text": [
      "Loading required package: AnnotationDbi\n",
      "Loading required package: stats4\n",
      "Loading required package: BiocGenerics\n",
      "Loading required package: parallel\n",
      "\n",
      "Attaching package: ‘BiocGenerics’\n",
      "\n",
      "The following objects are masked from ‘package:parallel’:\n",
      "\n",
      "    clusterApply, clusterApplyLB, clusterCall, clusterEvalQ,\n",
      "    clusterExport, clusterMap, parApply, parCapply, parLapply,\n",
      "    parLapplyLB, parRapply, parSapply, parSapplyLB\n",
      "\n",
      "The following objects are masked from ‘package:stats’:\n",
      "\n",
      "    IQR, mad, sd, var, xtabs\n",
      "\n",
      "The following objects are masked from ‘package:base’:\n",
      "\n",
      "    anyDuplicated, append, as.data.frame, basename, cbind, colMeans,\n",
      "    colnames, colSums, dirname, do.call, duplicated, eval, evalq,\n",
      "    Filter, Find, get, grep, grepl, intersect, is.unsorted, lapply,\n",
      "    lengths, Map, mapply, match, mget, order, paste, pmax, pmax.int,\n",
      "    pmin, pmin.int, Position, rank, rbind, Reduce, rowMeans, rownames,\n",
      "    rowSums, sapply, setdiff, sort, table, tapply, union, unique,\n",
      "    unsplit, which, which.max, which.min\n",
      "\n",
      "Loading required package: Biobase\n",
      "Welcome to Bioconductor\n",
      "\n",
      "    Vignettes contain introductory material; view with\n",
      "    'browseVignettes()'. To cite Bioconductor, see\n",
      "    'citation(\"Biobase\")', and for packages 'citation(\"pkgname\")'.\n",
      "\n",
      "Loading required package: IRanges\n",
      "Loading required package: S4Vectors\n",
      "\n",
      "Attaching package: ‘S4Vectors’\n",
      "\n",
      "The following object is masked from ‘package:base’:\n",
      "\n",
      "    expand.grid\n",
      "\n",
      "Loading required package: OrganismDbi\n",
      "Loading required package: GenomicFeatures\n",
      "Warning message:\n",
      "“package ‘GenomicFeatures’ was built under R version 3.5.3”Loading required package: GenomeInfoDb\n",
      "Loading required package: GenomicRanges\n",
      "Loading required package: GO.db\n",
      "\n",
      "Loading required package: org.Hs.eg.db\n",
      "\n",
      "Loading required package: TxDb.Hsapiens.UCSC.hg19.knownGene\n"
     ]
    }
   ],
   "source": [
    "library(Homo.sapiens)\n",
    "gOrganismPackage = Homo.sapiens"
   ]
  },
  {
   "cell_type": "code",
   "execution_count": 6,
   "metadata": {},
   "outputs": [
    {
     "name": "stderr",
     "output_type": "stream",
     "text": [
      "Loading required package: limma\n",
      "\n",
      "Attaching package: ‘limma’\n",
      "\n",
      "The following object is masked from ‘package:BiocGenerics’:\n",
      "\n",
      "    plotMA\n",
      "\n"
     ]
    }
   ],
   "source": [
    "library(edgeR)"
   ]
  },
  {
   "cell_type": "markdown",
   "metadata": {},
   "source": [
    "[Table of Contents](#Table-of-Contents)\n",
    "\n",
    "\n",
    "## Data Import\n",
    "\n",
    "### Count Data\n",
    "\n",
    "Import the count data file in which rows are genes identifiers, columns are sample identifiers, and row/column intersections contain the number of counts for the relevant gene in the relevant sample:"
   ]
  },
  {
   "cell_type": "code",
   "execution_count": 7,
   "metadata": {},
   "outputs": [
    {
     "data": {
      "text/html": [
       "<ol class=list-inline>\n",
       "\t<li>58676</li>\n",
       "\t<li>65</li>\n",
       "</ol>\n"
      ],
      "text/latex": [
       "\\begin{enumerate*}\n",
       "\\item 58676\n",
       "\\item 65\n",
       "\\end{enumerate*}\n"
      ],
      "text/markdown": [
       "1. 58676\n",
       "2. 65\n",
       "\n",
       "\n"
      ],
      "text/plain": [
       "[1] 58676    65"
      ]
     },
     "metadata": {},
     "output_type": "display_data"
    }
   ],
   "source": [
    "# Read in counts file containing info on all samples and genes\n",
    "gUnorderedGeneCountsDf <- read.csv(gGeneCountsFp, sep=\"\\t\", stringsAsFactors=FALSE, row.names=1)\n",
    "dim(gUnorderedGeneCountsDf)"
   ]
  },
  {
   "cell_type": "code",
   "execution_count": 8,
   "metadata": {},
   "outputs": [
    {
     "data": {
      "text/html": [
       "<table>\n",
       "<caption>A data.frame: 6 × 65</caption>\n",
       "<thead>\n",
       "\t<tr><th></th><th scope=col>EL20_S20_L004_R1_001</th><th scope=col>EL62_S62_L004_R1_001</th><th scope=col>EL60_S60_L004_R1_001</th><th scope=col>EL59_S59_L004_R1_001</th><th scope=col>EL61_S61_L004_R1_001</th><th scope=col>EL29_S29_L004_R1_001</th><th scope=col>EL49_S49_L004_R1_001</th><th scope=col>EL32_S32_L004_R1_001</th><th scope=col>EL51_S51_L004_R1_001</th><th scope=col>EL22_S22_L004_R1_001</th><th scope=col>⋯</th><th scope=col>EL6_S6_L004_R1_001</th><th scope=col>EL24_S24_L004_R1_001</th><th scope=col>EL10_S10_L004_R1_001</th><th scope=col>EL12_S12_L004_R1_001</th><th scope=col>EL34_S34_L004_R1_001</th><th scope=col>EL38_S38_L004_R1_001</th><th scope=col>EL58_S58_L004_R1_001</th><th scope=col>EL50_S50_L004_R1_001</th><th scope=col>EL44_S44_L004_R1_001</th><th scope=col>EL63_S63_L004_R1_001</th></tr>\n",
       "\t<tr><th></th><th scope=col>&lt;dbl&gt;</th><th scope=col>&lt;dbl&gt;</th><th scope=col>&lt;dbl&gt;</th><th scope=col>&lt;dbl&gt;</th><th scope=col>&lt;dbl&gt;</th><th scope=col>&lt;dbl&gt;</th><th scope=col>&lt;dbl&gt;</th><th scope=col>&lt;dbl&gt;</th><th scope=col>&lt;dbl&gt;</th><th scope=col>&lt;dbl&gt;</th><th scope=col>⋯</th><th scope=col>&lt;dbl&gt;</th><th scope=col>&lt;dbl&gt;</th><th scope=col>&lt;dbl&gt;</th><th scope=col>&lt;dbl&gt;</th><th scope=col>&lt;dbl&gt;</th><th scope=col>&lt;dbl&gt;</th><th scope=col>&lt;dbl&gt;</th><th scope=col>&lt;dbl&gt;</th><th scope=col>&lt;dbl&gt;</th><th scope=col>&lt;dbl&gt;</th></tr>\n",
       "</thead>\n",
       "<tbody>\n",
       "\t<tr><th scope=row>ENSG00000000003.14</th><td>   1.00</td><td>   2.00</td><td>   2.00</td><td>   4.00</td><td>   4.00</td><td>   0.00</td><td>   3.00</td><td>   2.00</td><td>   2.00</td><td>   4.00</td><td>⋯</td><td>  1.00</td><td>   3.00</td><td>   2.00</td><td>   0.00</td><td>   1.00</td><td>   4.00</td><td>   3.00</td><td>   0.00</td><td>   4.00</td><td>   4.00</td></tr>\n",
       "\t<tr><th scope=row>ENSG00000000005.5</th><td>   0.00</td><td>   0.00</td><td>   0.00</td><td>   0.00</td><td>   0.00</td><td>   0.00</td><td>   0.00</td><td>   0.00</td><td>   0.00</td><td>   0.00</td><td>⋯</td><td>  0.00</td><td>   0.00</td><td>   0.00</td><td>   0.00</td><td>   0.00</td><td>   0.00</td><td>   0.00</td><td>   0.00</td><td>   0.00</td><td>   0.00</td></tr>\n",
       "\t<tr><th scope=row>ENSG00000000419.12</th><td> 118.00</td><td> 127.00</td><td> 107.00</td><td> 159.00</td><td>  79.00</td><td>  83.00</td><td> 100.00</td><td> 151.00</td><td> 189.00</td><td>  79.00</td><td>⋯</td><td> 47.00</td><td> 118.00</td><td>  92.00</td><td>  64.00</td><td> 183.00</td><td> 189.00</td><td>  86.00</td><td> 137.00</td><td> 184.00</td><td> 118.00</td></tr>\n",
       "\t<tr><th scope=row>ENSG00000000457.13</th><td> 240.62</td><td> 276.31</td><td> 254.35</td><td> 225.02</td><td> 234.61</td><td> 200.96</td><td> 165.91</td><td> 269.95</td><td> 323.61</td><td> 157.46</td><td>⋯</td><td>106.28</td><td> 294.79</td><td> 227.07</td><td> 203.26</td><td> 263.25</td><td> 272.84</td><td> 186.32</td><td> 216.41</td><td> 292.29</td><td> 253.39</td></tr>\n",
       "\t<tr><th scope=row>ENSG00000000460.16</th><td>  88.38</td><td>  68.69</td><td>  50.65</td><td>  75.98</td><td>  65.39</td><td>  55.04</td><td>  54.09</td><td>  53.05</td><td>  87.39</td><td>  42.54</td><td>⋯</td><td> 31.72</td><td>  57.21</td><td>  56.93</td><td>  56.74</td><td>  72.75</td><td>  66.16</td><td>  71.68</td><td>  46.59</td><td>  86.71</td><td>  57.61</td></tr>\n",
       "\t<tr><th scope=row>ENSG00000000938.12</th><td>2142.00</td><td>2545.00</td><td>2243.00</td><td>2249.00</td><td>1732.00</td><td>2083.00</td><td>2114.00</td><td>2422.00</td><td>3041.00</td><td>1814.00</td><td>⋯</td><td>754.00</td><td>2276.00</td><td>2138.00</td><td>2273.00</td><td>2817.00</td><td>2381.00</td><td>1847.00</td><td>1936.00</td><td>2874.00</td><td>2931.00</td></tr>\n",
       "</tbody>\n",
       "</table>\n"
      ],
      "text/latex": [
       "A data.frame: 6 × 65\n",
       "\\begin{tabular}{r|lllllllllllllllllllllllllllllllllllllllllllllllllllllllllllllllll}\n",
       "  & EL20\\_S20\\_L004\\_R1\\_001 & EL62\\_S62\\_L004\\_R1\\_001 & EL60\\_S60\\_L004\\_R1\\_001 & EL59\\_S59\\_L004\\_R1\\_001 & EL61\\_S61\\_L004\\_R1\\_001 & EL29\\_S29\\_L004\\_R1\\_001 & EL49\\_S49\\_L004\\_R1\\_001 & EL32\\_S32\\_L004\\_R1\\_001 & EL51\\_S51\\_L004\\_R1\\_001 & EL22\\_S22\\_L004\\_R1\\_001 & EL46\\_S46\\_L004\\_R1\\_001 & EL5\\_S5\\_L004\\_R1\\_001 & EL47\\_S47\\_L004\\_R1\\_001 & EL11\\_S11\\_L004\\_R1\\_001 & EL21\\_S21\\_L004\\_R1\\_001 & EL28\\_S28\\_L004\\_R1\\_001 & EL31\\_S31\\_L004\\_R1\\_001 & EL33\\_S33\\_L004\\_R1\\_001 & EL1\\_S1\\_L004\\_R1\\_001 & EL8\\_S8\\_L004\\_R1\\_001 & EL9\\_S9\\_L004\\_R1\\_001 & EL23\\_S23\\_L004\\_R1\\_001 & EL37\\_S37\\_L004\\_R1\\_001 & EL48\\_S48\\_L004\\_R1\\_001 & EL54\\_S54\\_L004\\_R1\\_001 & EL30\\_S30\\_L004\\_R1\\_001 & EL7\\_S7\\_L004\\_R1\\_001 & EL3\\_S3\\_L004\\_R1\\_001 & EL42\\_S42\\_L004\\_R1\\_001 & EL16\\_S16\\_L004\\_R1\\_001 & EL26\\_S26\\_L004\\_R1\\_001 & EL4\\_S4\\_L004\\_R1\\_001 & EL53\\_S53\\_L004\\_R1\\_001 & EL64\\_S64\\_L004\\_R1\\_001 & EL35\\_S35\\_L004\\_R1\\_001 & EL14\\_S14\\_L004\\_R1\\_001 & EL13\\_S13\\_L004\\_R1\\_001 & EL19\\_S19\\_L004\\_R1\\_001 & EL56\\_S56\\_L004\\_R1\\_001 & EL52\\_S52\\_L004\\_R1\\_001 & EL27\\_S27\\_L004\\_R1\\_001 & EL57\\_S57\\_L004\\_R1\\_001 & EL36\\_S36\\_L004\\_R1\\_001 & EL41\\_S41\\_L004\\_R1\\_001 & EL25\\_S25\\_L004\\_R1\\_001 & EL43\\_S43\\_L004\\_R1\\_001 & EL15\\_S15\\_L004\\_R1\\_001 & EL2\\_S2\\_L004\\_R1\\_001 & EL18\\_S18\\_L004\\_R1\\_001 & EL39\\_S39\\_L004\\_R1\\_001 & EL55\\_S55\\_L004\\_R1\\_001 & EL45\\_S45\\_L004\\_R1\\_001 & EL65\\_S65\\_L004\\_R1\\_001 & EL40\\_S40\\_L004\\_R1\\_001 & EL17\\_S17\\_L004\\_R1\\_001 & EL6\\_S6\\_L004\\_R1\\_001 & EL24\\_S24\\_L004\\_R1\\_001 & EL10\\_S10\\_L004\\_R1\\_001 & EL12\\_S12\\_L004\\_R1\\_001 & EL34\\_S34\\_L004\\_R1\\_001 & EL38\\_S38\\_L004\\_R1\\_001 & EL58\\_S58\\_L004\\_R1\\_001 & EL50\\_S50\\_L004\\_R1\\_001 & EL44\\_S44\\_L004\\_R1\\_001 & EL63\\_S63\\_L004\\_R1\\_001\\\\\n",
       "  & <dbl> & <dbl> & <dbl> & <dbl> & <dbl> & <dbl> & <dbl> & <dbl> & <dbl> & <dbl> & <dbl> & <dbl> & <dbl> & <dbl> & <dbl> & <dbl> & <dbl> & <dbl> & <dbl> & <dbl> & <dbl> & <dbl> & <dbl> & <dbl> & <dbl> & <dbl> & <dbl> & <dbl> & <dbl> & <dbl> & <dbl> & <dbl> & <dbl> & <dbl> & <dbl> & <dbl> & <dbl> & <dbl> & <dbl> & <dbl> & <dbl> & <dbl> & <dbl> & <dbl> & <dbl> & <dbl> & <dbl> & <dbl> & <dbl> & <dbl> & <dbl> & <dbl> & <dbl> & <dbl> & <dbl> & <dbl> & <dbl> & <dbl> & <dbl> & <dbl> & <dbl> & <dbl> & <dbl> & <dbl> & <dbl>\\\\\n",
       "\\hline\n",
       "\tENSG00000000003.14 &    1.00 &    2.00 &    2.00 &    4.00 &    4.00 &    0.00 &    3.00 &    2.00 &    2.00 &    4.00 &   0.00 &    0.00 &    2.0 &    2.00 &    0.00 &    2.00 &    3.00 &    0.0 &    0.00 &   0.0 &    0.00 &    4.00 &    3.00 &    3.00 &    3.00 &    1.00 &    0.0 &    0.00 & 0 &    1.00 &    2.00 &    0.00 &    1.00 &    1.00 &   0.00 &   0.00 &    1.0 &    0.00 &    3.00 &    0.00 &    0.00 &    0.00 &    3.00 &    1.00 &    2.00 &    2.00 &    0.00 &    1.00 &    0.00 &    2.00 &    3.00 &    3.00 &   1.00 &    1.0 &   1.0 &   1.00 &    3.00 &    2.00 &    0.00 &    1.00 &    4.00 &    3.00 &    0.00 &    4.00 &    4.00\\\\\n",
       "\tENSG00000000005.5 &    0.00 &    0.00 &    0.00 &    0.00 &    0.00 &    0.00 &    0.00 &    0.00 &    0.00 &    0.00 &   0.00 &    0.00 &    0.0 &    0.00 &    0.00 &    0.00 &    0.00 &    0.0 &    0.00 &   0.0 &    0.00 &    0.00 &    0.00 &    0.00 &    0.00 &    0.00 &    0.0 &    0.00 & 0 &    0.00 &    0.00 &    0.00 &    0.00 &    0.00 &   0.00 &   0.00 &    0.0 &    0.00 &    0.00 &    0.00 &    0.00 &    0.00 &    0.00 &    0.00 &    0.00 &    0.00 &    0.00 &    0.00 &    0.00 &    1.00 &    0.00 &    0.00 &   0.00 &    0.0 &   0.0 &   0.00 &    0.00 &    0.00 &    0.00 &    0.00 &    0.00 &    0.00 &    0.00 &    0.00 &    0.00\\\\\n",
       "\tENSG00000000419.12 &  118.00 &  127.00 &  107.00 &  159.00 &   79.00 &   83.00 &  100.00 &  151.00 &  189.00 &   79.00 &  47.00 &  106.00 &  181.0 &  138.00 &  121.00 &  131.00 &  117.00 &   63.0 &   61.00 &  42.0 &   86.00 &  125.00 &  147.00 &  179.00 &   87.00 &  121.00 &   77.0 &   56.00 & 0 &   55.00 &  108.00 &   77.00 &  120.00 &   69.00 & 141.00 & 123.00 &  101.0 &  111.00 &   56.00 &   52.00 &   88.00 &   72.00 &   85.00 &  122.00 &   63.00 &  103.00 &  114.00 &   45.00 &  100.00 &   89.00 &   97.00 &  275.00 &  92.00 &  170.0 &  59.0 &  47.00 &  118.00 &   92.00 &   64.00 &  183.00 &  189.00 &   86.00 &  137.00 &  184.00 &  118.00\\\\\n",
       "\tENSG00000000457.13 &  240.62 &  276.31 &  254.35 &  225.02 &  234.61 &  200.96 &  165.91 &  269.95 &  323.61 &  157.46 &  85.46 &  306.77 &  382.4 &  364.02 &  320.73 &  402.36 &  261.36 &  114.6 &  224.58 &  71.6 &  286.53 &  314.67 &  307.78 &  354.97 &  220.08 &  210.52 &  187.8 &  167.22 & 0 &  218.78 &  228.57 &  265.43 &  297.23 &  163.83 & 257.09 & 210.48 &  221.8 &  211.17 &  131.48 &  214.03 &  316.65 &  177.02 &  207.19 &  167.65 &  139.32 &  219.66 &  319.75 &  123.35 &  269.03 &  230.93 &  266.05 &  454.69 & 187.24 &  330.3 & 141.8 & 106.28 &  294.79 &  227.07 &  203.26 &  263.25 &  272.84 &  186.32 &  216.41 &  292.29 &  253.39\\\\\n",
       "\tENSG00000000460.16 &   88.38 &   68.69 &   50.65 &   75.98 &   65.39 &   55.04 &   54.09 &   53.05 &   87.39 &   42.54 &  17.54 &  111.23 &   93.6 &   82.98 &   88.27 &  114.64 &   73.64 &   37.4 &   64.42 &  22.4 &   92.47 &  102.33 &   77.22 &   93.03 &   58.92 &   54.48 &   54.2 &   41.78 & 0 &   52.22 &   64.43 &   69.57 &   83.77 &   51.17 &  54.91 &  66.52 &   54.2 &   79.83 &   66.52 &   73.97 &  112.35 &   51.98 &   53.81 &   61.35 &   29.68 &   62.34 &   92.25 &   35.65 &   65.97 &   66.07 &   55.95 &  149.31 &  44.76 &   54.7 &  41.2 &  31.72 &   57.21 &   56.93 &   56.74 &   72.75 &   66.16 &   71.68 &   46.59 &   86.71 &   57.61\\\\\n",
       "\tENSG00000000938.12 & 2142.00 & 2545.00 & 2243.00 & 2249.00 & 1732.00 & 2083.00 & 2114.00 & 2422.00 & 3041.00 & 1814.00 & 655.00 & 2334.00 & 2471.0 & 2855.00 & 2222.00 & 3524.00 & 2226.00 & 1254.0 & 2033.00 & 545.0 & 1822.00 & 3236.00 & 2363.00 & 2880.00 & 1860.00 & 2271.00 & 1836.0 & 1755.00 & 0 & 2326.00 & 2381.00 & 2812.00 & 2879.00 & 1850.00 & 917.00 & 988.00 & 2524.0 & 2775.00 & 1994.00 & 1903.00 & 2783.00 & 1146.00 & 1542.00 & 1410.00 & 1454.00 & 1571.00 & 2295.00 & 1593.00 & 3073.00 & 1944.00 & 2504.00 & 3097.00 & 669.00 & 2224.0 & 959.0 & 754.00 & 2276.00 & 2138.00 & 2273.00 & 2817.00 & 2381.00 & 1847.00 & 1936.00 & 2874.00 & 2931.00\\\\\n",
       "\\end{tabular}\n"
      ],
      "text/markdown": [
       "\n",
       "A data.frame: 6 × 65\n",
       "\n",
       "| <!--/--> | EL20_S20_L004_R1_001 &lt;dbl&gt; | EL62_S62_L004_R1_001 &lt;dbl&gt; | EL60_S60_L004_R1_001 &lt;dbl&gt; | EL59_S59_L004_R1_001 &lt;dbl&gt; | EL61_S61_L004_R1_001 &lt;dbl&gt; | EL29_S29_L004_R1_001 &lt;dbl&gt; | EL49_S49_L004_R1_001 &lt;dbl&gt; | EL32_S32_L004_R1_001 &lt;dbl&gt; | EL51_S51_L004_R1_001 &lt;dbl&gt; | EL22_S22_L004_R1_001 &lt;dbl&gt; | ⋯ ⋯ | EL6_S6_L004_R1_001 &lt;dbl&gt; | EL24_S24_L004_R1_001 &lt;dbl&gt; | EL10_S10_L004_R1_001 &lt;dbl&gt; | EL12_S12_L004_R1_001 &lt;dbl&gt; | EL34_S34_L004_R1_001 &lt;dbl&gt; | EL38_S38_L004_R1_001 &lt;dbl&gt; | EL58_S58_L004_R1_001 &lt;dbl&gt; | EL50_S50_L004_R1_001 &lt;dbl&gt; | EL44_S44_L004_R1_001 &lt;dbl&gt; | EL63_S63_L004_R1_001 &lt;dbl&gt; |\n",
       "|---|---|---|---|---|---|---|---|---|---|---|---|---|---|---|---|---|---|---|---|---|---|\n",
       "| ENSG00000000003.14 |    1.00 |    2.00 |    2.00 |    4.00 |    4.00 |    0.00 |    3.00 |    2.00 |    2.00 |    4.00 | ⋯ |   1.00 |    3.00 |    2.00 |    0.00 |    1.00 |    4.00 |    3.00 |    0.00 |    4.00 |    4.00 |\n",
       "| ENSG00000000005.5 |    0.00 |    0.00 |    0.00 |    0.00 |    0.00 |    0.00 |    0.00 |    0.00 |    0.00 |    0.00 | ⋯ |   0.00 |    0.00 |    0.00 |    0.00 |    0.00 |    0.00 |    0.00 |    0.00 |    0.00 |    0.00 |\n",
       "| ENSG00000000419.12 |  118.00 |  127.00 |  107.00 |  159.00 |   79.00 |   83.00 |  100.00 |  151.00 |  189.00 |   79.00 | ⋯ |  47.00 |  118.00 |   92.00 |   64.00 |  183.00 |  189.00 |   86.00 |  137.00 |  184.00 |  118.00 |\n",
       "| ENSG00000000457.13 |  240.62 |  276.31 |  254.35 |  225.02 |  234.61 |  200.96 |  165.91 |  269.95 |  323.61 |  157.46 | ⋯ | 106.28 |  294.79 |  227.07 |  203.26 |  263.25 |  272.84 |  186.32 |  216.41 |  292.29 |  253.39 |\n",
       "| ENSG00000000460.16 |   88.38 |   68.69 |   50.65 |   75.98 |   65.39 |   55.04 |   54.09 |   53.05 |   87.39 |   42.54 | ⋯ |  31.72 |   57.21 |   56.93 |   56.74 |   72.75 |   66.16 |   71.68 |   46.59 |   86.71 |   57.61 |\n",
       "| ENSG00000000938.12 | 2142.00 | 2545.00 | 2243.00 | 2249.00 | 1732.00 | 2083.00 | 2114.00 | 2422.00 | 3041.00 | 1814.00 | ⋯ | 754.00 | 2276.00 | 2138.00 | 2273.00 | 2817.00 | 2381.00 | 1847.00 | 1936.00 | 2874.00 | 2931.00 |\n",
       "\n"
      ],
      "text/plain": [
       "                   EL20_S20_L004_R1_001 EL62_S62_L004_R1_001\n",
       "ENSG00000000003.14    1.00                 2.00             \n",
       "ENSG00000000005.5     0.00                 0.00             \n",
       "ENSG00000000419.12  118.00               127.00             \n",
       "ENSG00000000457.13  240.62               276.31             \n",
       "ENSG00000000460.16   88.38                68.69             \n",
       "ENSG00000000938.12 2142.00              2545.00             \n",
       "                   EL60_S60_L004_R1_001 EL59_S59_L004_R1_001\n",
       "ENSG00000000003.14    2.00                 4.00             \n",
       "ENSG00000000005.5     0.00                 0.00             \n",
       "ENSG00000000419.12  107.00               159.00             \n",
       "ENSG00000000457.13  254.35               225.02             \n",
       "ENSG00000000460.16   50.65                75.98             \n",
       "ENSG00000000938.12 2243.00              2249.00             \n",
       "                   EL61_S61_L004_R1_001 EL29_S29_L004_R1_001\n",
       "ENSG00000000003.14    4.00                 0.00             \n",
       "ENSG00000000005.5     0.00                 0.00             \n",
       "ENSG00000000419.12   79.00                83.00             \n",
       "ENSG00000000457.13  234.61               200.96             \n",
       "ENSG00000000460.16   65.39                55.04             \n",
       "ENSG00000000938.12 1732.00              2083.00             \n",
       "                   EL49_S49_L004_R1_001 EL32_S32_L004_R1_001\n",
       "ENSG00000000003.14    3.00                 2.00             \n",
       "ENSG00000000005.5     0.00                 0.00             \n",
       "ENSG00000000419.12  100.00               151.00             \n",
       "ENSG00000000457.13  165.91               269.95             \n",
       "ENSG00000000460.16   54.09                53.05             \n",
       "ENSG00000000938.12 2114.00              2422.00             \n",
       "                   EL51_S51_L004_R1_001 EL22_S22_L004_R1_001 ⋯\n",
       "ENSG00000000003.14    2.00                 4.00              ⋯\n",
       "ENSG00000000005.5     0.00                 0.00              ⋯\n",
       "ENSG00000000419.12  189.00                79.00              ⋯\n",
       "ENSG00000000457.13  323.61               157.46              ⋯\n",
       "ENSG00000000460.16   87.39                42.54              ⋯\n",
       "ENSG00000000938.12 3041.00              1814.00              ⋯\n",
       "                   EL6_S6_L004_R1_001 EL24_S24_L004_R1_001 EL10_S10_L004_R1_001\n",
       "ENSG00000000003.14   1.00                3.00                 2.00             \n",
       "ENSG00000000005.5    0.00                0.00                 0.00             \n",
       "ENSG00000000419.12  47.00              118.00                92.00             \n",
       "ENSG00000000457.13 106.28              294.79               227.07             \n",
       "ENSG00000000460.16  31.72               57.21                56.93             \n",
       "ENSG00000000938.12 754.00             2276.00              2138.00             \n",
       "                   EL12_S12_L004_R1_001 EL34_S34_L004_R1_001\n",
       "ENSG00000000003.14    0.00                 1.00             \n",
       "ENSG00000000005.5     0.00                 0.00             \n",
       "ENSG00000000419.12   64.00               183.00             \n",
       "ENSG00000000457.13  203.26               263.25             \n",
       "ENSG00000000460.16   56.74                72.75             \n",
       "ENSG00000000938.12 2273.00              2817.00             \n",
       "                   EL38_S38_L004_R1_001 EL58_S58_L004_R1_001\n",
       "ENSG00000000003.14    4.00                 3.00             \n",
       "ENSG00000000005.5     0.00                 0.00             \n",
       "ENSG00000000419.12  189.00                86.00             \n",
       "ENSG00000000457.13  272.84               186.32             \n",
       "ENSG00000000460.16   66.16                71.68             \n",
       "ENSG00000000938.12 2381.00              1847.00             \n",
       "                   EL50_S50_L004_R1_001 EL44_S44_L004_R1_001\n",
       "ENSG00000000003.14    0.00                 4.00             \n",
       "ENSG00000000005.5     0.00                 0.00             \n",
       "ENSG00000000419.12  137.00               184.00             \n",
       "ENSG00000000457.13  216.41               292.29             \n",
       "ENSG00000000460.16   46.59                86.71             \n",
       "ENSG00000000938.12 1936.00              2874.00             \n",
       "                   EL63_S63_L004_R1_001\n",
       "ENSG00000000003.14    4.00             \n",
       "ENSG00000000005.5     0.00             \n",
       "ENSG00000000419.12  118.00             \n",
       "ENSG00000000457.13  253.39             \n",
       "ENSG00000000460.16   57.61             \n",
       "ENSG00000000938.12 2931.00             "
      ]
     },
     "metadata": {},
     "output_type": "display_data"
    }
   ],
   "source": [
    "head(gUnorderedGeneCountsDf)"
   ]
  },
  {
   "cell_type": "markdown",
   "metadata": {},
   "source": [
    "No assumption is made that the columns (samples) of the gene count file are currently ordered in the order desirable for the differential expression analysis."
   ]
  },
  {
   "cell_type": "markdown",
   "metadata": {},
   "source": [
    "[Table of Contents](#Table-of-Contents)\n",
    "\n",
    "### Metadata\n",
    "\n",
    "> For downstream analysis, sample-level information related to the experimental design needs to be associated with the columns of the counts matrix. This should include experimental variables, both biological and technical, that could have an effect on expression levels. Examples [could] include cell type (basal, LP and ML in this experiment), genotype (wild-type, knock-out), phenotype (disease status, sex, age), sample treatment (drug, control) and batch information (date experiment was performed if samples were collected and analysed at distinct time points) to name just a few. ([1](#Citations))\n",
    "\n",
    "Import a metadata file in which rows are sample identifiers, columns are metadata features (e.g., subject id, time point, etc) and row/column intersections contain the value of the relevant feature for the relevant sample:"
   ]
  },
  {
   "cell_type": "code",
   "execution_count": 9,
   "metadata": {},
   "outputs": [
    {
     "data": {
      "text/html": [
       "<ol class=list-inline>\n",
       "\t<li>65</li>\n",
       "\t<li>13</li>\n",
       "</ol>\n"
      ],
      "text/latex": [
       "\\begin{enumerate*}\n",
       "\\item 65\n",
       "\\item 13\n",
       "\\end{enumerate*}\n"
      ],
      "text/markdown": [
       "1. 65\n",
       "2. 13\n",
       "\n",
       "\n"
      ],
      "text/plain": [
       "[1] 65 13"
      ]
     },
     "metadata": {},
     "output_type": "display_data"
    }
   ],
   "source": [
    "#Read in metadata\n",
    "gMetadataDf <- read.csv(gMetadataFp, stringsAsFactors=FALSE, sep = \"\\t\")\n",
    "dim(gMetadataDf)"
   ]
  },
  {
   "cell_type": "code",
   "execution_count": 10,
   "metadata": {},
   "outputs": [
    {
     "data": {
      "text/html": [
       "<table>\n",
       "<caption>A data.frame: 6 × 13</caption>\n",
       "<thead>\n",
       "\t<tr><th scope=col>File_Name</th><th scope=col>Sample_name</th><th scope=col>Sample_ID</th><th scope=col>Patient</th><th scope=col>Condition</th><th scope=col>Treatment</th><th scope=col>Condition_Treatment</th><th scope=col>Tissue</th><th scope=col>Date_Collected</th><th scope=col>Physio_State</th><th scope=col>Treatment.1</th><th scope=col>Pass_QC</th><th scope=col>cpf_include</th></tr>\n",
       "\t<tr><th scope=col>&lt;chr&gt;</th><th scope=col>&lt;chr&gt;</th><th scope=col>&lt;chr&gt;</th><th scope=col>&lt;chr&gt;</th><th scope=col>&lt;chr&gt;</th><th scope=col>&lt;chr&gt;</th><th scope=col>&lt;chr&gt;</th><th scope=col>&lt;chr&gt;</th><th scope=col>&lt;chr&gt;</th><th scope=col>&lt;chr&gt;</th><th scope=col>&lt;chr&gt;</th><th scope=col>&lt;chr&gt;</th><th scope=col>&lt;int&gt;</th></tr>\n",
       "</thead>\n",
       "<tbody>\n",
       "\t<tr><td>EL24_S24_L004_R1_001.fastq.gz</td><td>EL24_S24_L004_R1_001</td><td>S24</td><td>MAN_4</td><td>CMS</td><td>POSTHEM_FASTING</td><td>CMS_POSTHEM_FASTING</td><td>Whole Blood</td><td>15-Dec-17</td><td>POSTHEM</td><td>FASTING</td><td></td><td> 1</td></tr>\n",
       "\t<tr><td>EL54_S54_L004_R1_001.fastq.gz</td><td>EL54_S54_L004_R1_001</td><td>S54</td><td>MAN_4</td><td>CMS</td><td>POSTHEM_FASTING</td><td>CMS_POSTHEM_FASTING</td><td>Whole Blood</td><td>13-Dec-17</td><td>POSTHEM</td><td>FASTING</td><td></td><td>NA</td></tr>\n",
       "\t<tr><td>EL27_S27_L004_R1_001.fastq.gz</td><td>EL27_S27_L004_R1_001</td><td>S27</td><td>MVT_6</td><td>CMS</td><td>POSTHEM_FASTING</td><td>CMS_POSTHEM_FASTING</td><td>Whole Blood</td><td>14-Dec-17</td><td>POSTHEM</td><td>FASTING</td><td></td><td>NA</td></tr>\n",
       "\t<tr><td>EL52_S52_L004_R1_001.fastq.gz</td><td>EL52_S52_L004_R1_001</td><td>S52</td><td>MVT_6</td><td>CMS</td><td>POSTHEM_FASTING</td><td>CMS_POSTHEM_FASTING</td><td>Whole Blood</td><td>15-Dec-17</td><td>POSTHEM</td><td>FASTING</td><td></td><td> 1</td></tr>\n",
       "\t<tr><td>EL26_S26_L004_R1_001.fastq.gz</td><td>EL26_S26_L004_R1_001</td><td>S26</td><td>NCR_3</td><td>CMS</td><td>POSTHEM_FASTING</td><td>CMS_POSTHEM_FASTING</td><td>Whole Blood</td><td>13-Dec-17</td><td>POSTHEM</td><td>FASTING</td><td></td><td>NA</td></tr>\n",
       "\t<tr><td>EL41_S41_L004_R1_001.fastq.gz</td><td>EL41_S41_L004_R1_001</td><td>S41</td><td>NCR_3</td><td>CMS</td><td>POSTHEM_FASTING</td><td>CMS_POSTHEM_FASTING</td><td>Whole Blood</td><td>15-Dec-17</td><td>POSTHEM</td><td>FASTING</td><td></td><td> 1</td></tr>\n",
       "</tbody>\n",
       "</table>\n"
      ],
      "text/latex": [
       "A data.frame: 6 × 13\n",
       "\\begin{tabular}{r|lllllllllllll}\n",
       " File\\_Name & Sample\\_name & Sample\\_ID & Patient & Condition & Treatment & Condition\\_Treatment & Tissue & Date\\_Collected & Physio\\_State & Treatment.1 & Pass\\_QC & cpf\\_include\\\\\n",
       " <chr> & <chr> & <chr> & <chr> & <chr> & <chr> & <chr> & <chr> & <chr> & <chr> & <chr> & <chr> & <int>\\\\\n",
       "\\hline\n",
       "\t EL24\\_S24\\_L004\\_R1\\_001.fastq.gz & EL24\\_S24\\_L004\\_R1\\_001 & S24 & MAN\\_4 & CMS & POSTHEM\\_FASTING & CMS\\_POSTHEM\\_FASTING & Whole Blood & 15-Dec-17 & POSTHEM & FASTING &  &  1\\\\\n",
       "\t EL54\\_S54\\_L004\\_R1\\_001.fastq.gz & EL54\\_S54\\_L004\\_R1\\_001 & S54 & MAN\\_4 & CMS & POSTHEM\\_FASTING & CMS\\_POSTHEM\\_FASTING & Whole Blood & 13-Dec-17 & POSTHEM & FASTING &  & NA\\\\\n",
       "\t EL27\\_S27\\_L004\\_R1\\_001.fastq.gz & EL27\\_S27\\_L004\\_R1\\_001 & S27 & MVT\\_6 & CMS & POSTHEM\\_FASTING & CMS\\_POSTHEM\\_FASTING & Whole Blood & 14-Dec-17 & POSTHEM & FASTING &  & NA\\\\\n",
       "\t EL52\\_S52\\_L004\\_R1\\_001.fastq.gz & EL52\\_S52\\_L004\\_R1\\_001 & S52 & MVT\\_6 & CMS & POSTHEM\\_FASTING & CMS\\_POSTHEM\\_FASTING & Whole Blood & 15-Dec-17 & POSTHEM & FASTING &  &  1\\\\\n",
       "\t EL26\\_S26\\_L004\\_R1\\_001.fastq.gz & EL26\\_S26\\_L004\\_R1\\_001 & S26 & NCR\\_3 & CMS & POSTHEM\\_FASTING & CMS\\_POSTHEM\\_FASTING & Whole Blood & 13-Dec-17 & POSTHEM & FASTING &  & NA\\\\\n",
       "\t EL41\\_S41\\_L004\\_R1\\_001.fastq.gz & EL41\\_S41\\_L004\\_R1\\_001 & S41 & NCR\\_3 & CMS & POSTHEM\\_FASTING & CMS\\_POSTHEM\\_FASTING & Whole Blood & 15-Dec-17 & POSTHEM & FASTING &  &  1\\\\\n",
       "\\end{tabular}\n"
      ],
      "text/markdown": [
       "\n",
       "A data.frame: 6 × 13\n",
       "\n",
       "| File_Name &lt;chr&gt; | Sample_name &lt;chr&gt; | Sample_ID &lt;chr&gt; | Patient &lt;chr&gt; | Condition &lt;chr&gt; | Treatment &lt;chr&gt; | Condition_Treatment &lt;chr&gt; | Tissue &lt;chr&gt; | Date_Collected &lt;chr&gt; | Physio_State &lt;chr&gt; | Treatment.1 &lt;chr&gt; | Pass_QC &lt;chr&gt; | cpf_include &lt;int&gt; |\n",
       "|---|---|---|---|---|---|---|---|---|---|---|---|---|\n",
       "| EL24_S24_L004_R1_001.fastq.gz | EL24_S24_L004_R1_001 | S24 | MAN_4 | CMS | POSTHEM_FASTING | CMS_POSTHEM_FASTING | Whole Blood | 15-Dec-17 | POSTHEM | FASTING | <!----> |  1 |\n",
       "| EL54_S54_L004_R1_001.fastq.gz | EL54_S54_L004_R1_001 | S54 | MAN_4 | CMS | POSTHEM_FASTING | CMS_POSTHEM_FASTING | Whole Blood | 13-Dec-17 | POSTHEM | FASTING | <!----> | NA |\n",
       "| EL27_S27_L004_R1_001.fastq.gz | EL27_S27_L004_R1_001 | S27 | MVT_6 | CMS | POSTHEM_FASTING | CMS_POSTHEM_FASTING | Whole Blood | 14-Dec-17 | POSTHEM | FASTING | <!----> | NA |\n",
       "| EL52_S52_L004_R1_001.fastq.gz | EL52_S52_L004_R1_001 | S52 | MVT_6 | CMS | POSTHEM_FASTING | CMS_POSTHEM_FASTING | Whole Blood | 15-Dec-17 | POSTHEM | FASTING | <!----> |  1 |\n",
       "| EL26_S26_L004_R1_001.fastq.gz | EL26_S26_L004_R1_001 | S26 | NCR_3 | CMS | POSTHEM_FASTING | CMS_POSTHEM_FASTING | Whole Blood | 13-Dec-17 | POSTHEM | FASTING | <!----> | NA |\n",
       "| EL41_S41_L004_R1_001.fastq.gz | EL41_S41_L004_R1_001 | S41 | NCR_3 | CMS | POSTHEM_FASTING | CMS_POSTHEM_FASTING | Whole Blood | 15-Dec-17 | POSTHEM | FASTING | <!----> |  1 |\n",
       "\n"
      ],
      "text/plain": [
       "  File_Name                     Sample_name          Sample_ID Patient\n",
       "1 EL24_S24_L004_R1_001.fastq.gz EL24_S24_L004_R1_001 S24       MAN_4  \n",
       "2 EL54_S54_L004_R1_001.fastq.gz EL54_S54_L004_R1_001 S54       MAN_4  \n",
       "3 EL27_S27_L004_R1_001.fastq.gz EL27_S27_L004_R1_001 S27       MVT_6  \n",
       "4 EL52_S52_L004_R1_001.fastq.gz EL52_S52_L004_R1_001 S52       MVT_6  \n",
       "5 EL26_S26_L004_R1_001.fastq.gz EL26_S26_L004_R1_001 S26       NCR_3  \n",
       "6 EL41_S41_L004_R1_001.fastq.gz EL41_S41_L004_R1_001 S41       NCR_3  \n",
       "  Condition Treatment       Condition_Treatment Tissue      Date_Collected\n",
       "1 CMS       POSTHEM_FASTING CMS_POSTHEM_FASTING Whole Blood 15-Dec-17     \n",
       "2 CMS       POSTHEM_FASTING CMS_POSTHEM_FASTING Whole Blood 13-Dec-17     \n",
       "3 CMS       POSTHEM_FASTING CMS_POSTHEM_FASTING Whole Blood 14-Dec-17     \n",
       "4 CMS       POSTHEM_FASTING CMS_POSTHEM_FASTING Whole Blood 15-Dec-17     \n",
       "5 CMS       POSTHEM_FASTING CMS_POSTHEM_FASTING Whole Blood 13-Dec-17     \n",
       "6 CMS       POSTHEM_FASTING CMS_POSTHEM_FASTING Whole Blood 15-Dec-17     \n",
       "  Physio_State Treatment.1 Pass_QC cpf_include\n",
       "1 POSTHEM      FASTING              1         \n",
       "2 POSTHEM      FASTING             NA         \n",
       "3 POSTHEM      FASTING             NA         \n",
       "4 POSTHEM      FASTING              1         \n",
       "5 POSTHEM      FASTING             NA         \n",
       "6 POSTHEM      FASTING              1         "
      ]
     },
     "metadata": {},
     "output_type": "display_data"
    }
   ],
   "source": [
    "head(gMetadataDf)"
   ]
  },
  {
   "cell_type": "code",
   "execution_count": 11,
   "metadata": {},
   "outputs": [],
   "source": [
    "gSampleNames = gMetadataDf[[\"Sample_name\"]]"
   ]
  },
  {
   "cell_type": "markdown",
   "metadata": {},
   "source": [
    "Check the dimensions of the count data and the metadata to ensure that the count dataframe has the same number of columns (samples) as the metadata dataframe has rows (again, samples), and that the sample names are the same in both: "
   ]
  },
  {
   "cell_type": "code",
   "execution_count": 12,
   "metadata": {},
   "outputs": [
    {
     "data": {
      "text/html": [
       "<ol class=list-inline>\n",
       "\t<li>58676</li>\n",
       "\t<li>65</li>\n",
       "</ol>\n"
      ],
      "text/latex": [
       "\\begin{enumerate*}\n",
       "\\item 58676\n",
       "\\item 65\n",
       "\\end{enumerate*}\n"
      ],
      "text/markdown": [
       "1. 58676\n",
       "2. 65\n",
       "\n",
       "\n"
      ],
      "text/plain": [
       "[1] 58676    65"
      ]
     },
     "metadata": {},
     "output_type": "display_data"
    },
    {
     "data": {
      "text/html": [
       "<ol class=list-inline>\n",
       "\t<li>65</li>\n",
       "\t<li>13</li>\n",
       "</ol>\n"
      ],
      "text/latex": [
       "\\begin{enumerate*}\n",
       "\\item 65\n",
       "\\item 13\n",
       "\\end{enumerate*}\n"
      ],
      "text/markdown": [
       "1. 65\n",
       "2. 13\n",
       "\n",
       "\n"
      ],
      "text/plain": [
       "[1] 65 13"
      ]
     },
     "metadata": {},
     "output_type": "display_data"
    },
    {
     "data": {
      "text/html": [
       "TRUE"
      ],
      "text/latex": [
       "TRUE"
      ],
      "text/markdown": [
       "TRUE"
      ],
      "text/plain": [
       "[1] TRUE"
      ]
     },
     "metadata": {},
     "output_type": "display_data"
    }
   ],
   "source": [
    "dim(gUnorderedGeneCountsDf)\n",
    "dim(gMetadataDf)\n",
    "\n",
    "all(colnames(gUnorderedGeneCountsDf) %in% gSampleNames)"
   ]
  },
  {
   "cell_type": "markdown",
   "metadata": {},
   "source": [
    "Assume that the order of the samples shown in the metadata is the desired order, and reorder the columns in the counts table to match it:"
   ]
  },
  {
   "cell_type": "code",
   "execution_count": 14,
   "metadata": {},
   "outputs": [
    {
     "data": {
      "text/html": [
       "<table>\n",
       "<caption>A data.frame: 6 × 65</caption>\n",
       "<thead>\n",
       "\t<tr><th></th><th scope=col>EL24_S24_L004_R1_001</th><th scope=col>EL54_S54_L004_R1_001</th><th scope=col>EL27_S27_L004_R1_001</th><th scope=col>EL52_S52_L004_R1_001</th><th scope=col>EL26_S26_L004_R1_001</th><th scope=col>EL41_S41_L004_R1_001</th><th scope=col>EL2_S2_L004_R1_001</th><th scope=col>EL34_S34_L004_R1_001</th><th scope=col>EL25_S25_L004_R1_001</th><th scope=col>EL62_S62_L004_R1_001</th><th scope=col>⋯</th><th scope=col>EL48_S48_L004_R1_001</th><th scope=col>EL63_S63_L004_R1_001</th><th scope=col>EL16_S16_L004_R1_001</th><th scope=col>EL40_S40_L004_R1_001</th><th scope=col>EL11_S11_L004_R1_001</th><th scope=col>EL37_S37_L004_R1_001</th><th scope=col>EL12_S12_L004_R1_001</th><th scope=col>EL44_S44_L004_R1_001</th><th scope=col>EL23_S23_L004_R1_001</th><th scope=col>EL51_S51_L004_R1_001</th></tr>\n",
       "\t<tr><th></th><th scope=col>&lt;dbl&gt;</th><th scope=col>&lt;dbl&gt;</th><th scope=col>&lt;dbl&gt;</th><th scope=col>&lt;dbl&gt;</th><th scope=col>&lt;dbl&gt;</th><th scope=col>&lt;dbl&gt;</th><th scope=col>&lt;dbl&gt;</th><th scope=col>&lt;dbl&gt;</th><th scope=col>&lt;dbl&gt;</th><th scope=col>&lt;dbl&gt;</th><th scope=col>⋯</th><th scope=col>&lt;dbl&gt;</th><th scope=col>&lt;dbl&gt;</th><th scope=col>&lt;dbl&gt;</th><th scope=col>&lt;dbl&gt;</th><th scope=col>&lt;dbl&gt;</th><th scope=col>&lt;dbl&gt;</th><th scope=col>&lt;dbl&gt;</th><th scope=col>&lt;dbl&gt;</th><th scope=col>&lt;dbl&gt;</th><th scope=col>&lt;dbl&gt;</th></tr>\n",
       "</thead>\n",
       "<tbody>\n",
       "\t<tr><th scope=row>ENSG00000000003.14</th><td>   3.00</td><td>   3.00</td><td>   0.00</td><td>   0.00</td><td>   2.00</td><td>   1.00</td><td>   1.00</td><td>   1.00</td><td>   2.00</td><td>   2.00</td><td>⋯</td><td>   3.00</td><td>   4.00</td><td>   1.00</td><td>   1.0</td><td>   2.00</td><td>   3.00</td><td>   0.00</td><td>   4.00</td><td>   4.00</td><td>   2.00</td></tr>\n",
       "\t<tr><th scope=row>ENSG00000000005.5</th><td>   0.00</td><td>   0.00</td><td>   0.00</td><td>   0.00</td><td>   0.00</td><td>   0.00</td><td>   0.00</td><td>   0.00</td><td>   0.00</td><td>   0.00</td><td>⋯</td><td>   0.00</td><td>   0.00</td><td>   0.00</td><td>   0.0</td><td>   0.00</td><td>   0.00</td><td>   0.00</td><td>   0.00</td><td>   0.00</td><td>   0.00</td></tr>\n",
       "\t<tr><th scope=row>ENSG00000000419.12</th><td> 118.00</td><td>  87.00</td><td>  88.00</td><td>  52.00</td><td> 108.00</td><td> 122.00</td><td>  45.00</td><td> 183.00</td><td>  63.00</td><td> 127.00</td><td>⋯</td><td> 179.00</td><td> 118.00</td><td>  55.00</td><td> 170.0</td><td> 138.00</td><td> 147.00</td><td>  64.00</td><td> 184.00</td><td> 125.00</td><td> 189.00</td></tr>\n",
       "\t<tr><th scope=row>ENSG00000000457.13</th><td> 294.79</td><td> 220.08</td><td> 316.65</td><td> 214.03</td><td> 228.57</td><td> 167.65</td><td> 123.35</td><td> 263.25</td><td> 139.32</td><td> 276.31</td><td>⋯</td><td> 354.97</td><td> 253.39</td><td> 218.78</td><td> 330.3</td><td> 364.02</td><td> 307.78</td><td> 203.26</td><td> 292.29</td><td> 314.67</td><td> 323.61</td></tr>\n",
       "\t<tr><th scope=row>ENSG00000000460.16</th><td>  57.21</td><td>  58.92</td><td> 112.35</td><td>  73.97</td><td>  64.43</td><td>  61.35</td><td>  35.65</td><td>  72.75</td><td>  29.68</td><td>  68.69</td><td>⋯</td><td>  93.03</td><td>  57.61</td><td>  52.22</td><td>  54.7</td><td>  82.98</td><td>  77.22</td><td>  56.74</td><td>  86.71</td><td> 102.33</td><td>  87.39</td></tr>\n",
       "\t<tr><th scope=row>ENSG00000000938.12</th><td>2276.00</td><td>1860.00</td><td>2783.00</td><td>1903.00</td><td>2381.00</td><td>1410.00</td><td>1593.00</td><td>2817.00</td><td>1454.00</td><td>2545.00</td><td>⋯</td><td>2880.00</td><td>2931.00</td><td>2326.00</td><td>2224.0</td><td>2855.00</td><td>2363.00</td><td>2273.00</td><td>2874.00</td><td>3236.00</td><td>3041.00</td></tr>\n",
       "</tbody>\n",
       "</table>\n"
      ],
      "text/latex": [
       "A data.frame: 6 × 65\n",
       "\\begin{tabular}{r|lllllllllllllllllllllllllllllllllllllllllllllllllllllllllllllllll}\n",
       "  & EL24\\_S24\\_L004\\_R1\\_001 & EL54\\_S54\\_L004\\_R1\\_001 & EL27\\_S27\\_L004\\_R1\\_001 & EL52\\_S52\\_L004\\_R1\\_001 & EL26\\_S26\\_L004\\_R1\\_001 & EL41\\_S41\\_L004\\_R1\\_001 & EL2\\_S2\\_L004\\_R1\\_001 & EL34\\_S34\\_L004\\_R1\\_001 & EL25\\_S25\\_L004\\_R1\\_001 & EL62\\_S62\\_L004\\_R1\\_001 & EL36\\_S36\\_L004\\_R1\\_001 & EL7\\_S7\\_L004\\_R1\\_001 & EL8\\_S8\\_L004\\_R1\\_001 & EL9\\_S9\\_L004\\_R1\\_001 & EL59\\_S59\\_L004\\_R1\\_001 & EL29\\_S29\\_L004\\_R1\\_001 & EL22\\_S22\\_L004\\_R1\\_001 & EL17\\_S17\\_L004\\_R1\\_001 & EL30\\_S30\\_L004\\_R1\\_001 & EL6\\_S6\\_L004\\_R1\\_001 & EL45\\_S45\\_L004\\_R1\\_001 & EL58\\_S58\\_L004\\_R1\\_001 & EL46\\_S46\\_L004\\_R1\\_001 & EL64\\_S64\\_L004\\_R1\\_001 & EL65\\_S65\\_L004\\_R1\\_001 & EL15\\_S15\\_L004\\_R1\\_001 & EL21\\_S21\\_L004\\_R1\\_001 & EL42\\_S42\\_L004\\_R1\\_001 & EL49\\_S49\\_L004\\_R1\\_001 & EL3\\_S3\\_L004\\_R1\\_001 & EL13\\_S13\\_L004\\_R1\\_001 & EL33\\_S33\\_L004\\_R1\\_001 & EL47\\_S47\\_L004\\_R1\\_001 & EL56\\_S56\\_L004\\_R1\\_001 & EL32\\_S32\\_L004\\_R1\\_001 & EL57\\_S57\\_L004\\_R1\\_001 & EL31\\_S31\\_L004\\_R1\\_001 & EL5\\_S5\\_L004\\_R1\\_001 & EL35\\_S35\\_L004\\_R1\\_001 & EL1\\_S1\\_L004\\_R1\\_001 & EL60\\_S60\\_L004\\_R1\\_001 & EL43\\_S43\\_L004\\_R1\\_001 & EL14\\_S14\\_L004\\_R1\\_001 & EL4\\_S4\\_L004\\_R1\\_001 & EL53\\_S53\\_L004\\_R1\\_001 & EL19\\_S19\\_L004\\_R1\\_001 & EL20\\_S20\\_L004\\_R1\\_001 & EL10\\_S10\\_L004\\_R1\\_001 & EL39\\_S39\\_L004\\_R1\\_001 & EL18\\_S18\\_L004\\_R1\\_001 & EL38\\_S38\\_L004\\_R1\\_001 & EL28\\_S28\\_L004\\_R1\\_001 & EL61\\_S61\\_L004\\_R1\\_001 & EL55\\_S55\\_L004\\_R1\\_001 & EL50\\_S50\\_L004\\_R1\\_001 & EL48\\_S48\\_L004\\_R1\\_001 & EL63\\_S63\\_L004\\_R1\\_001 & EL16\\_S16\\_L004\\_R1\\_001 & EL40\\_S40\\_L004\\_R1\\_001 & EL11\\_S11\\_L004\\_R1\\_001 & EL37\\_S37\\_L004\\_R1\\_001 & EL12\\_S12\\_L004\\_R1\\_001 & EL44\\_S44\\_L004\\_R1\\_001 & EL23\\_S23\\_L004\\_R1\\_001 & EL51\\_S51\\_L004\\_R1\\_001\\\\\n",
       "  & <dbl> & <dbl> & <dbl> & <dbl> & <dbl> & <dbl> & <dbl> & <dbl> & <dbl> & <dbl> & <dbl> & <dbl> & <dbl> & <dbl> & <dbl> & <dbl> & <dbl> & <dbl> & <dbl> & <dbl> & <dbl> & <dbl> & <dbl> & <dbl> & <dbl> & <dbl> & <dbl> & <dbl> & <dbl> & <dbl> & <dbl> & <dbl> & <dbl> & <dbl> & <dbl> & <dbl> & <dbl> & <dbl> & <dbl> & <dbl> & <dbl> & <dbl> & <dbl> & <dbl> & <dbl> & <dbl> & <dbl> & <dbl> & <dbl> & <dbl> & <dbl> & <dbl> & <dbl> & <dbl> & <dbl> & <dbl> & <dbl> & <dbl> & <dbl> & <dbl> & <dbl> & <dbl> & <dbl> & <dbl> & <dbl>\\\\\n",
       "\\hline\n",
       "\tENSG00000000003.14 &    3.00 &    3.00 &    0.00 &    0.00 &    2.00 &    1.00 &    1.00 &    1.00 &    2.00 &    2.00 &    3.00 &    0.0 &   0.0 &    0.00 &    4.00 &    0.00 &    4.00 &   1.0 &    1.00 &   1.00 &    3.00 &    3.00 &   0.00 &    1.00 &   1.00 &    0.00 &    0.00 & 0 &    3.00 &    0.00 &    1.0 &    0.0 &    2.0 &    3.00 &    2.00 &    0.00 &    3.00 &    0.00 &   0.00 &    0.00 &    2.00 &    2.00 &   0.00 &    0.00 &    1.00 &    0.00 &    1.00 &    2.00 &    2.00 &    0.00 &    4.00 &    2.00 &    4.00 &    3.00 &    0.00 &    3.00 &    4.00 &    1.00 &    1.0 &    2.00 &    3.00 &    0.00 &    4.00 &    4.00 &    2.00\\\\\n",
       "\tENSG00000000005.5 &    0.00 &    0.00 &    0.00 &    0.00 &    0.00 &    0.00 &    0.00 &    0.00 &    0.00 &    0.00 &    0.00 &    0.0 &   0.0 &    0.00 &    0.00 &    0.00 &    0.00 &   0.0 &    0.00 &   0.00 &    0.00 &    0.00 &   0.00 &    0.00 &   0.00 &    0.00 &    0.00 & 0 &    0.00 &    0.00 &    0.0 &    0.0 &    0.0 &    0.00 &    0.00 &    0.00 &    0.00 &    0.00 &   0.00 &    0.00 &    0.00 &    0.00 &   0.00 &    0.00 &    0.00 &    0.00 &    0.00 &    0.00 &    1.00 &    0.00 &    0.00 &    0.00 &    0.00 &    0.00 &    0.00 &    0.00 &    0.00 &    0.00 &    0.0 &    0.00 &    0.00 &    0.00 &    0.00 &    0.00 &    0.00\\\\\n",
       "\tENSG00000000419.12 &  118.00 &   87.00 &   88.00 &   52.00 &  108.00 &  122.00 &   45.00 &  183.00 &   63.00 &  127.00 &   85.00 &   77.0 &  42.0 &   86.00 &  159.00 &   83.00 &   79.00 &  59.0 &  121.00 &  47.00 &  275.00 &   86.00 &  47.00 &   69.00 &  92.00 &  114.00 &  121.00 & 0 &  100.00 &   56.00 &  101.0 &   63.0 &  181.0 &   56.00 &  151.00 &   72.00 &  117.00 &  106.00 & 141.00 &   61.00 &  107.00 &  103.00 & 123.00 &   77.00 &  120.00 &  111.00 &  118.00 &   92.00 &   89.00 &  100.00 &  189.00 &  131.00 &   79.00 &   97.00 &  137.00 &  179.00 &  118.00 &   55.00 &  170.0 &  138.00 &  147.00 &   64.00 &  184.00 &  125.00 &  189.00\\\\\n",
       "\tENSG00000000457.13 &  294.79 &  220.08 &  316.65 &  214.03 &  228.57 &  167.65 &  123.35 &  263.25 &  139.32 &  276.31 &  207.19 &  187.8 &  71.6 &  286.53 &  225.02 &  200.96 &  157.46 & 141.8 &  210.52 & 106.28 &  454.69 &  186.32 &  85.46 &  163.83 & 187.24 &  319.75 &  320.73 & 0 &  165.91 &  167.22 &  221.8 &  114.6 &  382.4 &  131.48 &  269.95 &  177.02 &  261.36 &  306.77 & 257.09 &  224.58 &  254.35 &  219.66 & 210.48 &  265.43 &  297.23 &  211.17 &  240.62 &  227.07 &  230.93 &  269.03 &  272.84 &  402.36 &  234.61 &  266.05 &  216.41 &  354.97 &  253.39 &  218.78 &  330.3 &  364.02 &  307.78 &  203.26 &  292.29 &  314.67 &  323.61\\\\\n",
       "\tENSG00000000460.16 &   57.21 &   58.92 &  112.35 &   73.97 &   64.43 &   61.35 &   35.65 &   72.75 &   29.68 &   68.69 &   53.81 &   54.2 &  22.4 &   92.47 &   75.98 &   55.04 &   42.54 &  41.2 &   54.48 &  31.72 &  149.31 &   71.68 &  17.54 &   51.17 &  44.76 &   92.25 &   88.27 & 0 &   54.09 &   41.78 &   54.2 &   37.4 &   93.6 &   66.52 &   53.05 &   51.98 &   73.64 &  111.23 &  54.91 &   64.42 &   50.65 &   62.34 &  66.52 &   69.57 &   83.77 &   79.83 &   88.38 &   56.93 &   66.07 &   65.97 &   66.16 &  114.64 &   65.39 &   55.95 &   46.59 &   93.03 &   57.61 &   52.22 &   54.7 &   82.98 &   77.22 &   56.74 &   86.71 &  102.33 &   87.39\\\\\n",
       "\tENSG00000000938.12 & 2276.00 & 1860.00 & 2783.00 & 1903.00 & 2381.00 & 1410.00 & 1593.00 & 2817.00 & 1454.00 & 2545.00 & 1542.00 & 1836.0 & 545.0 & 1822.00 & 2249.00 & 2083.00 & 1814.00 & 959.0 & 2271.00 & 754.00 & 3097.00 & 1847.00 & 655.00 & 1850.00 & 669.00 & 2295.00 & 2222.00 & 0 & 2114.00 & 1755.00 & 2524.0 & 1254.0 & 2471.0 & 1994.00 & 2422.00 & 1146.00 & 2226.00 & 2334.00 & 917.00 & 2033.00 & 2243.00 & 1571.00 & 988.00 & 2812.00 & 2879.00 & 2775.00 & 2142.00 & 2138.00 & 1944.00 & 3073.00 & 2381.00 & 3524.00 & 1732.00 & 2504.00 & 1936.00 & 2880.00 & 2931.00 & 2326.00 & 2224.0 & 2855.00 & 2363.00 & 2273.00 & 2874.00 & 3236.00 & 3041.00\\\\\n",
       "\\end{tabular}\n"
      ],
      "text/markdown": [
       "\n",
       "A data.frame: 6 × 65\n",
       "\n",
       "| <!--/--> | EL24_S24_L004_R1_001 &lt;dbl&gt; | EL54_S54_L004_R1_001 &lt;dbl&gt; | EL27_S27_L004_R1_001 &lt;dbl&gt; | EL52_S52_L004_R1_001 &lt;dbl&gt; | EL26_S26_L004_R1_001 &lt;dbl&gt; | EL41_S41_L004_R1_001 &lt;dbl&gt; | EL2_S2_L004_R1_001 &lt;dbl&gt; | EL34_S34_L004_R1_001 &lt;dbl&gt; | EL25_S25_L004_R1_001 &lt;dbl&gt; | EL62_S62_L004_R1_001 &lt;dbl&gt; | ⋯ ⋯ | EL48_S48_L004_R1_001 &lt;dbl&gt; | EL63_S63_L004_R1_001 &lt;dbl&gt; | EL16_S16_L004_R1_001 &lt;dbl&gt; | EL40_S40_L004_R1_001 &lt;dbl&gt; | EL11_S11_L004_R1_001 &lt;dbl&gt; | EL37_S37_L004_R1_001 &lt;dbl&gt; | EL12_S12_L004_R1_001 &lt;dbl&gt; | EL44_S44_L004_R1_001 &lt;dbl&gt; | EL23_S23_L004_R1_001 &lt;dbl&gt; | EL51_S51_L004_R1_001 &lt;dbl&gt; |\n",
       "|---|---|---|---|---|---|---|---|---|---|---|---|---|---|---|---|---|---|---|---|---|---|\n",
       "| ENSG00000000003.14 |    3.00 |    3.00 |    0.00 |    0.00 |    2.00 |    1.00 |    1.00 |    1.00 |    2.00 |    2.00 | ⋯ |    3.00 |    4.00 |    1.00 |    1.0 |    2.00 |    3.00 |    0.00 |    4.00 |    4.00 |    2.00 |\n",
       "| ENSG00000000005.5 |    0.00 |    0.00 |    0.00 |    0.00 |    0.00 |    0.00 |    0.00 |    0.00 |    0.00 |    0.00 | ⋯ |    0.00 |    0.00 |    0.00 |    0.0 |    0.00 |    0.00 |    0.00 |    0.00 |    0.00 |    0.00 |\n",
       "| ENSG00000000419.12 |  118.00 |   87.00 |   88.00 |   52.00 |  108.00 |  122.00 |   45.00 |  183.00 |   63.00 |  127.00 | ⋯ |  179.00 |  118.00 |   55.00 |  170.0 |  138.00 |  147.00 |   64.00 |  184.00 |  125.00 |  189.00 |\n",
       "| ENSG00000000457.13 |  294.79 |  220.08 |  316.65 |  214.03 |  228.57 |  167.65 |  123.35 |  263.25 |  139.32 |  276.31 | ⋯ |  354.97 |  253.39 |  218.78 |  330.3 |  364.02 |  307.78 |  203.26 |  292.29 |  314.67 |  323.61 |\n",
       "| ENSG00000000460.16 |   57.21 |   58.92 |  112.35 |   73.97 |   64.43 |   61.35 |   35.65 |   72.75 |   29.68 |   68.69 | ⋯ |   93.03 |   57.61 |   52.22 |   54.7 |   82.98 |   77.22 |   56.74 |   86.71 |  102.33 |   87.39 |\n",
       "| ENSG00000000938.12 | 2276.00 | 1860.00 | 2783.00 | 1903.00 | 2381.00 | 1410.00 | 1593.00 | 2817.00 | 1454.00 | 2545.00 | ⋯ | 2880.00 | 2931.00 | 2326.00 | 2224.0 | 2855.00 | 2363.00 | 2273.00 | 2874.00 | 3236.00 | 3041.00 |\n",
       "\n"
      ],
      "text/plain": [
       "                   EL24_S24_L004_R1_001 EL54_S54_L004_R1_001\n",
       "ENSG00000000003.14    3.00                 3.00             \n",
       "ENSG00000000005.5     0.00                 0.00             \n",
       "ENSG00000000419.12  118.00                87.00             \n",
       "ENSG00000000457.13  294.79               220.08             \n",
       "ENSG00000000460.16   57.21                58.92             \n",
       "ENSG00000000938.12 2276.00              1860.00             \n",
       "                   EL27_S27_L004_R1_001 EL52_S52_L004_R1_001\n",
       "ENSG00000000003.14    0.00                 0.00             \n",
       "ENSG00000000005.5     0.00                 0.00             \n",
       "ENSG00000000419.12   88.00                52.00             \n",
       "ENSG00000000457.13  316.65               214.03             \n",
       "ENSG00000000460.16  112.35                73.97             \n",
       "ENSG00000000938.12 2783.00              1903.00             \n",
       "                   EL26_S26_L004_R1_001 EL41_S41_L004_R1_001 EL2_S2_L004_R1_001\n",
       "ENSG00000000003.14    2.00                 1.00                 1.00           \n",
       "ENSG00000000005.5     0.00                 0.00                 0.00           \n",
       "ENSG00000000419.12  108.00               122.00                45.00           \n",
       "ENSG00000000457.13  228.57               167.65               123.35           \n",
       "ENSG00000000460.16   64.43                61.35                35.65           \n",
       "ENSG00000000938.12 2381.00              1410.00              1593.00           \n",
       "                   EL34_S34_L004_R1_001 EL25_S25_L004_R1_001\n",
       "ENSG00000000003.14    1.00                 2.00             \n",
       "ENSG00000000005.5     0.00                 0.00             \n",
       "ENSG00000000419.12  183.00                63.00             \n",
       "ENSG00000000457.13  263.25               139.32             \n",
       "ENSG00000000460.16   72.75                29.68             \n",
       "ENSG00000000938.12 2817.00              1454.00             \n",
       "                   EL62_S62_L004_R1_001 ⋯ EL48_S48_L004_R1_001\n",
       "ENSG00000000003.14    2.00              ⋯    3.00             \n",
       "ENSG00000000005.5     0.00              ⋯    0.00             \n",
       "ENSG00000000419.12  127.00              ⋯  179.00             \n",
       "ENSG00000000457.13  276.31              ⋯  354.97             \n",
       "ENSG00000000460.16   68.69              ⋯   93.03             \n",
       "ENSG00000000938.12 2545.00              ⋯ 2880.00             \n",
       "                   EL63_S63_L004_R1_001 EL16_S16_L004_R1_001\n",
       "ENSG00000000003.14    4.00                 1.00             \n",
       "ENSG00000000005.5     0.00                 0.00             \n",
       "ENSG00000000419.12  118.00                55.00             \n",
       "ENSG00000000457.13  253.39               218.78             \n",
       "ENSG00000000460.16   57.61                52.22             \n",
       "ENSG00000000938.12 2931.00              2326.00             \n",
       "                   EL40_S40_L004_R1_001 EL11_S11_L004_R1_001\n",
       "ENSG00000000003.14    1.0                  2.00             \n",
       "ENSG00000000005.5     0.0                  0.00             \n",
       "ENSG00000000419.12  170.0                138.00             \n",
       "ENSG00000000457.13  330.3                364.02             \n",
       "ENSG00000000460.16   54.7                 82.98             \n",
       "ENSG00000000938.12 2224.0               2855.00             \n",
       "                   EL37_S37_L004_R1_001 EL12_S12_L004_R1_001\n",
       "ENSG00000000003.14    3.00                 0.00             \n",
       "ENSG00000000005.5     0.00                 0.00             \n",
       "ENSG00000000419.12  147.00                64.00             \n",
       "ENSG00000000457.13  307.78               203.26             \n",
       "ENSG00000000460.16   77.22                56.74             \n",
       "ENSG00000000938.12 2363.00              2273.00             \n",
       "                   EL44_S44_L004_R1_001 EL23_S23_L004_R1_001\n",
       "ENSG00000000003.14    4.00                 4.00             \n",
       "ENSG00000000005.5     0.00                 0.00             \n",
       "ENSG00000000419.12  184.00               125.00             \n",
       "ENSG00000000457.13  292.29               314.67             \n",
       "ENSG00000000460.16   86.71               102.33             \n",
       "ENSG00000000938.12 2874.00              3236.00             \n",
       "                   EL51_S51_L004_R1_001\n",
       "ENSG00000000003.14    2.00             \n",
       "ENSG00000000005.5     0.00             \n",
       "ENSG00000000419.12  189.00             \n",
       "ENSG00000000457.13  323.61             \n",
       "ENSG00000000460.16   87.39             \n",
       "ENSG00000000938.12 3041.00             "
      ]
     },
     "metadata": {},
     "output_type": "display_data"
    }
   ],
   "source": [
    "gGeneCountsDf = gUnorderedGeneCountsDf[gSampleNames]\n",
    "head(gGeneCountsDf)"
   ]
  },
  {
   "cell_type": "markdown",
   "metadata": {},
   "source": [
    "If the count file gene identifiers do NOT include version numbers (e.g., the \".4\" part in a gene identifier like \"ENSG00000268020.4\"), then it is necessary to truncate the version information from the public annotation data to be used below in order to match the annotation data gene identifiers to the count file gene identifiers.  Set the flag for version removal accordingly:"
   ]
  },
  {
   "cell_type": "code",
   "execution_count": 15,
   "metadata": {},
   "outputs": [],
   "source": [
    "gRemoveVersion <- FALSE\n",
    "#gRemoveVersion <- TRUE"
   ]
  },
  {
   "cell_type": "markdown",
   "metadata": {},
   "source": [
    "[Table of Contents](#Table-of-Contents)\n",
    "\n",
    "###  Annotations\n",
    "\n",
    "If a previously created file of the gene annotations has been provided, load it:"
   ]
  },
  {
   "cell_type": "code",
   "execution_count": 16,
   "metadata": {},
   "outputs": [
    {
     "data": {
      "text/html": [
       "<table>\n",
       "<caption>A data.frame: 6 × 3</caption>\n",
       "<thead>\n",
       "\t<tr><th scope=col>gene_type</th><th scope=col>gene_id</th><th scope=col>transcript_id</th></tr>\n",
       "\t<tr><th scope=col>&lt;chr&gt;</th><th scope=col>&lt;chr&gt;</th><th scope=col>&lt;chr&gt;</th></tr>\n",
       "</thead>\n",
       "<tbody>\n",
       "\t<tr><td>transcribed_unprocessed_pseudogene</td><td>ENSG00000223972.5</td><td>ENST00000456328.2</td></tr>\n",
       "\t<tr><td>transcribed_unprocessed_pseudogene</td><td>ENSG00000223972.5</td><td>ENST00000450305.2</td></tr>\n",
       "\t<tr><td>unprocessed_pseudogene            </td><td>ENSG00000227232.5</td><td>ENST00000488147.1</td></tr>\n",
       "\t<tr><td>miRNA                             </td><td>ENSG00000278267.1</td><td>ENST00000619216.1</td></tr>\n",
       "\t<tr><td>lincRNA                           </td><td>ENSG00000243485.5</td><td>ENST00000473358.1</td></tr>\n",
       "\t<tr><td>lincRNA                           </td><td>ENSG00000243485.5</td><td>ENST00000469289.1</td></tr>\n",
       "</tbody>\n",
       "</table>\n"
      ],
      "text/latex": [
       "A data.frame: 6 × 3\n",
       "\\begin{tabular}{r|lll}\n",
       " gene\\_type & gene\\_id & transcript\\_id\\\\\n",
       " <chr> & <chr> & <chr>\\\\\n",
       "\\hline\n",
       "\t transcribed\\_unprocessed\\_pseudogene & ENSG00000223972.5 & ENST00000456328.2\\\\\n",
       "\t transcribed\\_unprocessed\\_pseudogene & ENSG00000223972.5 & ENST00000450305.2\\\\\n",
       "\t unprocessed\\_pseudogene             & ENSG00000227232.5 & ENST00000488147.1\\\\\n",
       "\t miRNA                              & ENSG00000278267.1 & ENST00000619216.1\\\\\n",
       "\t lincRNA                            & ENSG00000243485.5 & ENST00000473358.1\\\\\n",
       "\t lincRNA                            & ENSG00000243485.5 & ENST00000469289.1\\\\\n",
       "\\end{tabular}\n"
      ],
      "text/markdown": [
       "\n",
       "A data.frame: 6 × 3\n",
       "\n",
       "| gene_type &lt;chr&gt; | gene_id &lt;chr&gt; | transcript_id &lt;chr&gt; |\n",
       "|---|---|---|\n",
       "| transcribed_unprocessed_pseudogene | ENSG00000223972.5 | ENST00000456328.2 |\n",
       "| transcribed_unprocessed_pseudogene | ENSG00000223972.5 | ENST00000450305.2 |\n",
       "| unprocessed_pseudogene             | ENSG00000227232.5 | ENST00000488147.1 |\n",
       "| miRNA                              | ENSG00000278267.1 | ENST00000619216.1 |\n",
       "| lincRNA                            | ENSG00000243485.5 | ENST00000473358.1 |\n",
       "| lincRNA                            | ENSG00000243485.5 | ENST00000469289.1 |\n",
       "\n"
      ],
      "text/plain": [
       "  gene_type                          gene_id           transcript_id    \n",
       "1 transcribed_unprocessed_pseudogene ENSG00000223972.5 ENST00000456328.2\n",
       "2 transcribed_unprocessed_pseudogene ENSG00000223972.5 ENST00000450305.2\n",
       "3 unprocessed_pseudogene             ENSG00000227232.5 ENST00000488147.1\n",
       "4 miRNA                              ENSG00000278267.1 ENST00000619216.1\n",
       "5 lincRNA                            ENSG00000243485.5 ENST00000473358.1\n",
       "6 lincRNA                            ENSG00000243485.5 ENST00000469289.1"
      ]
     },
     "metadata": {},
     "output_type": "display_data"
    }
   ],
   "source": [
    "\n",
    "if (!is.null(gAnnotationsRdataFilename)) {\n",
    "    gAnnotationsRdataFp = file.path(gReferenceDir, gAnnotationsRdataFilename)  \n",
    "    \n",
    "    # Import the R data object containing gene annotations and load its dataframe into a variable:\n",
    "    gAnnotationEnv = loadToEnvironment(gAnnotationsRdataFp)\n",
    "    gGeneTypeAnnotationsDf = gAnnotationEnv$ANNOT\n",
    "    \n",
    "    head(gGeneTypeAnnotationsDf)\n",
    "} else {\n",
    "    print(\"No annotations provided.\")\n",
    "}"
   ]
  },
  {
   "cell_type": "markdown",
   "metadata": {},
   "source": [
    "[Table of Contents](#Table-of-Contents)\n",
    "\n",
    "## Gene Separation By Coding Status"
   ]
  },
  {
   "cell_type": "markdown",
   "metadata": {},
   "source": [
    "Gene annotations are records of each gene's identifier and symbol, where the gene begins and ends on the genome sequence, and whether it is anticipated to be a coding gene or not.  There are multiple sources of gene annotations."
   ]
  },
  {
   "cell_type": "markdown",
   "metadata": {},
   "source": [
    "\n",
    "   > Here we use the human gene annotations from the Gencode project, Release 29 (GRCh38.p12).\n"
   ]
  },
  {
   "cell_type": "code",
   "execution_count": 17,
   "metadata": {},
   "outputs": [],
   "source": [
    "splitGeneCountsByCodingStatus = function(geneCountDf, gtfDf, removeVersion=FALSE){\n",
    "    #Subset GTF by protein coding and noncoding\n",
    "    ANNOT_protein_coding <- subset(gtfDf, gene_type == \"protein_coding\")\n",
    "    ANNOT_ncRNA <- subset(gtfDf, gene_type %in% c(\"lincRNA\", \"antisense\", \"processed_transcript\",\"sense_overlapping\", \"sense_intronic\") )\n",
    "\n",
    "    #make list of IDs to query\n",
    "    protein_coding_ids <- ANNOT_protein_coding$gene_id\n",
    "    ncRNA_ids <- ANNOT_ncRNA$gene_id\n",
    "    \n",
    "    if (removeVersion){\n",
    "        protein_coding_ids <- removeAccessionVersion(protein_coding_ids)\n",
    "        ncRNA_ids <- removeAccessionVersion(ncRNA_ids)        \n",
    "    }\n",
    "\n",
    "    #subset geneCounts\n",
    "    geneCount_protein_coding <- subset(geneCountDf, row.names(geneCountDf) %in% protein_coding_ids)\n",
    "    geneCount_ncRNA <- subset(geneCountDf, row.names(geneCountDf) %in% ncRNA_ids)\n",
    "    return(list(codingGeneCountDf=geneCount_protein_coding, noncodingGeneCountDf=geneCount_ncRNA))\n",
    "}\n",
    "\n",
    "removeAccessionVersion = function(accessionVector){\n",
    "    return (gsub(\"\\\\..*\",\"\",accessionVector))\n",
    "}\n",
    "\n",
    "writeSubsetCounts = function(subsetCountsDf, outputDir, runName, fileSuffix){\n",
    "    fileName = sprintf(fileSuffix, runName)\n",
    "    write.csv(subsetCountsDf, file.path(outputDir, fileName))\n",
    "    print(paste0(\"Output file: \",fileName))\n",
    "}\n",
    "\n",
    "writeSubsetsCounts = function(splitGeneCountDfsList, outputDir, runName){\n",
    "    writeSubsetCounts(splitGeneCountDfsList$codingGeneCountDf, outputDir, runName,\"%s_raw_pc_genes_counts.csv\")\n",
    "    writeSubsetCounts(splitGeneCountDfsList$noncodingGeneCountDf, outputDir, runName,\"%s_raw_nc_genes_counts.csv\")\n",
    "}"
   ]
  },
  {
   "cell_type": "markdown",
   "metadata": {},
   "source": [
    "Split the count data into coding and non-coding subsets, and extract each subset into a file based on the annotation file provided in the input parameters:"
   ]
  },
  {
   "cell_type": "code",
   "execution_count": 18,
   "metadata": {},
   "outputs": [],
   "source": [
    "gSplitGeneCountDfsList = splitGeneCountsByCodingStatus(gGeneCountsDf, gGeneTypeAnnotationsDf, gRemoveVersion)"
   ]
  },
  {
   "cell_type": "code",
   "execution_count": 19,
   "metadata": {},
   "outputs": [
    {
     "data": {
      "text/html": [
       "<ol class=list-inline>\n",
       "\t<li>58676</li>\n",
       "\t<li>65</li>\n",
       "</ol>\n"
      ],
      "text/latex": [
       "\\begin{enumerate*}\n",
       "\\item 58676\n",
       "\\item 65\n",
       "\\end{enumerate*}\n"
      ],
      "text/markdown": [
       "1. 58676\n",
       "2. 65\n",
       "\n",
       "\n"
      ],
      "text/plain": [
       "[1] 58676    65"
      ]
     },
     "metadata": {},
     "output_type": "display_data"
    },
    {
     "data": {
      "text/html": [
       "<ol class=list-inline>\n",
       "\t<li>19922</li>\n",
       "\t<li>65</li>\n",
       "</ol>\n"
      ],
      "text/latex": [
       "\\begin{enumerate*}\n",
       "\\item 19922\n",
       "\\item 65\n",
       "\\end{enumerate*}\n"
      ],
      "text/markdown": [
       "1. 19922\n",
       "2. 65\n",
       "\n",
       "\n"
      ],
      "text/plain": [
       "[1] 19922    65"
      ]
     },
     "metadata": {},
     "output_type": "display_data"
    },
    {
     "data": {
      "text/html": [
       "<ol class=list-inline>\n",
       "\t<li>14886</li>\n",
       "\t<li>65</li>\n",
       "</ol>\n"
      ],
      "text/latex": [
       "\\begin{enumerate*}\n",
       "\\item 14886\n",
       "\\item 65\n",
       "\\end{enumerate*}\n"
      ],
      "text/markdown": [
       "1. 14886\n",
       "2. 65\n",
       "\n",
       "\n"
      ],
      "text/plain": [
       "[1] 14886    65"
      ]
     },
     "metadata": {},
     "output_type": "display_data"
    }
   ],
   "source": [
    "dim(gGeneCountsDf)\n",
    "dim(gSplitGeneCountDfsList$codingGeneCountDf)\n",
    "dim(gSplitGeneCountDfsList$noncodingGeneCountDf)"
   ]
  },
  {
   "cell_type": "code",
   "execution_count": 20,
   "metadata": {},
   "outputs": [
    {
     "name": "stdout",
     "output_type": "stream",
     "text": [
      "[1] \"Output file: 20191108_simonson_rnaseq_data_integration_20200213120626_raw_pc_genes_counts.csv\"\n",
      "[1] \"Output file: 20191108_simonson_rnaseq_data_integration_20200213120626_raw_nc_genes_counts.csv\"\n"
     ]
    }
   ],
   "source": [
    "writeSubsetsCounts(gSplitGeneCountDfsList, gOutputDir, gRunName)"
   ]
  },
  {
   "cell_type": "markdown",
   "metadata": {},
   "source": [
    "[Table of Contents](#Table-of-Contents)\n",
    "\n",
    "## Data Integration\n",
    "\n",
    "\n",
    "\n",
    "Integrate the count data and the metadata into an edgeR DGEList object for use in downstream analysis:\n",
    "\n",
    "> Our DGEList-object contains a samples data frame that stores both ... group ... and batch ... information, each of which consists of ... distinct levels. Note that within x$samples, library sizes are automatically calculated for each sample and normalisation factors are set to 1. ([1](#Citations))"
   ]
  },
  {
   "cell_type": "code",
   "execution_count": 21,
   "metadata": {},
   "outputs": [],
   "source": [
    "# If the researcher wishes to analyze just coding genes, run: \n",
    "gGeneType = \"pc\"\n",
    "gRelevantGeneCountsDf <- gSplitGeneCountDfsList$codingGeneCountDf\n",
    "\n",
    "# If researcher wishes to analyze just non-coding genes, run:\n",
    "# gGeneType = \"nc\"\n",
    "# gRelevantGeneCountsDf <- gSplitGeneCountDfsList$noncodingGeneCountDf\n",
    "\n",
    "# If researcher wishes to analyze both coding and non-coding genes together, run:\n",
    "# gGeneType = \"all\"\n",
    "# gRelevantGeneCountsDf <- gGeneCountsDf"
   ]
  },
  {
   "cell_type": "code",
   "execution_count": 22,
   "metadata": {},
   "outputs": [],
   "source": [
    "# create a DGEList object\n",
    "makeDgeList = function(countsDf, metadataDf, groupColName){\n",
    "    # remove the accession version (.##etc) from the ensembl gene id\n",
    "    id_list <- gsub(\"[.].*$\",\"\", row.names(countsDf))\n",
    "    row.names(countsDf) <- id_list\n",
    "    # Note: in DGEList constructor, parameters\n",
    "    # lib.size = colSums(counts_matrix), \n",
    "    # norm.factors = rep(1,ncol(counts_matrix)), \n",
    "    # genes = NULL, and remove.zeros = FALSE\n",
    "    # are all identical to the default values you'd get if you didn't \n",
    "    # specify these arguments at all ...\n",
    "    x <- DGEList(counts = countsDf, lib.size = colSums(countsDf),\n",
    "    norm.factors = rep(1,ncol(countsDf)), samples = metadataDf,\n",
    "        group = metadataDf[[groupColName]], genes = NULL, remove.zeros = FALSE)\n",
    "    return(x)\n",
    "}"
   ]
  },
  {
   "cell_type": "code",
   "execution_count": 23,
   "metadata": {},
   "outputs": [],
   "source": [
    "gGroupCategory = \"Condition_Treatment\""
   ]
  },
  {
   "cell_type": "code",
   "execution_count": 24,
   "metadata": {},
   "outputs": [
    {
     "data": {
      "text/html": [
       "<ol class=list-inline>\n",
       "\t<li>'counts'</li>\n",
       "\t<li>'samples'</li>\n",
       "</ol>\n"
      ],
      "text/latex": [
       "\\begin{enumerate*}\n",
       "\\item 'counts'\n",
       "\\item 'samples'\n",
       "\\end{enumerate*}\n"
      ],
      "text/markdown": [
       "1. 'counts'\n",
       "2. 'samples'\n",
       "\n",
       "\n"
      ],
      "text/plain": [
       "[1] \"counts\"  \"samples\""
      ]
     },
     "metadata": {},
     "output_type": "display_data"
    }
   ],
   "source": [
    "gDgeList = makeDgeList(gRelevantGeneCountsDf, gMetadataDf, gGroupCategory)\n",
    "names(gDgeList)"
   ]
  },
  {
   "cell_type": "markdown",
   "metadata": {},
   "source": [
    "As a sanity-check, look at representative content from the DGEList:"
   ]
  },
  {
   "cell_type": "code",
   "execution_count": 25,
   "metadata": {},
   "outputs": [
    {
     "data": {
      "text/html": [
       "<table>\n",
       "<caption>A matrix: 6 × 65 of type dbl</caption>\n",
       "<thead>\n",
       "\t<tr><th></th><th scope=col>EL24_S24_L004_R1_001</th><th scope=col>EL54_S54_L004_R1_001</th><th scope=col>EL27_S27_L004_R1_001</th><th scope=col>EL52_S52_L004_R1_001</th><th scope=col>EL26_S26_L004_R1_001</th><th scope=col>EL41_S41_L004_R1_001</th><th scope=col>EL2_S2_L004_R1_001</th><th scope=col>EL34_S34_L004_R1_001</th><th scope=col>EL25_S25_L004_R1_001</th><th scope=col>EL62_S62_L004_R1_001</th><th scope=col>⋯</th><th scope=col>EL48_S48_L004_R1_001</th><th scope=col>EL63_S63_L004_R1_001</th><th scope=col>EL16_S16_L004_R1_001</th><th scope=col>EL40_S40_L004_R1_001</th><th scope=col>EL11_S11_L004_R1_001</th><th scope=col>EL37_S37_L004_R1_001</th><th scope=col>EL12_S12_L004_R1_001</th><th scope=col>EL44_S44_L004_R1_001</th><th scope=col>EL23_S23_L004_R1_001</th><th scope=col>EL51_S51_L004_R1_001</th></tr>\n",
       "</thead>\n",
       "<tbody>\n",
       "\t<tr><th scope=row>ENSG00000000003</th><td>   3.00</td><td>   3.00</td><td>   0.00</td><td>   0.00</td><td>   2.00</td><td>   1.00</td><td>   1.00</td><td>   1.00</td><td>   2.00</td><td>   2.00</td><td>⋯</td><td>   3.00</td><td>   4.00</td><td>   1.00</td><td>   1.0</td><td>   2.00</td><td>   3.00</td><td>   0.00</td><td>   4.00</td><td>   4.00</td><td>   2.00</td></tr>\n",
       "\t<tr><th scope=row>ENSG00000000005</th><td>   0.00</td><td>   0.00</td><td>   0.00</td><td>   0.00</td><td>   0.00</td><td>   0.00</td><td>   0.00</td><td>   0.00</td><td>   0.00</td><td>   0.00</td><td>⋯</td><td>   0.00</td><td>   0.00</td><td>   0.00</td><td>   0.0</td><td>   0.00</td><td>   0.00</td><td>   0.00</td><td>   0.00</td><td>   0.00</td><td>   0.00</td></tr>\n",
       "\t<tr><th scope=row>ENSG00000000419</th><td> 118.00</td><td>  87.00</td><td>  88.00</td><td>  52.00</td><td> 108.00</td><td> 122.00</td><td>  45.00</td><td> 183.00</td><td>  63.00</td><td> 127.00</td><td>⋯</td><td> 179.00</td><td> 118.00</td><td>  55.00</td><td> 170.0</td><td> 138.00</td><td> 147.00</td><td>  64.00</td><td> 184.00</td><td> 125.00</td><td> 189.00</td></tr>\n",
       "\t<tr><th scope=row>ENSG00000000457</th><td> 294.79</td><td> 220.08</td><td> 316.65</td><td> 214.03</td><td> 228.57</td><td> 167.65</td><td> 123.35</td><td> 263.25</td><td> 139.32</td><td> 276.31</td><td>⋯</td><td> 354.97</td><td> 253.39</td><td> 218.78</td><td> 330.3</td><td> 364.02</td><td> 307.78</td><td> 203.26</td><td> 292.29</td><td> 314.67</td><td> 323.61</td></tr>\n",
       "\t<tr><th scope=row>ENSG00000000460</th><td>  57.21</td><td>  58.92</td><td> 112.35</td><td>  73.97</td><td>  64.43</td><td>  61.35</td><td>  35.65</td><td>  72.75</td><td>  29.68</td><td>  68.69</td><td>⋯</td><td>  93.03</td><td>  57.61</td><td>  52.22</td><td>  54.7</td><td>  82.98</td><td>  77.22</td><td>  56.74</td><td>  86.71</td><td> 102.33</td><td>  87.39</td></tr>\n",
       "\t<tr><th scope=row>ENSG00000000938</th><td>2276.00</td><td>1860.00</td><td>2783.00</td><td>1903.00</td><td>2381.00</td><td>1410.00</td><td>1593.00</td><td>2817.00</td><td>1454.00</td><td>2545.00</td><td>⋯</td><td>2880.00</td><td>2931.00</td><td>2326.00</td><td>2224.0</td><td>2855.00</td><td>2363.00</td><td>2273.00</td><td>2874.00</td><td>3236.00</td><td>3041.00</td></tr>\n",
       "</tbody>\n",
       "</table>\n"
      ],
      "text/latex": [
       "A matrix: 6 × 65 of type dbl\n",
       "\\begin{tabular}{r|lllllllllllllllllllllllllllllllllllllllllllllllllllllllllllllllll}\n",
       "  & EL24\\_S24\\_L004\\_R1\\_001 & EL54\\_S54\\_L004\\_R1\\_001 & EL27\\_S27\\_L004\\_R1\\_001 & EL52\\_S52\\_L004\\_R1\\_001 & EL26\\_S26\\_L004\\_R1\\_001 & EL41\\_S41\\_L004\\_R1\\_001 & EL2\\_S2\\_L004\\_R1\\_001 & EL34\\_S34\\_L004\\_R1\\_001 & EL25\\_S25\\_L004\\_R1\\_001 & EL62\\_S62\\_L004\\_R1\\_001 & EL36\\_S36\\_L004\\_R1\\_001 & EL7\\_S7\\_L004\\_R1\\_001 & EL8\\_S8\\_L004\\_R1\\_001 & EL9\\_S9\\_L004\\_R1\\_001 & EL59\\_S59\\_L004\\_R1\\_001 & EL29\\_S29\\_L004\\_R1\\_001 & EL22\\_S22\\_L004\\_R1\\_001 & EL17\\_S17\\_L004\\_R1\\_001 & EL30\\_S30\\_L004\\_R1\\_001 & EL6\\_S6\\_L004\\_R1\\_001 & EL45\\_S45\\_L004\\_R1\\_001 & EL58\\_S58\\_L004\\_R1\\_001 & EL46\\_S46\\_L004\\_R1\\_001 & EL64\\_S64\\_L004\\_R1\\_001 & EL65\\_S65\\_L004\\_R1\\_001 & EL15\\_S15\\_L004\\_R1\\_001 & EL21\\_S21\\_L004\\_R1\\_001 & EL42\\_S42\\_L004\\_R1\\_001 & EL49\\_S49\\_L004\\_R1\\_001 & EL3\\_S3\\_L004\\_R1\\_001 & EL13\\_S13\\_L004\\_R1\\_001 & EL33\\_S33\\_L004\\_R1\\_001 & EL47\\_S47\\_L004\\_R1\\_001 & EL56\\_S56\\_L004\\_R1\\_001 & EL32\\_S32\\_L004\\_R1\\_001 & EL57\\_S57\\_L004\\_R1\\_001 & EL31\\_S31\\_L004\\_R1\\_001 & EL5\\_S5\\_L004\\_R1\\_001 & EL35\\_S35\\_L004\\_R1\\_001 & EL1\\_S1\\_L004\\_R1\\_001 & EL60\\_S60\\_L004\\_R1\\_001 & EL43\\_S43\\_L004\\_R1\\_001 & EL14\\_S14\\_L004\\_R1\\_001 & EL4\\_S4\\_L004\\_R1\\_001 & EL53\\_S53\\_L004\\_R1\\_001 & EL19\\_S19\\_L004\\_R1\\_001 & EL20\\_S20\\_L004\\_R1\\_001 & EL10\\_S10\\_L004\\_R1\\_001 & EL39\\_S39\\_L004\\_R1\\_001 & EL18\\_S18\\_L004\\_R1\\_001 & EL38\\_S38\\_L004\\_R1\\_001 & EL28\\_S28\\_L004\\_R1\\_001 & EL61\\_S61\\_L004\\_R1\\_001 & EL55\\_S55\\_L004\\_R1\\_001 & EL50\\_S50\\_L004\\_R1\\_001 & EL48\\_S48\\_L004\\_R1\\_001 & EL63\\_S63\\_L004\\_R1\\_001 & EL16\\_S16\\_L004\\_R1\\_001 & EL40\\_S40\\_L004\\_R1\\_001 & EL11\\_S11\\_L004\\_R1\\_001 & EL37\\_S37\\_L004\\_R1\\_001 & EL12\\_S12\\_L004\\_R1\\_001 & EL44\\_S44\\_L004\\_R1\\_001 & EL23\\_S23\\_L004\\_R1\\_001 & EL51\\_S51\\_L004\\_R1\\_001\\\\\n",
       "\\hline\n",
       "\tENSG00000000003 &    3.00 &    3.00 &    0.00 &    0.00 &    2.00 &    1.00 &    1.00 &    1.00 &    2.00 &    2.00 &    3.00 &    0.0 &   0.0 &    0.00 &    4.00 &    0.00 &    4.00 &   1.0 &    1.00 &   1.00 &    3.00 &    3.00 &   0.00 &    1.00 &   1.00 &    0.00 &    0.00 & 0 &    3.00 &    0.00 &    1.0 &    0.0 &    2.0 &    3.00 &    2.00 &    0.00 &    3.00 &    0.00 &   0.00 &    0.00 &    2.00 &    2.00 &   0.00 &    0.00 &    1.00 &    0.00 &    1.00 &    2.00 &    2.00 &    0.00 &    4.00 &    2.00 &    4.00 &    3.00 &    0.00 &    3.00 &    4.00 &    1.00 &    1.0 &    2.00 &    3.00 &    0.00 &    4.00 &    4.00 &    2.00\\\\\n",
       "\tENSG00000000005 &    0.00 &    0.00 &    0.00 &    0.00 &    0.00 &    0.00 &    0.00 &    0.00 &    0.00 &    0.00 &    0.00 &    0.0 &   0.0 &    0.00 &    0.00 &    0.00 &    0.00 &   0.0 &    0.00 &   0.00 &    0.00 &    0.00 &   0.00 &    0.00 &   0.00 &    0.00 &    0.00 & 0 &    0.00 &    0.00 &    0.0 &    0.0 &    0.0 &    0.00 &    0.00 &    0.00 &    0.00 &    0.00 &   0.00 &    0.00 &    0.00 &    0.00 &   0.00 &    0.00 &    0.00 &    0.00 &    0.00 &    0.00 &    1.00 &    0.00 &    0.00 &    0.00 &    0.00 &    0.00 &    0.00 &    0.00 &    0.00 &    0.00 &    0.0 &    0.00 &    0.00 &    0.00 &    0.00 &    0.00 &    0.00\\\\\n",
       "\tENSG00000000419 &  118.00 &   87.00 &   88.00 &   52.00 &  108.00 &  122.00 &   45.00 &  183.00 &   63.00 &  127.00 &   85.00 &   77.0 &  42.0 &   86.00 &  159.00 &   83.00 &   79.00 &  59.0 &  121.00 &  47.00 &  275.00 &   86.00 &  47.00 &   69.00 &  92.00 &  114.00 &  121.00 & 0 &  100.00 &   56.00 &  101.0 &   63.0 &  181.0 &   56.00 &  151.00 &   72.00 &  117.00 &  106.00 & 141.00 &   61.00 &  107.00 &  103.00 & 123.00 &   77.00 &  120.00 &  111.00 &  118.00 &   92.00 &   89.00 &  100.00 &  189.00 &  131.00 &   79.00 &   97.00 &  137.00 &  179.00 &  118.00 &   55.00 &  170.0 &  138.00 &  147.00 &   64.00 &  184.00 &  125.00 &  189.00\\\\\n",
       "\tENSG00000000457 &  294.79 &  220.08 &  316.65 &  214.03 &  228.57 &  167.65 &  123.35 &  263.25 &  139.32 &  276.31 &  207.19 &  187.8 &  71.6 &  286.53 &  225.02 &  200.96 &  157.46 & 141.8 &  210.52 & 106.28 &  454.69 &  186.32 &  85.46 &  163.83 & 187.24 &  319.75 &  320.73 & 0 &  165.91 &  167.22 &  221.8 &  114.6 &  382.4 &  131.48 &  269.95 &  177.02 &  261.36 &  306.77 & 257.09 &  224.58 &  254.35 &  219.66 & 210.48 &  265.43 &  297.23 &  211.17 &  240.62 &  227.07 &  230.93 &  269.03 &  272.84 &  402.36 &  234.61 &  266.05 &  216.41 &  354.97 &  253.39 &  218.78 &  330.3 &  364.02 &  307.78 &  203.26 &  292.29 &  314.67 &  323.61\\\\\n",
       "\tENSG00000000460 &   57.21 &   58.92 &  112.35 &   73.97 &   64.43 &   61.35 &   35.65 &   72.75 &   29.68 &   68.69 &   53.81 &   54.2 &  22.4 &   92.47 &   75.98 &   55.04 &   42.54 &  41.2 &   54.48 &  31.72 &  149.31 &   71.68 &  17.54 &   51.17 &  44.76 &   92.25 &   88.27 & 0 &   54.09 &   41.78 &   54.2 &   37.4 &   93.6 &   66.52 &   53.05 &   51.98 &   73.64 &  111.23 &  54.91 &   64.42 &   50.65 &   62.34 &  66.52 &   69.57 &   83.77 &   79.83 &   88.38 &   56.93 &   66.07 &   65.97 &   66.16 &  114.64 &   65.39 &   55.95 &   46.59 &   93.03 &   57.61 &   52.22 &   54.7 &   82.98 &   77.22 &   56.74 &   86.71 &  102.33 &   87.39\\\\\n",
       "\tENSG00000000938 & 2276.00 & 1860.00 & 2783.00 & 1903.00 & 2381.00 & 1410.00 & 1593.00 & 2817.00 & 1454.00 & 2545.00 & 1542.00 & 1836.0 & 545.0 & 1822.00 & 2249.00 & 2083.00 & 1814.00 & 959.0 & 2271.00 & 754.00 & 3097.00 & 1847.00 & 655.00 & 1850.00 & 669.00 & 2295.00 & 2222.00 & 0 & 2114.00 & 1755.00 & 2524.0 & 1254.0 & 2471.0 & 1994.00 & 2422.00 & 1146.00 & 2226.00 & 2334.00 & 917.00 & 2033.00 & 2243.00 & 1571.00 & 988.00 & 2812.00 & 2879.00 & 2775.00 & 2142.00 & 2138.00 & 1944.00 & 3073.00 & 2381.00 & 3524.00 & 1732.00 & 2504.00 & 1936.00 & 2880.00 & 2931.00 & 2326.00 & 2224.0 & 2855.00 & 2363.00 & 2273.00 & 2874.00 & 3236.00 & 3041.00\\\\\n",
       "\\end{tabular}\n"
      ],
      "text/markdown": [
       "\n",
       "A matrix: 6 × 65 of type dbl\n",
       "\n",
       "| <!--/--> | EL24_S24_L004_R1_001 | EL54_S54_L004_R1_001 | EL27_S27_L004_R1_001 | EL52_S52_L004_R1_001 | EL26_S26_L004_R1_001 | EL41_S41_L004_R1_001 | EL2_S2_L004_R1_001 | EL34_S34_L004_R1_001 | EL25_S25_L004_R1_001 | EL62_S62_L004_R1_001 | ⋯ | EL48_S48_L004_R1_001 | EL63_S63_L004_R1_001 | EL16_S16_L004_R1_001 | EL40_S40_L004_R1_001 | EL11_S11_L004_R1_001 | EL37_S37_L004_R1_001 | EL12_S12_L004_R1_001 | EL44_S44_L004_R1_001 | EL23_S23_L004_R1_001 | EL51_S51_L004_R1_001 |\n",
       "|---|---|---|---|---|---|---|---|---|---|---|---|---|---|---|---|---|---|---|---|---|---|\n",
       "| ENSG00000000003 |    3.00 |    3.00 |    0.00 |    0.00 |    2.00 |    1.00 |    1.00 |    1.00 |    2.00 |    2.00 | ⋯ |    3.00 |    4.00 |    1.00 |    1.0 |    2.00 |    3.00 |    0.00 |    4.00 |    4.00 |    2.00 |\n",
       "| ENSG00000000005 |    0.00 |    0.00 |    0.00 |    0.00 |    0.00 |    0.00 |    0.00 |    0.00 |    0.00 |    0.00 | ⋯ |    0.00 |    0.00 |    0.00 |    0.0 |    0.00 |    0.00 |    0.00 |    0.00 |    0.00 |    0.00 |\n",
       "| ENSG00000000419 |  118.00 |   87.00 |   88.00 |   52.00 |  108.00 |  122.00 |   45.00 |  183.00 |   63.00 |  127.00 | ⋯ |  179.00 |  118.00 |   55.00 |  170.0 |  138.00 |  147.00 |   64.00 |  184.00 |  125.00 |  189.00 |\n",
       "| ENSG00000000457 |  294.79 |  220.08 |  316.65 |  214.03 |  228.57 |  167.65 |  123.35 |  263.25 |  139.32 |  276.31 | ⋯ |  354.97 |  253.39 |  218.78 |  330.3 |  364.02 |  307.78 |  203.26 |  292.29 |  314.67 |  323.61 |\n",
       "| ENSG00000000460 |   57.21 |   58.92 |  112.35 |   73.97 |   64.43 |   61.35 |   35.65 |   72.75 |   29.68 |   68.69 | ⋯ |   93.03 |   57.61 |   52.22 |   54.7 |   82.98 |   77.22 |   56.74 |   86.71 |  102.33 |   87.39 |\n",
       "| ENSG00000000938 | 2276.00 | 1860.00 | 2783.00 | 1903.00 | 2381.00 | 1410.00 | 1593.00 | 2817.00 | 1454.00 | 2545.00 | ⋯ | 2880.00 | 2931.00 | 2326.00 | 2224.0 | 2855.00 | 2363.00 | 2273.00 | 2874.00 | 3236.00 | 3041.00 |\n",
       "\n"
      ],
      "text/plain": [
       "                EL24_S24_L004_R1_001 EL54_S54_L004_R1_001 EL27_S27_L004_R1_001\n",
       "ENSG00000000003    3.00                 3.00                 0.00             \n",
       "ENSG00000000005    0.00                 0.00                 0.00             \n",
       "ENSG00000000419  118.00                87.00                88.00             \n",
       "ENSG00000000457  294.79               220.08               316.65             \n",
       "ENSG00000000460   57.21                58.92               112.35             \n",
       "ENSG00000000938 2276.00              1860.00              2783.00             \n",
       "                EL52_S52_L004_R1_001 EL26_S26_L004_R1_001 EL41_S41_L004_R1_001\n",
       "ENSG00000000003    0.00                 2.00                 1.00             \n",
       "ENSG00000000005    0.00                 0.00                 0.00             \n",
       "ENSG00000000419   52.00               108.00               122.00             \n",
       "ENSG00000000457  214.03               228.57               167.65             \n",
       "ENSG00000000460   73.97                64.43                61.35             \n",
       "ENSG00000000938 1903.00              2381.00              1410.00             \n",
       "                EL2_S2_L004_R1_001 EL34_S34_L004_R1_001 EL25_S25_L004_R1_001\n",
       "ENSG00000000003    1.00               1.00                 2.00             \n",
       "ENSG00000000005    0.00               0.00                 0.00             \n",
       "ENSG00000000419   45.00             183.00                63.00             \n",
       "ENSG00000000457  123.35             263.25               139.32             \n",
       "ENSG00000000460   35.65              72.75                29.68             \n",
       "ENSG00000000938 1593.00            2817.00              1454.00             \n",
       "                EL62_S62_L004_R1_001 ⋯ EL48_S48_L004_R1_001\n",
       "ENSG00000000003    2.00              ⋯    3.00             \n",
       "ENSG00000000005    0.00              ⋯    0.00             \n",
       "ENSG00000000419  127.00              ⋯  179.00             \n",
       "ENSG00000000457  276.31              ⋯  354.97             \n",
       "ENSG00000000460   68.69              ⋯   93.03             \n",
       "ENSG00000000938 2545.00              ⋯ 2880.00             \n",
       "                EL63_S63_L004_R1_001 EL16_S16_L004_R1_001 EL40_S40_L004_R1_001\n",
       "ENSG00000000003    4.00                 1.00                 1.0              \n",
       "ENSG00000000005    0.00                 0.00                 0.0              \n",
       "ENSG00000000419  118.00                55.00               170.0              \n",
       "ENSG00000000457  253.39               218.78               330.3              \n",
       "ENSG00000000460   57.61                52.22                54.7              \n",
       "ENSG00000000938 2931.00              2326.00              2224.0              \n",
       "                EL11_S11_L004_R1_001 EL37_S37_L004_R1_001 EL12_S12_L004_R1_001\n",
       "ENSG00000000003    2.00                 3.00                 0.00             \n",
       "ENSG00000000005    0.00                 0.00                 0.00             \n",
       "ENSG00000000419  138.00               147.00                64.00             \n",
       "ENSG00000000457  364.02               307.78               203.26             \n",
       "ENSG00000000460   82.98                77.22                56.74             \n",
       "ENSG00000000938 2855.00              2363.00              2273.00             \n",
       "                EL44_S44_L004_R1_001 EL23_S23_L004_R1_001 EL51_S51_L004_R1_001\n",
       "ENSG00000000003    4.00                 4.00                 2.00             \n",
       "ENSG00000000005    0.00                 0.00                 0.00             \n",
       "ENSG00000000419  184.00               125.00               189.00             \n",
       "ENSG00000000457  292.29               314.67               323.61             \n",
       "ENSG00000000460   86.71               102.33                87.39             \n",
       "ENSG00000000938 2874.00              3236.00              3041.00             "
      ]
     },
     "metadata": {},
     "output_type": "display_data"
    },
    {
     "data": {
      "text/html": [
       "<table>\n",
       "<caption>A data.frame: 6 × 16</caption>\n",
       "<thead>\n",
       "\t<tr><th></th><th scope=col>group</th><th scope=col>lib.size</th><th scope=col>norm.factors</th><th scope=col>File_Name</th><th scope=col>Sample_name</th><th scope=col>Sample_ID</th><th scope=col>Patient</th><th scope=col>Condition</th><th scope=col>Treatment</th><th scope=col>Condition_Treatment</th><th scope=col>Tissue</th><th scope=col>Date_Collected</th><th scope=col>Physio_State</th><th scope=col>Treatment.1</th><th scope=col>Pass_QC</th><th scope=col>cpf_include</th></tr>\n",
       "\t<tr><th></th><th scope=col>&lt;fct&gt;</th><th scope=col>&lt;dbl&gt;</th><th scope=col>&lt;dbl&gt;</th><th scope=col>&lt;chr&gt;</th><th scope=col>&lt;chr&gt;</th><th scope=col>&lt;chr&gt;</th><th scope=col>&lt;chr&gt;</th><th scope=col>&lt;chr&gt;</th><th scope=col>&lt;chr&gt;</th><th scope=col>&lt;chr&gt;</th><th scope=col>&lt;chr&gt;</th><th scope=col>&lt;chr&gt;</th><th scope=col>&lt;chr&gt;</th><th scope=col>&lt;chr&gt;</th><th scope=col>&lt;chr&gt;</th><th scope=col>&lt;int&gt;</th></tr>\n",
       "</thead>\n",
       "<tbody>\n",
       "\t<tr><th scope=row>EL24_S24_L004_R1_001</th><td>CMS_POSTHEM_FASTING</td><td>10664912</td><td>1</td><td>EL24_S24_L004_R1_001.fastq.gz</td><td>EL24_S24_L004_R1_001</td><td>S24</td><td>MAN_4</td><td>CMS</td><td>POSTHEM_FASTING</td><td>CMS_POSTHEM_FASTING</td><td>Whole Blood</td><td>15-Dec-17</td><td>POSTHEM</td><td>FASTING</td><td></td><td> 1</td></tr>\n",
       "\t<tr><th scope=row>EL54_S54_L004_R1_001</th><td>CMS_POSTHEM_FASTING</td><td> 9374743</td><td>1</td><td>EL54_S54_L004_R1_001.fastq.gz</td><td>EL54_S54_L004_R1_001</td><td>S54</td><td>MAN_4</td><td>CMS</td><td>POSTHEM_FASTING</td><td>CMS_POSTHEM_FASTING</td><td>Whole Blood</td><td>13-Dec-17</td><td>POSTHEM</td><td>FASTING</td><td></td><td>NA</td></tr>\n",
       "\t<tr><th scope=row>EL27_S27_L004_R1_001</th><td>CMS_POSTHEM_FASTING</td><td>10723006</td><td>1</td><td>EL27_S27_L004_R1_001.fastq.gz</td><td>EL27_S27_L004_R1_001</td><td>S27</td><td>MVT_6</td><td>CMS</td><td>POSTHEM_FASTING</td><td>CMS_POSTHEM_FASTING</td><td>Whole Blood</td><td>14-Dec-17</td><td>POSTHEM</td><td>FASTING</td><td></td><td>NA</td></tr>\n",
       "\t<tr><th scope=row>EL52_S52_L004_R1_001</th><td>CMS_POSTHEM_FASTING</td><td> 8225898</td><td>1</td><td>EL52_S52_L004_R1_001.fastq.gz</td><td>EL52_S52_L004_R1_001</td><td>S52</td><td>MVT_6</td><td>CMS</td><td>POSTHEM_FASTING</td><td>CMS_POSTHEM_FASTING</td><td>Whole Blood</td><td>15-Dec-17</td><td>POSTHEM</td><td>FASTING</td><td></td><td> 1</td></tr>\n",
       "\t<tr><th scope=row>EL26_S26_L004_R1_001</th><td>CMS_POSTHEM_FASTING</td><td> 9867201</td><td>1</td><td>EL26_S26_L004_R1_001.fastq.gz</td><td>EL26_S26_L004_R1_001</td><td>S26</td><td>NCR_3</td><td>CMS</td><td>POSTHEM_FASTING</td><td>CMS_POSTHEM_FASTING</td><td>Whole Blood</td><td>13-Dec-17</td><td>POSTHEM</td><td>FASTING</td><td></td><td>NA</td></tr>\n",
       "\t<tr><th scope=row>EL41_S41_L004_R1_001</th><td>CMS_POSTHEM_FASTING</td><td> 9499867</td><td>1</td><td>EL41_S41_L004_R1_001.fastq.gz</td><td>EL41_S41_L004_R1_001</td><td>S41</td><td>NCR_3</td><td>CMS</td><td>POSTHEM_FASTING</td><td>CMS_POSTHEM_FASTING</td><td>Whole Blood</td><td>15-Dec-17</td><td>POSTHEM</td><td>FASTING</td><td></td><td> 1</td></tr>\n",
       "</tbody>\n",
       "</table>\n"
      ],
      "text/latex": [
       "A data.frame: 6 × 16\n",
       "\\begin{tabular}{r|llllllllllllllll}\n",
       "  & group & lib.size & norm.factors & File\\_Name & Sample\\_name & Sample\\_ID & Patient & Condition & Treatment & Condition\\_Treatment & Tissue & Date\\_Collected & Physio\\_State & Treatment.1 & Pass\\_QC & cpf\\_include\\\\\n",
       "  & <fct> & <dbl> & <dbl> & <chr> & <chr> & <chr> & <chr> & <chr> & <chr> & <chr> & <chr> & <chr> & <chr> & <chr> & <chr> & <int>\\\\\n",
       "\\hline\n",
       "\tEL24\\_S24\\_L004\\_R1\\_001 & CMS\\_POSTHEM\\_FASTING & 10664912 & 1 & EL24\\_S24\\_L004\\_R1\\_001.fastq.gz & EL24\\_S24\\_L004\\_R1\\_001 & S24 & MAN\\_4 & CMS & POSTHEM\\_FASTING & CMS\\_POSTHEM\\_FASTING & Whole Blood & 15-Dec-17 & POSTHEM & FASTING &  &  1\\\\\n",
       "\tEL54\\_S54\\_L004\\_R1\\_001 & CMS\\_POSTHEM\\_FASTING &  9374743 & 1 & EL54\\_S54\\_L004\\_R1\\_001.fastq.gz & EL54\\_S54\\_L004\\_R1\\_001 & S54 & MAN\\_4 & CMS & POSTHEM\\_FASTING & CMS\\_POSTHEM\\_FASTING & Whole Blood & 13-Dec-17 & POSTHEM & FASTING &  & NA\\\\\n",
       "\tEL27\\_S27\\_L004\\_R1\\_001 & CMS\\_POSTHEM\\_FASTING & 10723006 & 1 & EL27\\_S27\\_L004\\_R1\\_001.fastq.gz & EL27\\_S27\\_L004\\_R1\\_001 & S27 & MVT\\_6 & CMS & POSTHEM\\_FASTING & CMS\\_POSTHEM\\_FASTING & Whole Blood & 14-Dec-17 & POSTHEM & FASTING &  & NA\\\\\n",
       "\tEL52\\_S52\\_L004\\_R1\\_001 & CMS\\_POSTHEM\\_FASTING &  8225898 & 1 & EL52\\_S52\\_L004\\_R1\\_001.fastq.gz & EL52\\_S52\\_L004\\_R1\\_001 & S52 & MVT\\_6 & CMS & POSTHEM\\_FASTING & CMS\\_POSTHEM\\_FASTING & Whole Blood & 15-Dec-17 & POSTHEM & FASTING &  &  1\\\\\n",
       "\tEL26\\_S26\\_L004\\_R1\\_001 & CMS\\_POSTHEM\\_FASTING &  9867201 & 1 & EL26\\_S26\\_L004\\_R1\\_001.fastq.gz & EL26\\_S26\\_L004\\_R1\\_001 & S26 & NCR\\_3 & CMS & POSTHEM\\_FASTING & CMS\\_POSTHEM\\_FASTING & Whole Blood & 13-Dec-17 & POSTHEM & FASTING &  & NA\\\\\n",
       "\tEL41\\_S41\\_L004\\_R1\\_001 & CMS\\_POSTHEM\\_FASTING &  9499867 & 1 & EL41\\_S41\\_L004\\_R1\\_001.fastq.gz & EL41\\_S41\\_L004\\_R1\\_001 & S41 & NCR\\_3 & CMS & POSTHEM\\_FASTING & CMS\\_POSTHEM\\_FASTING & Whole Blood & 15-Dec-17 & POSTHEM & FASTING &  &  1\\\\\n",
       "\\end{tabular}\n"
      ],
      "text/markdown": [
       "\n",
       "A data.frame: 6 × 16\n",
       "\n",
       "| <!--/--> | group &lt;fct&gt; | lib.size &lt;dbl&gt; | norm.factors &lt;dbl&gt; | File_Name &lt;chr&gt; | Sample_name &lt;chr&gt; | Sample_ID &lt;chr&gt; | Patient &lt;chr&gt; | Condition &lt;chr&gt; | Treatment &lt;chr&gt; | Condition_Treatment &lt;chr&gt; | Tissue &lt;chr&gt; | Date_Collected &lt;chr&gt; | Physio_State &lt;chr&gt; | Treatment.1 &lt;chr&gt; | Pass_QC &lt;chr&gt; | cpf_include &lt;int&gt; |\n",
       "|---|---|---|---|---|---|---|---|---|---|---|---|---|---|---|---|---|\n",
       "| EL24_S24_L004_R1_001 | CMS_POSTHEM_FASTING | 10664912 | 1 | EL24_S24_L004_R1_001.fastq.gz | EL24_S24_L004_R1_001 | S24 | MAN_4 | CMS | POSTHEM_FASTING | CMS_POSTHEM_FASTING | Whole Blood | 15-Dec-17 | POSTHEM | FASTING | <!----> |  1 |\n",
       "| EL54_S54_L004_R1_001 | CMS_POSTHEM_FASTING |  9374743 | 1 | EL54_S54_L004_R1_001.fastq.gz | EL54_S54_L004_R1_001 | S54 | MAN_4 | CMS | POSTHEM_FASTING | CMS_POSTHEM_FASTING | Whole Blood | 13-Dec-17 | POSTHEM | FASTING | <!----> | NA |\n",
       "| EL27_S27_L004_R1_001 | CMS_POSTHEM_FASTING | 10723006 | 1 | EL27_S27_L004_R1_001.fastq.gz | EL27_S27_L004_R1_001 | S27 | MVT_6 | CMS | POSTHEM_FASTING | CMS_POSTHEM_FASTING | Whole Blood | 14-Dec-17 | POSTHEM | FASTING | <!----> | NA |\n",
       "| EL52_S52_L004_R1_001 | CMS_POSTHEM_FASTING |  8225898 | 1 | EL52_S52_L004_R1_001.fastq.gz | EL52_S52_L004_R1_001 | S52 | MVT_6 | CMS | POSTHEM_FASTING | CMS_POSTHEM_FASTING | Whole Blood | 15-Dec-17 | POSTHEM | FASTING | <!----> |  1 |\n",
       "| EL26_S26_L004_R1_001 | CMS_POSTHEM_FASTING |  9867201 | 1 | EL26_S26_L004_R1_001.fastq.gz | EL26_S26_L004_R1_001 | S26 | NCR_3 | CMS | POSTHEM_FASTING | CMS_POSTHEM_FASTING | Whole Blood | 13-Dec-17 | POSTHEM | FASTING | <!----> | NA |\n",
       "| EL41_S41_L004_R1_001 | CMS_POSTHEM_FASTING |  9499867 | 1 | EL41_S41_L004_R1_001.fastq.gz | EL41_S41_L004_R1_001 | S41 | NCR_3 | CMS | POSTHEM_FASTING | CMS_POSTHEM_FASTING | Whole Blood | 15-Dec-17 | POSTHEM | FASTING | <!----> |  1 |\n",
       "\n"
      ],
      "text/plain": [
       "                     group               lib.size norm.factors\n",
       "EL24_S24_L004_R1_001 CMS_POSTHEM_FASTING 10664912 1           \n",
       "EL54_S54_L004_R1_001 CMS_POSTHEM_FASTING  9374743 1           \n",
       "EL27_S27_L004_R1_001 CMS_POSTHEM_FASTING 10723006 1           \n",
       "EL52_S52_L004_R1_001 CMS_POSTHEM_FASTING  8225898 1           \n",
       "EL26_S26_L004_R1_001 CMS_POSTHEM_FASTING  9867201 1           \n",
       "EL41_S41_L004_R1_001 CMS_POSTHEM_FASTING  9499867 1           \n",
       "                     File_Name                     Sample_name         \n",
       "EL24_S24_L004_R1_001 EL24_S24_L004_R1_001.fastq.gz EL24_S24_L004_R1_001\n",
       "EL54_S54_L004_R1_001 EL54_S54_L004_R1_001.fastq.gz EL54_S54_L004_R1_001\n",
       "EL27_S27_L004_R1_001 EL27_S27_L004_R1_001.fastq.gz EL27_S27_L004_R1_001\n",
       "EL52_S52_L004_R1_001 EL52_S52_L004_R1_001.fastq.gz EL52_S52_L004_R1_001\n",
       "EL26_S26_L004_R1_001 EL26_S26_L004_R1_001.fastq.gz EL26_S26_L004_R1_001\n",
       "EL41_S41_L004_R1_001 EL41_S41_L004_R1_001.fastq.gz EL41_S41_L004_R1_001\n",
       "                     Sample_ID Patient Condition Treatment      \n",
       "EL24_S24_L004_R1_001 S24       MAN_4   CMS       POSTHEM_FASTING\n",
       "EL54_S54_L004_R1_001 S54       MAN_4   CMS       POSTHEM_FASTING\n",
       "EL27_S27_L004_R1_001 S27       MVT_6   CMS       POSTHEM_FASTING\n",
       "EL52_S52_L004_R1_001 S52       MVT_6   CMS       POSTHEM_FASTING\n",
       "EL26_S26_L004_R1_001 S26       NCR_3   CMS       POSTHEM_FASTING\n",
       "EL41_S41_L004_R1_001 S41       NCR_3   CMS       POSTHEM_FASTING\n",
       "                     Condition_Treatment Tissue      Date_Collected\n",
       "EL24_S24_L004_R1_001 CMS_POSTHEM_FASTING Whole Blood 15-Dec-17     \n",
       "EL54_S54_L004_R1_001 CMS_POSTHEM_FASTING Whole Blood 13-Dec-17     \n",
       "EL27_S27_L004_R1_001 CMS_POSTHEM_FASTING Whole Blood 14-Dec-17     \n",
       "EL52_S52_L004_R1_001 CMS_POSTHEM_FASTING Whole Blood 15-Dec-17     \n",
       "EL26_S26_L004_R1_001 CMS_POSTHEM_FASTING Whole Blood 13-Dec-17     \n",
       "EL41_S41_L004_R1_001 CMS_POSTHEM_FASTING Whole Blood 15-Dec-17     \n",
       "                     Physio_State Treatment.1 Pass_QC cpf_include\n",
       "EL24_S24_L004_R1_001 POSTHEM      FASTING              1         \n",
       "EL54_S54_L004_R1_001 POSTHEM      FASTING             NA         \n",
       "EL27_S27_L004_R1_001 POSTHEM      FASTING             NA         \n",
       "EL52_S52_L004_R1_001 POSTHEM      FASTING              1         \n",
       "EL26_S26_L004_R1_001 POSTHEM      FASTING             NA         \n",
       "EL41_S41_L004_R1_001 POSTHEM      FASTING              1         "
      ]
     },
     "metadata": {},
     "output_type": "display_data"
    }
   ],
   "source": [
    "head(gDgeList$counts)\n",
    "head(gDgeList$samples)"
   ]
  },
  {
   "cell_type": "markdown",
   "metadata": {},
   "source": [
    "[Table of Contents](#Table-of-Contents)\n",
    "\n",
    "## Annotation Integration"
   ]
  },
  {
   "cell_type": "markdown",
   "metadata": {},
   "source": [
    "Next, extend the DGEList object with annotation information about the genes that have count data with symbol and EntrezId information, based upon their Ensembl ids.\n",
    "\n",
    "> A second data frame named genes in the DGEList-object is used to store gene-level information associated with rows of the counts matrix. This information can be retrieved using organism specific packages such as Mus.musculus (Bioconductor Core Team 2016b) for mouse (or Homo.sapiens (Bioconductor Core Team 2016a) for human) ....\n",
    ">\n",
    "> The type of information that can be retrieved includes gene symbols, gene names, chromosome names and locations, Entrez gene IDs, Refseq gene IDs and Ensembl gene IDs to name just a few. .... Mus.musculus [and other organism-specific packages] packages information from various sources and allows users to choose between many different gene IDs as the key. ([1](#Citations))"
   ]
  },
  {
   "cell_type": "code",
   "execution_count": 26,
   "metadata": {},
   "outputs": [],
   "source": [
    "getGeneDf = function(dgeList, organismPackage){\n",
    "    geneid <-  rownames(dgeList)\n",
    "    genes <- select(organismPackage, keys=geneid, columns=c(\"SYMBOL\", \"ENSEMBL\", \"ENTREZID\"), \n",
    "                    keytype=\"ENSEMBL\")\n",
    "    return(genes)\n",
    "}"
   ]
  },
  {
   "cell_type": "code",
   "execution_count": 27,
   "metadata": {},
   "outputs": [
    {
     "name": "stderr",
     "output_type": "stream",
     "text": [
      "'select()' returned 1:many mapping between keys and columns\n"
     ]
    },
    {
     "data": {
      "text/html": [
       "<ol class=list-inline>\n",
       "\t<li>20190</li>\n",
       "\t<li>3</li>\n",
       "</ol>\n"
      ],
      "text/latex": [
       "\\begin{enumerate*}\n",
       "\\item 20190\n",
       "\\item 3\n",
       "\\end{enumerate*}\n"
      ],
      "text/markdown": [
       "1. 20190\n",
       "2. 3\n",
       "\n",
       "\n"
      ],
      "text/plain": [
       "[1] 20190     3"
      ]
     },
     "metadata": {},
     "output_type": "display_data"
    }
   ],
   "source": [
    "gRawGenesDf = getGeneDf(gDgeList, gOrganismPackage)\n",
    "dim(gRawGenesDf)"
   ]
  },
  {
   "cell_type": "code",
   "execution_count": 28,
   "metadata": {},
   "outputs": [],
   "source": [
    "# Add gene type to gRawGenesDf\n",
    "gGeneTypeAnnotationsDf.rmdec <- gGeneTypeAnnotationsDf\n",
    "gGeneTypeAnnotationsDf.rmdec$gene_id <- gsub(\"\\\\..*\",\"\",gGeneTypeAnnotationsDf.rmdec$gene_id)\n",
    "gRawGenesDf$gene_type <- gGeneTypeAnnotationsDf$gene_type[match(gRawGenesDf$ENSEMBL, gGeneTypeAnnotationsDf.rmdec$gene_id)]"
   ]
  },
  {
   "cell_type": "code",
   "execution_count": 29,
   "metadata": {},
   "outputs": [
    {
     "data": {
      "text/html": [
       "<table>\n",
       "<caption>A data.frame: 6 × 4</caption>\n",
       "<thead>\n",
       "\t<tr><th scope=col>ENSEMBL</th><th scope=col>ENTREZID</th><th scope=col>SYMBOL</th><th scope=col>gene_type</th></tr>\n",
       "\t<tr><th scope=col>&lt;chr&gt;</th><th scope=col>&lt;chr&gt;</th><th scope=col>&lt;chr&gt;</th><th scope=col>&lt;chr&gt;</th></tr>\n",
       "</thead>\n",
       "<tbody>\n",
       "\t<tr><td>ENSG00000000003</td><td>7105 </td><td>TSPAN6  </td><td>protein_coding</td></tr>\n",
       "\t<tr><td>ENSG00000000005</td><td>64102</td><td>TNMD    </td><td>protein_coding</td></tr>\n",
       "\t<tr><td>ENSG00000000419</td><td>8813 </td><td>DPM1    </td><td>protein_coding</td></tr>\n",
       "\t<tr><td>ENSG00000000457</td><td>57147</td><td>SCYL3   </td><td>protein_coding</td></tr>\n",
       "\t<tr><td>ENSG00000000460</td><td>55732</td><td>C1orf112</td><td>protein_coding</td></tr>\n",
       "\t<tr><td>ENSG00000000938</td><td>2268 </td><td>FGR     </td><td>protein_coding</td></tr>\n",
       "</tbody>\n",
       "</table>\n"
      ],
      "text/latex": [
       "A data.frame: 6 × 4\n",
       "\\begin{tabular}{r|llll}\n",
       " ENSEMBL & ENTREZID & SYMBOL & gene\\_type\\\\\n",
       " <chr> & <chr> & <chr> & <chr>\\\\\n",
       "\\hline\n",
       "\t ENSG00000000003 & 7105  & TSPAN6   & protein\\_coding\\\\\n",
       "\t ENSG00000000005 & 64102 & TNMD     & protein\\_coding\\\\\n",
       "\t ENSG00000000419 & 8813  & DPM1     & protein\\_coding\\\\\n",
       "\t ENSG00000000457 & 57147 & SCYL3    & protein\\_coding\\\\\n",
       "\t ENSG00000000460 & 55732 & C1orf112 & protein\\_coding\\\\\n",
       "\t ENSG00000000938 & 2268  & FGR      & protein\\_coding\\\\\n",
       "\\end{tabular}\n"
      ],
      "text/markdown": [
       "\n",
       "A data.frame: 6 × 4\n",
       "\n",
       "| ENSEMBL &lt;chr&gt; | ENTREZID &lt;chr&gt; | SYMBOL &lt;chr&gt; | gene_type &lt;chr&gt; |\n",
       "|---|---|---|---|\n",
       "| ENSG00000000003 | 7105  | TSPAN6   | protein_coding |\n",
       "| ENSG00000000005 | 64102 | TNMD     | protein_coding |\n",
       "| ENSG00000000419 | 8813  | DPM1     | protein_coding |\n",
       "| ENSG00000000457 | 57147 | SCYL3    | protein_coding |\n",
       "| ENSG00000000460 | 55732 | C1orf112 | protein_coding |\n",
       "| ENSG00000000938 | 2268  | FGR      | protein_coding |\n",
       "\n"
      ],
      "text/plain": [
       "  ENSEMBL         ENTREZID SYMBOL   gene_type     \n",
       "1 ENSG00000000003 7105     TSPAN6   protein_coding\n",
       "2 ENSG00000000005 64102    TNMD     protein_coding\n",
       "3 ENSG00000000419 8813     DPM1     protein_coding\n",
       "4 ENSG00000000457 57147    SCYL3    protein_coding\n",
       "5 ENSG00000000460 55732    C1orf112 protein_coding\n",
       "6 ENSG00000000938 2268     FGR      protein_coding"
      ]
     },
     "metadata": {},
     "output_type": "display_data"
    }
   ],
   "source": [
    "head(gRawGenesDf)"
   ]
  },
  {
   "cell_type": "markdown",
   "metadata": {},
   "source": [
    "> [G]ene IDs may not map one-to-one to the gene information of interest. It is important to check for duplicated gene IDs. ([1](#Citations))\n",
    "\n",
    "Examine how many records in the annotation dataset have the same id (for the gene identifier type--either ENSEMBL or ENTREZ--set below) as another record occurring earlier in the dataset:"
   ]
  },
  {
   "cell_type": "code",
   "execution_count": 30,
   "metadata": {},
   "outputs": [],
   "source": [
    "gGeneIdCol <- \"ENSEMBL\"\n",
    "# gGeneIdCol <- \"ENTREZ\""
   ]
  },
  {
   "cell_type": "code",
   "execution_count": 31,
   "metadata": {},
   "outputs": [
    {
     "data": {
      "text/html": [
       "268"
      ],
      "text/latex": [
       "268"
      ],
      "text/markdown": [
       "268"
      ],
      "text/plain": [
       "[1] 268"
      ]
     },
     "metadata": {},
     "output_type": "display_data"
    }
   ],
   "source": [
    "gDuplicatesMask = duplicated(gRawGenesDf[[gGeneIdCol]])\n",
    "sum(gDuplicatesMask) # Sum counts only those with a value of TRUE"
   ]
  },
  {
   "cell_type": "markdown",
   "metadata": {},
   "source": [
    "Note that this sum includes only the second (or greater) instances of records for each gene id; the first record for each gene id is not included in this duplicate set.\n",
    "\n",
    "Write a file of the duplicate records that can be examined if desired: "
   ]
  },
  {
   "cell_type": "code",
   "execution_count": 32,
   "metadata": {},
   "outputs": [],
   "source": [
    "writeOutRemovedDuplicates = function(countsDf, duplicatesMask, outputDir, runName, geneType){\n",
    "    fileName = sprintf(\"%s_duplicated_%s_genes_records.csv\",runName, geneType)\n",
    "    duplicatedCountsDf = countsDf[duplicatesMask,]\n",
    "    write.csv(duplicatedCountsDf, file.path(outputDir, fileName))\n",
    "    print(paste0(\"Output file: \",fileName))\n",
    "}"
   ]
  },
  {
   "cell_type": "code",
   "execution_count": 33,
   "metadata": {},
   "outputs": [
    {
     "name": "stdout",
     "output_type": "stream",
     "text": [
      "[1] \"Output file: 20191108_simonson_rnaseq_data_integration_20200213120626_duplicated_pc_genes_records.csv\"\n"
     ]
    }
   ],
   "source": [
    "writeOutRemovedDuplicates(gRawGenesDf, gDuplicatesMask, gOutputDir, gRunName, gGeneType)"
   ]
  },
  {
   "cell_type": "code",
   "execution_count": 34,
   "metadata": {},
   "outputs": [],
   "source": [
    "gDeduplicatedGenesDf = gRawGenesDf[!duplicated(gRawGenesDf[[gGeneIdCol]]),]"
   ]
  },
  {
   "cell_type": "markdown",
   "metadata": {},
   "source": [
    "After deduplication, check the dimensions of the count data and the gene annotation data to ensure that the count dataframe has the same number of rows (genes) as the gene annotation dataframe has rows (again, genes), and that the gene names are the same in both:"
   ]
  },
  {
   "cell_type": "code",
   "execution_count": 35,
   "metadata": {},
   "outputs": [
    {
     "data": {
      "text/html": [
       "<ol class=list-inline>\n",
       "\t<li>19922</li>\n",
       "\t<li>65</li>\n",
       "</ol>\n"
      ],
      "text/latex": [
       "\\begin{enumerate*}\n",
       "\\item 19922\n",
       "\\item 65\n",
       "\\end{enumerate*}\n"
      ],
      "text/markdown": [
       "1. 19922\n",
       "2. 65\n",
       "\n",
       "\n"
      ],
      "text/plain": [
       "[1] 19922    65"
      ]
     },
     "metadata": {},
     "output_type": "display_data"
    },
    {
     "data": {
      "text/html": [
       "<ol class=list-inline>\n",
       "\t<li>19922</li>\n",
       "\t<li>4</li>\n",
       "</ol>\n"
      ],
      "text/latex": [
       "\\begin{enumerate*}\n",
       "\\item 19922\n",
       "\\item 4\n",
       "\\end{enumerate*}\n"
      ],
      "text/markdown": [
       "1. 19922\n",
       "2. 4\n",
       "\n",
       "\n"
      ],
      "text/plain": [
       "[1] 19922     4"
      ]
     },
     "metadata": {},
     "output_type": "display_data"
    },
    {
     "data": {
      "text/html": [
       "TRUE"
      ],
      "text/latex": [
       "TRUE"
      ],
      "text/markdown": [
       "TRUE"
      ],
      "text/plain": [
       "[1] TRUE"
      ]
     },
     "metadata": {},
     "output_type": "display_data"
    }
   ],
   "source": [
    "dim(gDgeList$counts)\n",
    "dim(gDeduplicatedGenesDf)\n",
    "\n",
    "all(rownames(gDgeList$counts) %in% gDeduplicatedGenesDf[[gGeneIdCol]])"
   ]
  },
  {
   "cell_type": "markdown",
   "metadata": {},
   "source": [
    "Add the annotation information to the DGEList object:"
   ]
  },
  {
   "cell_type": "code",
   "execution_count": 36,
   "metadata": {},
   "outputs": [
    {
     "data": {
      "text/html": [
       "<ol class=list-inline>\n",
       "\t<li>'counts'</li>\n",
       "\t<li>'samples'</li>\n",
       "\t<li>'genes'</li>\n",
       "</ol>\n"
      ],
      "text/latex": [
       "\\begin{enumerate*}\n",
       "\\item 'counts'\n",
       "\\item 'samples'\n",
       "\\item 'genes'\n",
       "\\end{enumerate*}\n"
      ],
      "text/markdown": [
       "1. 'counts'\n",
       "2. 'samples'\n",
       "3. 'genes'\n",
       "\n",
       "\n"
      ],
      "text/plain": [
       "[1] \"counts\"  \"samples\" \"genes\"  "
      ]
     },
     "metadata": {},
     "output_type": "display_data"
    }
   ],
   "source": [
    "gDgeList$genes = gDeduplicatedGenesDf\n",
    "names(gDgeList)"
   ]
  },
  {
   "cell_type": "markdown",
   "metadata": {},
   "source": [
    "As a sanity-check, look at representative content from the DGEList:"
   ]
  },
  {
   "cell_type": "code",
   "execution_count": 37,
   "metadata": {},
   "outputs": [
    {
     "data": {
      "text/html": [
       "<table>\n",
       "<caption>A matrix: 6 × 65 of type dbl</caption>\n",
       "<thead>\n",
       "\t<tr><th></th><th scope=col>EL24_S24_L004_R1_001</th><th scope=col>EL54_S54_L004_R1_001</th><th scope=col>EL27_S27_L004_R1_001</th><th scope=col>EL52_S52_L004_R1_001</th><th scope=col>EL26_S26_L004_R1_001</th><th scope=col>EL41_S41_L004_R1_001</th><th scope=col>EL2_S2_L004_R1_001</th><th scope=col>EL34_S34_L004_R1_001</th><th scope=col>EL25_S25_L004_R1_001</th><th scope=col>EL62_S62_L004_R1_001</th><th scope=col>⋯</th><th scope=col>EL48_S48_L004_R1_001</th><th scope=col>EL63_S63_L004_R1_001</th><th scope=col>EL16_S16_L004_R1_001</th><th scope=col>EL40_S40_L004_R1_001</th><th scope=col>EL11_S11_L004_R1_001</th><th scope=col>EL37_S37_L004_R1_001</th><th scope=col>EL12_S12_L004_R1_001</th><th scope=col>EL44_S44_L004_R1_001</th><th scope=col>EL23_S23_L004_R1_001</th><th scope=col>EL51_S51_L004_R1_001</th></tr>\n",
       "</thead>\n",
       "<tbody>\n",
       "\t<tr><th scope=row>ENSG00000000003</th><td>   3.00</td><td>   3.00</td><td>   0.00</td><td>   0.00</td><td>   2.00</td><td>   1.00</td><td>   1.00</td><td>   1.00</td><td>   2.00</td><td>   2.00</td><td>⋯</td><td>   3.00</td><td>   4.00</td><td>   1.00</td><td>   1.0</td><td>   2.00</td><td>   3.00</td><td>   0.00</td><td>   4.00</td><td>   4.00</td><td>   2.00</td></tr>\n",
       "\t<tr><th scope=row>ENSG00000000005</th><td>   0.00</td><td>   0.00</td><td>   0.00</td><td>   0.00</td><td>   0.00</td><td>   0.00</td><td>   0.00</td><td>   0.00</td><td>   0.00</td><td>   0.00</td><td>⋯</td><td>   0.00</td><td>   0.00</td><td>   0.00</td><td>   0.0</td><td>   0.00</td><td>   0.00</td><td>   0.00</td><td>   0.00</td><td>   0.00</td><td>   0.00</td></tr>\n",
       "\t<tr><th scope=row>ENSG00000000419</th><td> 118.00</td><td>  87.00</td><td>  88.00</td><td>  52.00</td><td> 108.00</td><td> 122.00</td><td>  45.00</td><td> 183.00</td><td>  63.00</td><td> 127.00</td><td>⋯</td><td> 179.00</td><td> 118.00</td><td>  55.00</td><td> 170.0</td><td> 138.00</td><td> 147.00</td><td>  64.00</td><td> 184.00</td><td> 125.00</td><td> 189.00</td></tr>\n",
       "\t<tr><th scope=row>ENSG00000000457</th><td> 294.79</td><td> 220.08</td><td> 316.65</td><td> 214.03</td><td> 228.57</td><td> 167.65</td><td> 123.35</td><td> 263.25</td><td> 139.32</td><td> 276.31</td><td>⋯</td><td> 354.97</td><td> 253.39</td><td> 218.78</td><td> 330.3</td><td> 364.02</td><td> 307.78</td><td> 203.26</td><td> 292.29</td><td> 314.67</td><td> 323.61</td></tr>\n",
       "\t<tr><th scope=row>ENSG00000000460</th><td>  57.21</td><td>  58.92</td><td> 112.35</td><td>  73.97</td><td>  64.43</td><td>  61.35</td><td>  35.65</td><td>  72.75</td><td>  29.68</td><td>  68.69</td><td>⋯</td><td>  93.03</td><td>  57.61</td><td>  52.22</td><td>  54.7</td><td>  82.98</td><td>  77.22</td><td>  56.74</td><td>  86.71</td><td> 102.33</td><td>  87.39</td></tr>\n",
       "\t<tr><th scope=row>ENSG00000000938</th><td>2276.00</td><td>1860.00</td><td>2783.00</td><td>1903.00</td><td>2381.00</td><td>1410.00</td><td>1593.00</td><td>2817.00</td><td>1454.00</td><td>2545.00</td><td>⋯</td><td>2880.00</td><td>2931.00</td><td>2326.00</td><td>2224.0</td><td>2855.00</td><td>2363.00</td><td>2273.00</td><td>2874.00</td><td>3236.00</td><td>3041.00</td></tr>\n",
       "</tbody>\n",
       "</table>\n"
      ],
      "text/latex": [
       "A matrix: 6 × 65 of type dbl\n",
       "\\begin{tabular}{r|lllllllllllllllllllllllllllllllllllllllllllllllllllllllllllllllll}\n",
       "  & EL24\\_S24\\_L004\\_R1\\_001 & EL54\\_S54\\_L004\\_R1\\_001 & EL27\\_S27\\_L004\\_R1\\_001 & EL52\\_S52\\_L004\\_R1\\_001 & EL26\\_S26\\_L004\\_R1\\_001 & EL41\\_S41\\_L004\\_R1\\_001 & EL2\\_S2\\_L004\\_R1\\_001 & EL34\\_S34\\_L004\\_R1\\_001 & EL25\\_S25\\_L004\\_R1\\_001 & EL62\\_S62\\_L004\\_R1\\_001 & EL36\\_S36\\_L004\\_R1\\_001 & EL7\\_S7\\_L004\\_R1\\_001 & EL8\\_S8\\_L004\\_R1\\_001 & EL9\\_S9\\_L004\\_R1\\_001 & EL59\\_S59\\_L004\\_R1\\_001 & EL29\\_S29\\_L004\\_R1\\_001 & EL22\\_S22\\_L004\\_R1\\_001 & EL17\\_S17\\_L004\\_R1\\_001 & EL30\\_S30\\_L004\\_R1\\_001 & EL6\\_S6\\_L004\\_R1\\_001 & EL45\\_S45\\_L004\\_R1\\_001 & EL58\\_S58\\_L004\\_R1\\_001 & EL46\\_S46\\_L004\\_R1\\_001 & EL64\\_S64\\_L004\\_R1\\_001 & EL65\\_S65\\_L004\\_R1\\_001 & EL15\\_S15\\_L004\\_R1\\_001 & EL21\\_S21\\_L004\\_R1\\_001 & EL42\\_S42\\_L004\\_R1\\_001 & EL49\\_S49\\_L004\\_R1\\_001 & EL3\\_S3\\_L004\\_R1\\_001 & EL13\\_S13\\_L004\\_R1\\_001 & EL33\\_S33\\_L004\\_R1\\_001 & EL47\\_S47\\_L004\\_R1\\_001 & EL56\\_S56\\_L004\\_R1\\_001 & EL32\\_S32\\_L004\\_R1\\_001 & EL57\\_S57\\_L004\\_R1\\_001 & EL31\\_S31\\_L004\\_R1\\_001 & EL5\\_S5\\_L004\\_R1\\_001 & EL35\\_S35\\_L004\\_R1\\_001 & EL1\\_S1\\_L004\\_R1\\_001 & EL60\\_S60\\_L004\\_R1\\_001 & EL43\\_S43\\_L004\\_R1\\_001 & EL14\\_S14\\_L004\\_R1\\_001 & EL4\\_S4\\_L004\\_R1\\_001 & EL53\\_S53\\_L004\\_R1\\_001 & EL19\\_S19\\_L004\\_R1\\_001 & EL20\\_S20\\_L004\\_R1\\_001 & EL10\\_S10\\_L004\\_R1\\_001 & EL39\\_S39\\_L004\\_R1\\_001 & EL18\\_S18\\_L004\\_R1\\_001 & EL38\\_S38\\_L004\\_R1\\_001 & EL28\\_S28\\_L004\\_R1\\_001 & EL61\\_S61\\_L004\\_R1\\_001 & EL55\\_S55\\_L004\\_R1\\_001 & EL50\\_S50\\_L004\\_R1\\_001 & EL48\\_S48\\_L004\\_R1\\_001 & EL63\\_S63\\_L004\\_R1\\_001 & EL16\\_S16\\_L004\\_R1\\_001 & EL40\\_S40\\_L004\\_R1\\_001 & EL11\\_S11\\_L004\\_R1\\_001 & EL37\\_S37\\_L004\\_R1\\_001 & EL12\\_S12\\_L004\\_R1\\_001 & EL44\\_S44\\_L004\\_R1\\_001 & EL23\\_S23\\_L004\\_R1\\_001 & EL51\\_S51\\_L004\\_R1\\_001\\\\\n",
       "\\hline\n",
       "\tENSG00000000003 &    3.00 &    3.00 &    0.00 &    0.00 &    2.00 &    1.00 &    1.00 &    1.00 &    2.00 &    2.00 &    3.00 &    0.0 &   0.0 &    0.00 &    4.00 &    0.00 &    4.00 &   1.0 &    1.00 &   1.00 &    3.00 &    3.00 &   0.00 &    1.00 &   1.00 &    0.00 &    0.00 & 0 &    3.00 &    0.00 &    1.0 &    0.0 &    2.0 &    3.00 &    2.00 &    0.00 &    3.00 &    0.00 &   0.00 &    0.00 &    2.00 &    2.00 &   0.00 &    0.00 &    1.00 &    0.00 &    1.00 &    2.00 &    2.00 &    0.00 &    4.00 &    2.00 &    4.00 &    3.00 &    0.00 &    3.00 &    4.00 &    1.00 &    1.0 &    2.00 &    3.00 &    0.00 &    4.00 &    4.00 &    2.00\\\\\n",
       "\tENSG00000000005 &    0.00 &    0.00 &    0.00 &    0.00 &    0.00 &    0.00 &    0.00 &    0.00 &    0.00 &    0.00 &    0.00 &    0.0 &   0.0 &    0.00 &    0.00 &    0.00 &    0.00 &   0.0 &    0.00 &   0.00 &    0.00 &    0.00 &   0.00 &    0.00 &   0.00 &    0.00 &    0.00 & 0 &    0.00 &    0.00 &    0.0 &    0.0 &    0.0 &    0.00 &    0.00 &    0.00 &    0.00 &    0.00 &   0.00 &    0.00 &    0.00 &    0.00 &   0.00 &    0.00 &    0.00 &    0.00 &    0.00 &    0.00 &    1.00 &    0.00 &    0.00 &    0.00 &    0.00 &    0.00 &    0.00 &    0.00 &    0.00 &    0.00 &    0.0 &    0.00 &    0.00 &    0.00 &    0.00 &    0.00 &    0.00\\\\\n",
       "\tENSG00000000419 &  118.00 &   87.00 &   88.00 &   52.00 &  108.00 &  122.00 &   45.00 &  183.00 &   63.00 &  127.00 &   85.00 &   77.0 &  42.0 &   86.00 &  159.00 &   83.00 &   79.00 &  59.0 &  121.00 &  47.00 &  275.00 &   86.00 &  47.00 &   69.00 &  92.00 &  114.00 &  121.00 & 0 &  100.00 &   56.00 &  101.0 &   63.0 &  181.0 &   56.00 &  151.00 &   72.00 &  117.00 &  106.00 & 141.00 &   61.00 &  107.00 &  103.00 & 123.00 &   77.00 &  120.00 &  111.00 &  118.00 &   92.00 &   89.00 &  100.00 &  189.00 &  131.00 &   79.00 &   97.00 &  137.00 &  179.00 &  118.00 &   55.00 &  170.0 &  138.00 &  147.00 &   64.00 &  184.00 &  125.00 &  189.00\\\\\n",
       "\tENSG00000000457 &  294.79 &  220.08 &  316.65 &  214.03 &  228.57 &  167.65 &  123.35 &  263.25 &  139.32 &  276.31 &  207.19 &  187.8 &  71.6 &  286.53 &  225.02 &  200.96 &  157.46 & 141.8 &  210.52 & 106.28 &  454.69 &  186.32 &  85.46 &  163.83 & 187.24 &  319.75 &  320.73 & 0 &  165.91 &  167.22 &  221.8 &  114.6 &  382.4 &  131.48 &  269.95 &  177.02 &  261.36 &  306.77 & 257.09 &  224.58 &  254.35 &  219.66 & 210.48 &  265.43 &  297.23 &  211.17 &  240.62 &  227.07 &  230.93 &  269.03 &  272.84 &  402.36 &  234.61 &  266.05 &  216.41 &  354.97 &  253.39 &  218.78 &  330.3 &  364.02 &  307.78 &  203.26 &  292.29 &  314.67 &  323.61\\\\\n",
       "\tENSG00000000460 &   57.21 &   58.92 &  112.35 &   73.97 &   64.43 &   61.35 &   35.65 &   72.75 &   29.68 &   68.69 &   53.81 &   54.2 &  22.4 &   92.47 &   75.98 &   55.04 &   42.54 &  41.2 &   54.48 &  31.72 &  149.31 &   71.68 &  17.54 &   51.17 &  44.76 &   92.25 &   88.27 & 0 &   54.09 &   41.78 &   54.2 &   37.4 &   93.6 &   66.52 &   53.05 &   51.98 &   73.64 &  111.23 &  54.91 &   64.42 &   50.65 &   62.34 &  66.52 &   69.57 &   83.77 &   79.83 &   88.38 &   56.93 &   66.07 &   65.97 &   66.16 &  114.64 &   65.39 &   55.95 &   46.59 &   93.03 &   57.61 &   52.22 &   54.7 &   82.98 &   77.22 &   56.74 &   86.71 &  102.33 &   87.39\\\\\n",
       "\tENSG00000000938 & 2276.00 & 1860.00 & 2783.00 & 1903.00 & 2381.00 & 1410.00 & 1593.00 & 2817.00 & 1454.00 & 2545.00 & 1542.00 & 1836.0 & 545.0 & 1822.00 & 2249.00 & 2083.00 & 1814.00 & 959.0 & 2271.00 & 754.00 & 3097.00 & 1847.00 & 655.00 & 1850.00 & 669.00 & 2295.00 & 2222.00 & 0 & 2114.00 & 1755.00 & 2524.0 & 1254.0 & 2471.0 & 1994.00 & 2422.00 & 1146.00 & 2226.00 & 2334.00 & 917.00 & 2033.00 & 2243.00 & 1571.00 & 988.00 & 2812.00 & 2879.00 & 2775.00 & 2142.00 & 2138.00 & 1944.00 & 3073.00 & 2381.00 & 3524.00 & 1732.00 & 2504.00 & 1936.00 & 2880.00 & 2931.00 & 2326.00 & 2224.0 & 2855.00 & 2363.00 & 2273.00 & 2874.00 & 3236.00 & 3041.00\\\\\n",
       "\\end{tabular}\n"
      ],
      "text/markdown": [
       "\n",
       "A matrix: 6 × 65 of type dbl\n",
       "\n",
       "| <!--/--> | EL24_S24_L004_R1_001 | EL54_S54_L004_R1_001 | EL27_S27_L004_R1_001 | EL52_S52_L004_R1_001 | EL26_S26_L004_R1_001 | EL41_S41_L004_R1_001 | EL2_S2_L004_R1_001 | EL34_S34_L004_R1_001 | EL25_S25_L004_R1_001 | EL62_S62_L004_R1_001 | ⋯ | EL48_S48_L004_R1_001 | EL63_S63_L004_R1_001 | EL16_S16_L004_R1_001 | EL40_S40_L004_R1_001 | EL11_S11_L004_R1_001 | EL37_S37_L004_R1_001 | EL12_S12_L004_R1_001 | EL44_S44_L004_R1_001 | EL23_S23_L004_R1_001 | EL51_S51_L004_R1_001 |\n",
       "|---|---|---|---|---|---|---|---|---|---|---|---|---|---|---|---|---|---|---|---|---|---|\n",
       "| ENSG00000000003 |    3.00 |    3.00 |    0.00 |    0.00 |    2.00 |    1.00 |    1.00 |    1.00 |    2.00 |    2.00 | ⋯ |    3.00 |    4.00 |    1.00 |    1.0 |    2.00 |    3.00 |    0.00 |    4.00 |    4.00 |    2.00 |\n",
       "| ENSG00000000005 |    0.00 |    0.00 |    0.00 |    0.00 |    0.00 |    0.00 |    0.00 |    0.00 |    0.00 |    0.00 | ⋯ |    0.00 |    0.00 |    0.00 |    0.0 |    0.00 |    0.00 |    0.00 |    0.00 |    0.00 |    0.00 |\n",
       "| ENSG00000000419 |  118.00 |   87.00 |   88.00 |   52.00 |  108.00 |  122.00 |   45.00 |  183.00 |   63.00 |  127.00 | ⋯ |  179.00 |  118.00 |   55.00 |  170.0 |  138.00 |  147.00 |   64.00 |  184.00 |  125.00 |  189.00 |\n",
       "| ENSG00000000457 |  294.79 |  220.08 |  316.65 |  214.03 |  228.57 |  167.65 |  123.35 |  263.25 |  139.32 |  276.31 | ⋯ |  354.97 |  253.39 |  218.78 |  330.3 |  364.02 |  307.78 |  203.26 |  292.29 |  314.67 |  323.61 |\n",
       "| ENSG00000000460 |   57.21 |   58.92 |  112.35 |   73.97 |   64.43 |   61.35 |   35.65 |   72.75 |   29.68 |   68.69 | ⋯ |   93.03 |   57.61 |   52.22 |   54.7 |   82.98 |   77.22 |   56.74 |   86.71 |  102.33 |   87.39 |\n",
       "| ENSG00000000938 | 2276.00 | 1860.00 | 2783.00 | 1903.00 | 2381.00 | 1410.00 | 1593.00 | 2817.00 | 1454.00 | 2545.00 | ⋯ | 2880.00 | 2931.00 | 2326.00 | 2224.0 | 2855.00 | 2363.00 | 2273.00 | 2874.00 | 3236.00 | 3041.00 |\n",
       "\n"
      ],
      "text/plain": [
       "                EL24_S24_L004_R1_001 EL54_S54_L004_R1_001 EL27_S27_L004_R1_001\n",
       "ENSG00000000003    3.00                 3.00                 0.00             \n",
       "ENSG00000000005    0.00                 0.00                 0.00             \n",
       "ENSG00000000419  118.00                87.00                88.00             \n",
       "ENSG00000000457  294.79               220.08               316.65             \n",
       "ENSG00000000460   57.21                58.92               112.35             \n",
       "ENSG00000000938 2276.00              1860.00              2783.00             \n",
       "                EL52_S52_L004_R1_001 EL26_S26_L004_R1_001 EL41_S41_L004_R1_001\n",
       "ENSG00000000003    0.00                 2.00                 1.00             \n",
       "ENSG00000000005    0.00                 0.00                 0.00             \n",
       "ENSG00000000419   52.00               108.00               122.00             \n",
       "ENSG00000000457  214.03               228.57               167.65             \n",
       "ENSG00000000460   73.97                64.43                61.35             \n",
       "ENSG00000000938 1903.00              2381.00              1410.00             \n",
       "                EL2_S2_L004_R1_001 EL34_S34_L004_R1_001 EL25_S25_L004_R1_001\n",
       "ENSG00000000003    1.00               1.00                 2.00             \n",
       "ENSG00000000005    0.00               0.00                 0.00             \n",
       "ENSG00000000419   45.00             183.00                63.00             \n",
       "ENSG00000000457  123.35             263.25               139.32             \n",
       "ENSG00000000460   35.65              72.75                29.68             \n",
       "ENSG00000000938 1593.00            2817.00              1454.00             \n",
       "                EL62_S62_L004_R1_001 ⋯ EL48_S48_L004_R1_001\n",
       "ENSG00000000003    2.00              ⋯    3.00             \n",
       "ENSG00000000005    0.00              ⋯    0.00             \n",
       "ENSG00000000419  127.00              ⋯  179.00             \n",
       "ENSG00000000457  276.31              ⋯  354.97             \n",
       "ENSG00000000460   68.69              ⋯   93.03             \n",
       "ENSG00000000938 2545.00              ⋯ 2880.00             \n",
       "                EL63_S63_L004_R1_001 EL16_S16_L004_R1_001 EL40_S40_L004_R1_001\n",
       "ENSG00000000003    4.00                 1.00                 1.0              \n",
       "ENSG00000000005    0.00                 0.00                 0.0              \n",
       "ENSG00000000419  118.00                55.00               170.0              \n",
       "ENSG00000000457  253.39               218.78               330.3              \n",
       "ENSG00000000460   57.61                52.22                54.7              \n",
       "ENSG00000000938 2931.00              2326.00              2224.0              \n",
       "                EL11_S11_L004_R1_001 EL37_S37_L004_R1_001 EL12_S12_L004_R1_001\n",
       "ENSG00000000003    2.00                 3.00                 0.00             \n",
       "ENSG00000000005    0.00                 0.00                 0.00             \n",
       "ENSG00000000419  138.00               147.00                64.00             \n",
       "ENSG00000000457  364.02               307.78               203.26             \n",
       "ENSG00000000460   82.98                77.22                56.74             \n",
       "ENSG00000000938 2855.00              2363.00              2273.00             \n",
       "                EL44_S44_L004_R1_001 EL23_S23_L004_R1_001 EL51_S51_L004_R1_001\n",
       "ENSG00000000003    4.00                 4.00                 2.00             \n",
       "ENSG00000000005    0.00                 0.00                 0.00             \n",
       "ENSG00000000419  184.00               125.00               189.00             \n",
       "ENSG00000000457  292.29               314.67               323.61             \n",
       "ENSG00000000460   86.71               102.33                87.39             \n",
       "ENSG00000000938 2874.00              3236.00              3041.00             "
      ]
     },
     "metadata": {},
     "output_type": "display_data"
    },
    {
     "data": {
      "text/html": [
       "<table>\n",
       "<caption>A data.frame: 6 × 16</caption>\n",
       "<thead>\n",
       "\t<tr><th></th><th scope=col>group</th><th scope=col>lib.size</th><th scope=col>norm.factors</th><th scope=col>File_Name</th><th scope=col>Sample_name</th><th scope=col>Sample_ID</th><th scope=col>Patient</th><th scope=col>Condition</th><th scope=col>Treatment</th><th scope=col>Condition_Treatment</th><th scope=col>Tissue</th><th scope=col>Date_Collected</th><th scope=col>Physio_State</th><th scope=col>Treatment.1</th><th scope=col>Pass_QC</th><th scope=col>cpf_include</th></tr>\n",
       "\t<tr><th></th><th scope=col>&lt;fct&gt;</th><th scope=col>&lt;dbl&gt;</th><th scope=col>&lt;dbl&gt;</th><th scope=col>&lt;chr&gt;</th><th scope=col>&lt;chr&gt;</th><th scope=col>&lt;chr&gt;</th><th scope=col>&lt;chr&gt;</th><th scope=col>&lt;chr&gt;</th><th scope=col>&lt;chr&gt;</th><th scope=col>&lt;chr&gt;</th><th scope=col>&lt;chr&gt;</th><th scope=col>&lt;chr&gt;</th><th scope=col>&lt;chr&gt;</th><th scope=col>&lt;chr&gt;</th><th scope=col>&lt;chr&gt;</th><th scope=col>&lt;int&gt;</th></tr>\n",
       "</thead>\n",
       "<tbody>\n",
       "\t<tr><th scope=row>EL24_S24_L004_R1_001</th><td>CMS_POSTHEM_FASTING</td><td>10664912</td><td>1</td><td>EL24_S24_L004_R1_001.fastq.gz</td><td>EL24_S24_L004_R1_001</td><td>S24</td><td>MAN_4</td><td>CMS</td><td>POSTHEM_FASTING</td><td>CMS_POSTHEM_FASTING</td><td>Whole Blood</td><td>15-Dec-17</td><td>POSTHEM</td><td>FASTING</td><td></td><td> 1</td></tr>\n",
       "\t<tr><th scope=row>EL54_S54_L004_R1_001</th><td>CMS_POSTHEM_FASTING</td><td> 9374743</td><td>1</td><td>EL54_S54_L004_R1_001.fastq.gz</td><td>EL54_S54_L004_R1_001</td><td>S54</td><td>MAN_4</td><td>CMS</td><td>POSTHEM_FASTING</td><td>CMS_POSTHEM_FASTING</td><td>Whole Blood</td><td>13-Dec-17</td><td>POSTHEM</td><td>FASTING</td><td></td><td>NA</td></tr>\n",
       "\t<tr><th scope=row>EL27_S27_L004_R1_001</th><td>CMS_POSTHEM_FASTING</td><td>10723006</td><td>1</td><td>EL27_S27_L004_R1_001.fastq.gz</td><td>EL27_S27_L004_R1_001</td><td>S27</td><td>MVT_6</td><td>CMS</td><td>POSTHEM_FASTING</td><td>CMS_POSTHEM_FASTING</td><td>Whole Blood</td><td>14-Dec-17</td><td>POSTHEM</td><td>FASTING</td><td></td><td>NA</td></tr>\n",
       "\t<tr><th scope=row>EL52_S52_L004_R1_001</th><td>CMS_POSTHEM_FASTING</td><td> 8225898</td><td>1</td><td>EL52_S52_L004_R1_001.fastq.gz</td><td>EL52_S52_L004_R1_001</td><td>S52</td><td>MVT_6</td><td>CMS</td><td>POSTHEM_FASTING</td><td>CMS_POSTHEM_FASTING</td><td>Whole Blood</td><td>15-Dec-17</td><td>POSTHEM</td><td>FASTING</td><td></td><td> 1</td></tr>\n",
       "\t<tr><th scope=row>EL26_S26_L004_R1_001</th><td>CMS_POSTHEM_FASTING</td><td> 9867201</td><td>1</td><td>EL26_S26_L004_R1_001.fastq.gz</td><td>EL26_S26_L004_R1_001</td><td>S26</td><td>NCR_3</td><td>CMS</td><td>POSTHEM_FASTING</td><td>CMS_POSTHEM_FASTING</td><td>Whole Blood</td><td>13-Dec-17</td><td>POSTHEM</td><td>FASTING</td><td></td><td>NA</td></tr>\n",
       "\t<tr><th scope=row>EL41_S41_L004_R1_001</th><td>CMS_POSTHEM_FASTING</td><td> 9499867</td><td>1</td><td>EL41_S41_L004_R1_001.fastq.gz</td><td>EL41_S41_L004_R1_001</td><td>S41</td><td>NCR_3</td><td>CMS</td><td>POSTHEM_FASTING</td><td>CMS_POSTHEM_FASTING</td><td>Whole Blood</td><td>15-Dec-17</td><td>POSTHEM</td><td>FASTING</td><td></td><td> 1</td></tr>\n",
       "</tbody>\n",
       "</table>\n"
      ],
      "text/latex": [
       "A data.frame: 6 × 16\n",
       "\\begin{tabular}{r|llllllllllllllll}\n",
       "  & group & lib.size & norm.factors & File\\_Name & Sample\\_name & Sample\\_ID & Patient & Condition & Treatment & Condition\\_Treatment & Tissue & Date\\_Collected & Physio\\_State & Treatment.1 & Pass\\_QC & cpf\\_include\\\\\n",
       "  & <fct> & <dbl> & <dbl> & <chr> & <chr> & <chr> & <chr> & <chr> & <chr> & <chr> & <chr> & <chr> & <chr> & <chr> & <chr> & <int>\\\\\n",
       "\\hline\n",
       "\tEL24\\_S24\\_L004\\_R1\\_001 & CMS\\_POSTHEM\\_FASTING & 10664912 & 1 & EL24\\_S24\\_L004\\_R1\\_001.fastq.gz & EL24\\_S24\\_L004\\_R1\\_001 & S24 & MAN\\_4 & CMS & POSTHEM\\_FASTING & CMS\\_POSTHEM\\_FASTING & Whole Blood & 15-Dec-17 & POSTHEM & FASTING &  &  1\\\\\n",
       "\tEL54\\_S54\\_L004\\_R1\\_001 & CMS\\_POSTHEM\\_FASTING &  9374743 & 1 & EL54\\_S54\\_L004\\_R1\\_001.fastq.gz & EL54\\_S54\\_L004\\_R1\\_001 & S54 & MAN\\_4 & CMS & POSTHEM\\_FASTING & CMS\\_POSTHEM\\_FASTING & Whole Blood & 13-Dec-17 & POSTHEM & FASTING &  & NA\\\\\n",
       "\tEL27\\_S27\\_L004\\_R1\\_001 & CMS\\_POSTHEM\\_FASTING & 10723006 & 1 & EL27\\_S27\\_L004\\_R1\\_001.fastq.gz & EL27\\_S27\\_L004\\_R1\\_001 & S27 & MVT\\_6 & CMS & POSTHEM\\_FASTING & CMS\\_POSTHEM\\_FASTING & Whole Blood & 14-Dec-17 & POSTHEM & FASTING &  & NA\\\\\n",
       "\tEL52\\_S52\\_L004\\_R1\\_001 & CMS\\_POSTHEM\\_FASTING &  8225898 & 1 & EL52\\_S52\\_L004\\_R1\\_001.fastq.gz & EL52\\_S52\\_L004\\_R1\\_001 & S52 & MVT\\_6 & CMS & POSTHEM\\_FASTING & CMS\\_POSTHEM\\_FASTING & Whole Blood & 15-Dec-17 & POSTHEM & FASTING &  &  1\\\\\n",
       "\tEL26\\_S26\\_L004\\_R1\\_001 & CMS\\_POSTHEM\\_FASTING &  9867201 & 1 & EL26\\_S26\\_L004\\_R1\\_001.fastq.gz & EL26\\_S26\\_L004\\_R1\\_001 & S26 & NCR\\_3 & CMS & POSTHEM\\_FASTING & CMS\\_POSTHEM\\_FASTING & Whole Blood & 13-Dec-17 & POSTHEM & FASTING &  & NA\\\\\n",
       "\tEL41\\_S41\\_L004\\_R1\\_001 & CMS\\_POSTHEM\\_FASTING &  9499867 & 1 & EL41\\_S41\\_L004\\_R1\\_001.fastq.gz & EL41\\_S41\\_L004\\_R1\\_001 & S41 & NCR\\_3 & CMS & POSTHEM\\_FASTING & CMS\\_POSTHEM\\_FASTING & Whole Blood & 15-Dec-17 & POSTHEM & FASTING &  &  1\\\\\n",
       "\\end{tabular}\n"
      ],
      "text/markdown": [
       "\n",
       "A data.frame: 6 × 16\n",
       "\n",
       "| <!--/--> | group &lt;fct&gt; | lib.size &lt;dbl&gt; | norm.factors &lt;dbl&gt; | File_Name &lt;chr&gt; | Sample_name &lt;chr&gt; | Sample_ID &lt;chr&gt; | Patient &lt;chr&gt; | Condition &lt;chr&gt; | Treatment &lt;chr&gt; | Condition_Treatment &lt;chr&gt; | Tissue &lt;chr&gt; | Date_Collected &lt;chr&gt; | Physio_State &lt;chr&gt; | Treatment.1 &lt;chr&gt; | Pass_QC &lt;chr&gt; | cpf_include &lt;int&gt; |\n",
       "|---|---|---|---|---|---|---|---|---|---|---|---|---|---|---|---|---|\n",
       "| EL24_S24_L004_R1_001 | CMS_POSTHEM_FASTING | 10664912 | 1 | EL24_S24_L004_R1_001.fastq.gz | EL24_S24_L004_R1_001 | S24 | MAN_4 | CMS | POSTHEM_FASTING | CMS_POSTHEM_FASTING | Whole Blood | 15-Dec-17 | POSTHEM | FASTING | <!----> |  1 |\n",
       "| EL54_S54_L004_R1_001 | CMS_POSTHEM_FASTING |  9374743 | 1 | EL54_S54_L004_R1_001.fastq.gz | EL54_S54_L004_R1_001 | S54 | MAN_4 | CMS | POSTHEM_FASTING | CMS_POSTHEM_FASTING | Whole Blood | 13-Dec-17 | POSTHEM | FASTING | <!----> | NA |\n",
       "| EL27_S27_L004_R1_001 | CMS_POSTHEM_FASTING | 10723006 | 1 | EL27_S27_L004_R1_001.fastq.gz | EL27_S27_L004_R1_001 | S27 | MVT_6 | CMS | POSTHEM_FASTING | CMS_POSTHEM_FASTING | Whole Blood | 14-Dec-17 | POSTHEM | FASTING | <!----> | NA |\n",
       "| EL52_S52_L004_R1_001 | CMS_POSTHEM_FASTING |  8225898 | 1 | EL52_S52_L004_R1_001.fastq.gz | EL52_S52_L004_R1_001 | S52 | MVT_6 | CMS | POSTHEM_FASTING | CMS_POSTHEM_FASTING | Whole Blood | 15-Dec-17 | POSTHEM | FASTING | <!----> |  1 |\n",
       "| EL26_S26_L004_R1_001 | CMS_POSTHEM_FASTING |  9867201 | 1 | EL26_S26_L004_R1_001.fastq.gz | EL26_S26_L004_R1_001 | S26 | NCR_3 | CMS | POSTHEM_FASTING | CMS_POSTHEM_FASTING | Whole Blood | 13-Dec-17 | POSTHEM | FASTING | <!----> | NA |\n",
       "| EL41_S41_L004_R1_001 | CMS_POSTHEM_FASTING |  9499867 | 1 | EL41_S41_L004_R1_001.fastq.gz | EL41_S41_L004_R1_001 | S41 | NCR_3 | CMS | POSTHEM_FASTING | CMS_POSTHEM_FASTING | Whole Blood | 15-Dec-17 | POSTHEM | FASTING | <!----> |  1 |\n",
       "\n"
      ],
      "text/plain": [
       "                     group               lib.size norm.factors\n",
       "EL24_S24_L004_R1_001 CMS_POSTHEM_FASTING 10664912 1           \n",
       "EL54_S54_L004_R1_001 CMS_POSTHEM_FASTING  9374743 1           \n",
       "EL27_S27_L004_R1_001 CMS_POSTHEM_FASTING 10723006 1           \n",
       "EL52_S52_L004_R1_001 CMS_POSTHEM_FASTING  8225898 1           \n",
       "EL26_S26_L004_R1_001 CMS_POSTHEM_FASTING  9867201 1           \n",
       "EL41_S41_L004_R1_001 CMS_POSTHEM_FASTING  9499867 1           \n",
       "                     File_Name                     Sample_name         \n",
       "EL24_S24_L004_R1_001 EL24_S24_L004_R1_001.fastq.gz EL24_S24_L004_R1_001\n",
       "EL54_S54_L004_R1_001 EL54_S54_L004_R1_001.fastq.gz EL54_S54_L004_R1_001\n",
       "EL27_S27_L004_R1_001 EL27_S27_L004_R1_001.fastq.gz EL27_S27_L004_R1_001\n",
       "EL52_S52_L004_R1_001 EL52_S52_L004_R1_001.fastq.gz EL52_S52_L004_R1_001\n",
       "EL26_S26_L004_R1_001 EL26_S26_L004_R1_001.fastq.gz EL26_S26_L004_R1_001\n",
       "EL41_S41_L004_R1_001 EL41_S41_L004_R1_001.fastq.gz EL41_S41_L004_R1_001\n",
       "                     Sample_ID Patient Condition Treatment      \n",
       "EL24_S24_L004_R1_001 S24       MAN_4   CMS       POSTHEM_FASTING\n",
       "EL54_S54_L004_R1_001 S54       MAN_4   CMS       POSTHEM_FASTING\n",
       "EL27_S27_L004_R1_001 S27       MVT_6   CMS       POSTHEM_FASTING\n",
       "EL52_S52_L004_R1_001 S52       MVT_6   CMS       POSTHEM_FASTING\n",
       "EL26_S26_L004_R1_001 S26       NCR_3   CMS       POSTHEM_FASTING\n",
       "EL41_S41_L004_R1_001 S41       NCR_3   CMS       POSTHEM_FASTING\n",
       "                     Condition_Treatment Tissue      Date_Collected\n",
       "EL24_S24_L004_R1_001 CMS_POSTHEM_FASTING Whole Blood 15-Dec-17     \n",
       "EL54_S54_L004_R1_001 CMS_POSTHEM_FASTING Whole Blood 13-Dec-17     \n",
       "EL27_S27_L004_R1_001 CMS_POSTHEM_FASTING Whole Blood 14-Dec-17     \n",
       "EL52_S52_L004_R1_001 CMS_POSTHEM_FASTING Whole Blood 15-Dec-17     \n",
       "EL26_S26_L004_R1_001 CMS_POSTHEM_FASTING Whole Blood 13-Dec-17     \n",
       "EL41_S41_L004_R1_001 CMS_POSTHEM_FASTING Whole Blood 15-Dec-17     \n",
       "                     Physio_State Treatment.1 Pass_QC cpf_include\n",
       "EL24_S24_L004_R1_001 POSTHEM      FASTING              1         \n",
       "EL54_S54_L004_R1_001 POSTHEM      FASTING             NA         \n",
       "EL27_S27_L004_R1_001 POSTHEM      FASTING             NA         \n",
       "EL52_S52_L004_R1_001 POSTHEM      FASTING              1         \n",
       "EL26_S26_L004_R1_001 POSTHEM      FASTING             NA         \n",
       "EL41_S41_L004_R1_001 POSTHEM      FASTING              1         "
      ]
     },
     "metadata": {},
     "output_type": "display_data"
    },
    {
     "data": {
      "text/html": [
       "<table>\n",
       "<caption>A data.frame: 6 × 4</caption>\n",
       "<thead>\n",
       "\t<tr><th scope=col>ENSEMBL</th><th scope=col>ENTREZID</th><th scope=col>SYMBOL</th><th scope=col>gene_type</th></tr>\n",
       "\t<tr><th scope=col>&lt;chr&gt;</th><th scope=col>&lt;chr&gt;</th><th scope=col>&lt;chr&gt;</th><th scope=col>&lt;chr&gt;</th></tr>\n",
       "</thead>\n",
       "<tbody>\n",
       "\t<tr><td>ENSG00000000003</td><td>7105 </td><td>TSPAN6  </td><td>protein_coding</td></tr>\n",
       "\t<tr><td>ENSG00000000005</td><td>64102</td><td>TNMD    </td><td>protein_coding</td></tr>\n",
       "\t<tr><td>ENSG00000000419</td><td>8813 </td><td>DPM1    </td><td>protein_coding</td></tr>\n",
       "\t<tr><td>ENSG00000000457</td><td>57147</td><td>SCYL3   </td><td>protein_coding</td></tr>\n",
       "\t<tr><td>ENSG00000000460</td><td>55732</td><td>C1orf112</td><td>protein_coding</td></tr>\n",
       "\t<tr><td>ENSG00000000938</td><td>2268 </td><td>FGR     </td><td>protein_coding</td></tr>\n",
       "</tbody>\n",
       "</table>\n"
      ],
      "text/latex": [
       "A data.frame: 6 × 4\n",
       "\\begin{tabular}{r|llll}\n",
       " ENSEMBL & ENTREZID & SYMBOL & gene\\_type\\\\\n",
       " <chr> & <chr> & <chr> & <chr>\\\\\n",
       "\\hline\n",
       "\t ENSG00000000003 & 7105  & TSPAN6   & protein\\_coding\\\\\n",
       "\t ENSG00000000005 & 64102 & TNMD     & protein\\_coding\\\\\n",
       "\t ENSG00000000419 & 8813  & DPM1     & protein\\_coding\\\\\n",
       "\t ENSG00000000457 & 57147 & SCYL3    & protein\\_coding\\\\\n",
       "\t ENSG00000000460 & 55732 & C1orf112 & protein\\_coding\\\\\n",
       "\t ENSG00000000938 & 2268  & FGR      & protein\\_coding\\\\\n",
       "\\end{tabular}\n"
      ],
      "text/markdown": [
       "\n",
       "A data.frame: 6 × 4\n",
       "\n",
       "| ENSEMBL &lt;chr&gt; | ENTREZID &lt;chr&gt; | SYMBOL &lt;chr&gt; | gene_type &lt;chr&gt; |\n",
       "|---|---|---|---|\n",
       "| ENSG00000000003 | 7105  | TSPAN6   | protein_coding |\n",
       "| ENSG00000000005 | 64102 | TNMD     | protein_coding |\n",
       "| ENSG00000000419 | 8813  | DPM1     | protein_coding |\n",
       "| ENSG00000000457 | 57147 | SCYL3    | protein_coding |\n",
       "| ENSG00000000460 | 55732 | C1orf112 | protein_coding |\n",
       "| ENSG00000000938 | 2268  | FGR      | protein_coding |\n",
       "\n"
      ],
      "text/plain": [
       "  ENSEMBL         ENTREZID SYMBOL   gene_type     \n",
       "1 ENSG00000000003 7105     TSPAN6   protein_coding\n",
       "2 ENSG00000000005 64102    TNMD     protein_coding\n",
       "3 ENSG00000000419 8813     DPM1     protein_coding\n",
       "4 ENSG00000000457 57147    SCYL3    protein_coding\n",
       "5 ENSG00000000460 55732    C1orf112 protein_coding\n",
       "6 ENSG00000000938 2268     FGR      protein_coding"
      ]
     },
     "metadata": {},
     "output_type": "display_data"
    }
   ],
   "source": [
    "head(gDgeList$counts)\n",
    "head(gDgeList$samples)\n",
    "head(gDgeList$genes)"
   ]
  },
  {
   "cell_type": "markdown",
   "metadata": {},
   "source": [
    "[Table of Contents](#Table-of-Contents)\n",
    "\n",
    "## Summary"
   ]
  },
  {
   "cell_type": "markdown",
   "metadata": {},
   "source": [
    "\n",
    "> **Gene annotations**\n",
    "* Human gene annotations were taken from the Gencode project, Release 29 (GRCh38.p12).\n",
    "\n",
    "> **Gene type filtering**\n",
    "* This analysis was limited to protein-coding genes. Of the original 58676 Ensembl genes in the dataset, 19922 are known coding genes."
   ]
  },
  {
   "cell_type": "markdown",
   "metadata": {},
   "source": [
    "Save the workspace objects for future reference:"
   ]
  },
  {
   "cell_type": "code",
   "execution_count": 38,
   "metadata": {},
   "outputs": [
    {
     "name": "stdout",
     "output_type": "stream",
     "text": [
      "[1] \"Output file: 20191108_simonson_rnaseq_data_integration_20200213120626.RData\"\n"
     ]
    }
   ],
   "source": [
    "writeWorkspaceImage(gInterimDir, gRunName)"
   ]
  },
  {
   "cell_type": "markdown",
   "metadata": {},
   "source": [
    "[Table of Contents](#Table-of-Contents)\n",
    "\n",
    "## Citations\n",
    "\n",
    "1. Law CW, Alhamdoosh M, Su S, Smyth GK, Ritchie ME. RNA-seq analysis is easy as 1-2-3 with limma, Glimma and edgeR. Version 2. F1000Res. 2016 Jun 17 [revised 2016 Jan 1];5:1408.\n",
    "2. Robinson MD, McCarthy DJ and Smyth GK (2010). edgeR: a Bioconductor package for differential expression analysis of digital gene expression data. Bioinformatics 26, 139-140.\n",
    "3. Huber W, Carey VJ, Gentleman R, Anders S, Carlson M, Carvalho BS, Bravo HC, Davis S, Gatto L, Girke T, Gottardo R, Hahne F, Hansen KD, Irizarry RA, Lawrence M, Love MI, MacDonald J, Obenchain V, Oleś AK, Pagès H, Reyes A, Shannon P, Smyth GK, Tenenbaum D, Waldron L, Morgan M. Orchestrating high-throughput genomic analysis with Bioconductor. Nat Methods. 2015 Feb;12(2):115-21.\n",
    "4. R Core Team (2016). R: A language and environment for statistical computing. R Foundation for Statistical Computing, Vienna, Austria. URL https://www.R-project.org/."
   ]
  },
  {
   "cell_type": "markdown",
   "metadata": {},
   "source": [
    "[Table of Contents](#Table-of-Contents)\n",
    "\n",
    "## Appendix: R Session Info"
   ]
  },
  {
   "cell_type": "code",
   "execution_count": 39,
   "metadata": {},
   "outputs": [
    {
     "data": {
      "text/plain": [
       "[1] \"2020-02-13 12:11:23 PST\""
      ]
     },
     "metadata": {},
     "output_type": "display_data"
    },
    {
     "data": {
      "text/plain": [
       "R version 3.5.2 (2018-12-20)\n",
       "Platform: x86_64-apple-darwin15.6.0 (64-bit)\n",
       "Running under: macOS Mojave 10.14.6\n",
       "\n",
       "Matrix products: default\n",
       "BLAS: /Library/Frameworks/R.framework/Versions/3.5/Resources/lib/libRblas.0.dylib\n",
       "LAPACK: /Library/Frameworks/R.framework/Versions/3.5/Resources/lib/libRlapack.dylib\n",
       "\n",
       "locale:\n",
       "[1] en_US.UTF-8/en_US.UTF-8/en_US.UTF-8/C/en_US.UTF-8/en_US.UTF-8\n",
       "\n",
       "attached base packages:\n",
       "[1] parallel  stats4    stats     graphics  grDevices utils     datasets \n",
       "[8] methods   base     \n",
       "\n",
       "other attached packages:\n",
       " [1] edgeR_3.24.3                           \n",
       " [2] limma_3.38.3                           \n",
       " [3] Homo.sapiens_1.3.1                     \n",
       " [4] TxDb.Hsapiens.UCSC.hg19.knownGene_3.2.2\n",
       " [5] org.Hs.eg.db_3.7.0                     \n",
       " [6] GO.db_3.7.0                            \n",
       " [7] OrganismDbi_1.24.0                     \n",
       " [8] GenomicFeatures_1.34.8                 \n",
       " [9] GenomicRanges_1.34.0                   \n",
       "[10] GenomeInfoDb_1.18.2                    \n",
       "[11] AnnotationDbi_1.44.0                   \n",
       "[12] IRanges_2.16.0                         \n",
       "[13] S4Vectors_0.20.1                       \n",
       "[14] Biobase_2.42.0                         \n",
       "[15] BiocGenerics_0.28.0                    \n",
       "\n",
       "loaded via a namespace (and not attached):\n",
       " [1] locfit_1.5-9.1              Rcpp_1.0.3                 \n",
       " [3] lattice_0.20-38             prettyunits_1.1.0          \n",
       " [5] Rsamtools_1.34.1            Biostrings_2.50.2          \n",
       " [7] digest_0.6.23               IRdisplay_0.7.0            \n",
       " [9] R6_2.4.1                    repr_1.0.1                 \n",
       "[11] RSQLite_2.1.4               evaluate_0.14              \n",
       "[13] httr_1.4.1                  pillar_1.4.3               \n",
       "[15] zlibbioc_1.28.0             rlang_0.4.4                \n",
       "[17] progress_1.2.2              uuid_0.1-2                 \n",
       "[19] blob_1.2.0                  Matrix_1.2-17              \n",
       "[21] BiocParallel_1.16.6         stringr_1.4.0              \n",
       "[23] RCurl_1.95-4.12             bit_1.1-14                 \n",
       "[25] biomaRt_2.38.0              DelayedArray_0.8.0         \n",
       "[27] compiler_3.5.2              rtracklayer_1.42.2         \n",
       "[29] pkgconfig_2.0.3             base64enc_0.1-3            \n",
       "[31] htmltools_0.4.0             SummarizedExperiment_1.12.0\n",
       "[33] GenomeInfoDbData_1.2.0      matrixStats_0.55.0         \n",
       "[35] XML_3.98-1.20               crayon_1.3.4               \n",
       "[37] GenomicAlignments_1.18.1    bitops_1.0-6               \n",
       "[39] grid_3.5.2                  RBGL_1.58.2                \n",
       "[41] jsonlite_1.6                DBI_1.0.0                  \n",
       "[43] magrittr_1.5                graph_1.60.0               \n",
       "[45] stringi_1.4.5               XVector_0.22.0             \n",
       "[47] vctrs_0.2.2                 IRkernel_1.0.2             \n",
       "[49] tools_3.5.2                 bit64_0.9-7                \n",
       "[51] hms_0.5.2                   BiocManager_1.30.10        \n",
       "[53] memoise_1.1.0               pbdZMQ_0.3-3               "
      ]
     },
     "metadata": {},
     "output_type": "display_data"
    }
   ],
   "source": [
    "Sys.time()\n",
    "sessionInfo()"
   ]
  },
  {
   "cell_type": "markdown",
   "metadata": {},
   "source": [
    "[Table of Contents](#Table-of-Contents)\n",
    "\n",
    "Copyright (c) 2018 UC San Diego Center for Computational Biology & Bioinformatics under the MIT License\n",
    "\n",
    "Notebook template by Amanda Birmingham"
   ]
  }
 ],
 "metadata": {
  "kernelspec": {
   "display_name": "R",
   "language": "R",
   "name": "ir"
  },
  "language_info": {
   "codemirror_mode": "r",
   "file_extension": ".r",
   "mimetype": "text/x-r-source",
   "name": "R",
   "pygments_lexer": "r",
   "version": "3.5.2"
  }
 },
 "nbformat": 4,
 "nbformat_minor": 2
}
